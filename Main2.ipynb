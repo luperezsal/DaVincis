{
  "cells": [
    {
      "cell_type": "markdown",
      "metadata": {
        "id": "view-in-github",
        "colab_type": "text"
      },
      "source": [
        "<a href=\"https://colab.research.google.com/github/luperezsal/DaVincis/blob/master/Main2.ipynb\" target=\"_parent\"><img src=\"https://colab.research.google.com/assets/colab-badge.svg\" alt=\"Open In Colab\"/></a>"
      ]
    },
    {
      "cell_type": "code",
      "execution_count": null,
      "id": "a9abd4de-1d9d-4847-8be6-e7cfc02ab7e0",
      "metadata": {
        "id": "a9abd4de-1d9d-4847-8be6-e7cfc02ab7e0"
      },
      "outputs": [],
      "source": [
        "import pandas as pd\n",
        "import numpy as np\n",
        "\n",
        "import matplotlib.pyplot as plt\n",
        "import seaborn as sns"
      ]
    },
    {
      "cell_type": "code",
      "execution_count": null,
      "id": "71593f6a-a329-4e9b-a9c0-5d69aa670dcf",
      "metadata": {
        "id": "71593f6a-a329-4e9b-a9c0-5d69aa670dcf"
      },
      "outputs": [],
      "source": [
        "DATA_PATH = 'data/'\n",
        "DATA_PATH = 'https://raw.githubusercontent.com/luperezsal/DaVincis/master/data/'\n",
        "\n",
        "TRAINING_DATA_PATH = f\"{DATA_PATH}training_data/\"\n",
        "TEST_DATA_PATH = f\"{DATA_PATH}test_data/\""
      ]
    },
    {
      "cell_type": "markdown",
      "id": "ef2cdb0c-493f-4587-a680-8a22330711c8",
      "metadata": {
        "id": "ef2cdb0c-493f-4587-a680-8a22330711c8"
      },
      "source": [
        "# Load Data"
      ]
    },
    {
      "cell_type": "code",
      "execution_count": null,
      "id": "78ceb903-fd7d-47e3-a487-ead21b24bda0",
      "metadata": {
        "id": "78ceb903-fd7d-47e3-a487-ead21b24bda0"
      },
      "outputs": [],
      "source": [
        "X_train = pd.read_csv(f\"{TRAINING_DATA_PATH}train_data.csv\", names = ['tweet'])\n",
        "Y_train_1 = pd.read_csv(f\"{TRAINING_DATA_PATH}train_labels_subtask_1.csv\", names = ['Incident'])\n",
        "Y_train_2 = pd.read_csv(f\"{TRAINING_DATA_PATH}train_labels_subtask_2.csv\", header = None)"
      ]
    },
    {
      "cell_type": "markdown",
      "id": "85f8dfa8-991f-454a-b6d3-c8a31be7f858",
      "metadata": {
        "id": "85f8dfa8-991f-454a-b6d3-c8a31be7f858"
      },
      "source": [
        "## Subtask 1"
      ]
    },
    {
      "cell_type": "code",
      "execution_count": null,
      "id": "9cb53dfe-cf72-4112-bf27-51cd8d57833f",
      "metadata": {
        "id": "9cb53dfe-cf72-4112-bf27-51cd8d57833f"
      },
      "outputs": [],
      "source": [
        "Y_train_1_labeled = Y_train_1.copy()"
      ]
    },
    {
      "cell_type": "code",
      "execution_count": null,
      "id": "d1040ec9-90bb-4283-a383-1f2802cd1204",
      "metadata": {
        "id": "d1040ec9-90bb-4283-a383-1f2802cd1204"
      },
      "outputs": [],
      "source": [
        "boolean_mask = Y_train_1 == 0\n",
        "Y_train_1_labeled['Incident'] = Y_train_1_labeled.mask(boolean_mask, 'Violent')\n",
        "\n",
        "boolean_mask = Y_train_1 == 1\n",
        "Y_train_1_labeled['Incident'] = Y_train_1_labeled.mask(boolean_mask, 'Non Violent')\n",
        "\n",
        "Y_train_1_labeled = Y_train_1_labeled['Incident']"
      ]
    },
    {
      "cell_type": "code",
      "execution_count": null,
      "id": "753349ae-d9f3-4401-b369-e8b511c0802c",
      "metadata": {
        "id": "753349ae-d9f3-4401-b369-e8b511c0802c",
        "outputId": "e7d32475-c2ec-4e3a-cc31-348bca1f0463"
      },
      "outputs": [
        {
          "data": {
            "image/png": "[encoded data removed]",
            "text/plain": [
              "<Figure size 432x288 with 1 Axes>"
            ]
          },
          "metadata": {},
          "output_type": "display_data"
        }
      ],
      "source": [
        "sns.set(style=\"darkgrid\")\n",
        "histogram = sns.histplot(Y_train_1_labeled)\n",
        "histogram.tick_params(axis='x', rotation=25)"
      ]
    },
    {
      "cell_type": "code",
      "execution_count": null,
      "id": "dc9162f3-1457-433b-9944-b5e5e68b362e",
      "metadata": {
        "id": "dc9162f3-1457-433b-9944-b5e5e68b362e",
        "outputId": "4ee770bd-739b-494f-8f6d-16a13b6ed2c6"
      },
      "outputs": [
        {
          "name": "stdout",
          "output_type": "stream",
          "text": [
            "None of the above: #Seguridad 🚨🛑 Detuvo policía municipal a dos hombres por robo a casa habitación, en #Puebla. En la acción se recuperaron computadoras portátiles, un equipo de audio, un dispositivo de comunicación móvil, entre otros artículos. Urbano| Noticias  https://t.co/xXKSnVjz8k...  https://t.co/HcoPbEpPLk\n",
            "\n",
            "None of the above: Cali es una trampa en la que uno no busca los accidentes ni que lo asalten a uno, esas dos cosas lo buscan a uno. Me referiré al accidente que me encontró ahora en la noche. Un hueco en un anden de Granada en el que quedé atrapado y casi me rompe el tobillo. Av 9A N con 16 Norte.  https://t.co/KNevmfuuRo\n",
            "\n"
          ]
        }
      ],
      "source": [
        "sample_index = Y_train_1_labeled[Y_train_1_labeled == 'Violent'].index[15]\n",
        "print(f\"None of the above: {X_train.loc[sample_index].tweet}\\n\")\n",
        "\n",
        "sample_index = Y_train_1_labeled[Y_train_1_labeled == 'Non Violent'].index[15]\n",
        "print(f\"None of the above: {X_train.loc[sample_index].tweet}\\n\")"
      ]
    },
    {
      "cell_type": "markdown",
      "id": "07cc03db-a13e-4da7-ab48-04489c7187ef",
      "metadata": {
        "id": "07cc03db-a13e-4da7-ab48-04489c7187ef"
      },
      "source": [
        "# Analysis"
      ]
    },
    {
      "cell_type": "code",
      "execution_count": null,
      "id": "2963f4a4-9b9b-4c3b-a299-eb6ff2607d38",
      "metadata": {
        "id": "2963f4a4-9b9b-4c3b-a299-eb6ff2607d38"
      },
      "outputs": [],
      "source": [
        "from ipywidgets import widgets\n",
        "from IPython.display import display\n",
        "\n",
        "text = widgets.Text()"
      ]
    },
    {
      "cell_type": "markdown",
      "id": "4a8d37f1-18f4-493c-9684-d711733f014b",
      "metadata": {
        "id": "4a8d37f1-18f4-493c-9684-d711733f014b"
      },
      "source": [
        "## Subtask 2"
      ]
    },
    {
      "cell_type": "code",
      "execution_count": null,
      "id": "59a2be30-103f-4ef2-b0f9-7cfd75ac6c15",
      "metadata": {
        "id": "59a2be30-103f-4ef2-b0f9-7cfd75ac6c15"
      },
      "outputs": [],
      "source": [
        "Y_train_2 = pd.read_csv(f\"{TRAINING_DATA_PATH}train_labels_subtask_2.csv\", header=None)"
      ]
    },
    {
      "cell_type": "code",
      "execution_count": null,
      "id": "024958a9-696e-475b-9120-a95bd2f0fcbb",
      "metadata": {
        "id": "024958a9-696e-475b-9120-a95bd2f0fcbb"
      },
      "outputs": [],
      "source": [
        "Y_train_2_labeled = Y_train_2.copy()\n",
        "\n",
        "Y_train_2_labeled['Incident'] = '0'"
      ]
    },
    {
      "cell_type": "markdown",
      "id": "89285a92-c407-4463-a292-e7d2f3b6e1c7",
      "metadata": {
        "id": "89285a92-c407-4463-a292-e7d2f3b6e1c7"
      },
      "source": [
        "A continuación se transforman las etiquetas de entrenamiento de forma `one-hot` a formato String para realizar una representación interpretable de las clases contenidas en el dataset."
      ]
    },
    {
      "cell_type": "code",
      "execution_count": null,
      "id": "4858305a-48f4-4655-876d-3010d0a78c0f",
      "metadata": {
        "id": "4858305a-48f4-4655-876d-3010d0a78c0f"
      },
      "outputs": [],
      "source": [
        "boolean_mask = Y_train_2.idxmax(axis=1) == 0\n",
        "Y_train_2_labeled['Incident'] = Y_train_2_labeled['Incident'].mask(boolean_mask, 'Accident')\n",
        "\n",
        "boolean_mask = Y_train_2.idxmax(axis=1) == 1\n",
        "Y_train_2_labeled['Incident'] = Y_train_2_labeled['Incident'].mask(boolean_mask, 'Homicide')\n",
        "\n",
        "boolean_mask = Y_train_2.idxmax(axis=1) == 2\n",
        "Y_train_2_labeled['Incident'] = Y_train_2_labeled['Incident'].mask(boolean_mask, 'None of the above')\n",
        "\n",
        "boolean_mask = Y_train_2.idxmax(axis=1) == 3\n",
        "Y_train_2_labeled['Incident'] = Y_train_2_labeled['Incident'].mask(boolean_mask, 'Theft')\n",
        "\n",
        "boolean_mask = Y_train_2.idxmax(axis=1) == 4\n",
        "Y_train_2_labeled['Incident'] = Y_train_2_labeled['Incident'].mask(boolean_mask, 'Kidnapping')\n",
        "\n",
        "Y_train_2_labeled = Y_train_2_labeled['Incident']"
      ]
    },
    {
      "cell_type": "code",
      "execution_count": null,
      "id": "906b5482-ff88-4dd7-b294-67bf6111f2b8",
      "metadata": {
        "id": "906b5482-ff88-4dd7-b294-67bf6111f2b8",
        "outputId": "61d76572-5b4e-4fe9-be9b-aeaa6e1a2397"
      },
      "outputs": [
        {
          "data": {
            "image/png": "[encoded data removed]",
            "text/plain": [
              "<Figure size 432x288 with 1 Axes>"
            ]
          },
          "metadata": {},
          "output_type": "display_data"
        }
      ],
      "source": [
        "sns.set(style=\"darkgrid\")\n",
        "histogram = sns.histplot(Y_train_2_labeled)\n",
        "histogram.tick_params(axis='x', rotation=25)"
      ]
    },
    {
      "cell_type": "code",
      "execution_count": null,
      "id": "678abd80-d53e-4f66-baa1-256588446efd",
      "metadata": {
        "id": "678abd80-d53e-4f66-baa1-256588446efd",
        "outputId": "ab4e38e8-80ad-4820-8672-3550ff49a41c"
      },
      "outputs": [
        {
          "name": "stdout",
          "output_type": "stream",
          "text": [
            "Accident example: Nuevo Accidente, carril izquierdo bloqueado en #SeDallas en la I-20 WB en JJ Lemmon Rd, deténgase y regrese el tráfico a Trinity River Brg  https://t.co/6XRbCfL48n\n",
            "\n",
            "Homicide example: 📹 #VIDEOS | Ola de violencia en #Oaxaca: asesinan a magistrado, a una familia y a tres mujeres  https://t.co/CSgnsxcUD1  https://t.co/CgP46rgPLJ\n",
            "\n",
            "None of the above: #Seguridad 🚨🛑 Detuvo policía municipal a dos hombres por robo a casa habitación, en #Puebla. En la acción se recuperaron computadoras portátiles, un equipo de audio, un dispositivo de comunicación móvil, entre otros artículos. Urbano| Noticias  https://t.co/xXKSnVjz8k...  https://t.co/HcoPbEpPLk\n",
            "\n",
            "Theft: #02Julio #Comparte  ¡Ayudemos a recuperarlo!  La mañana de este viernes, se informó el robo de un vehículo Nissan, Tsuru, que es taxi del sitio Ejecutivo, con número económico 120, en la colonia Morelos de Jiutepec, con placas de circulación A671LTH.  https://t.co/RTs0mMjfkB\n",
            "\n",
            "Kidnapping: Myron Eugene Johnson de 26 años está siendo #buscado por la policía de #Statesboro por presuntamente haber provocado un #tiroteo en el pasado 1 de #enero. Johnson también enfrenta cargos por presunto #secuestro, hecho que ocurrió en el 2017. Si usted tiene info: (912) 764 - 9911.  https://t.co/nAI7HOgqJh\n"
          ]
        }
      ],
      "source": [
        "sample_index = Y_train_2_labeled[Y_train_2_labeled == 'Accident'].index[15]\n",
        "print(f\"Accident example: {X_train.loc[sample_index].tweet}\\n\")\n",
        "\n",
        "sample_index = Y_train_2_labeled[Y_train_2_labeled == 'Homicide'].index[15]\n",
        "print(f\"Homicide example: {X_train.loc[sample_index].tweet}\\n\")\n",
        "\n",
        "sample_index = Y_train_2_labeled[Y_train_2_labeled == 'None of the above'].index[15]\n",
        "print(f\"None of the above: {X_train.loc[sample_index].tweet}\\n\")\n",
        "\n",
        "sample_index = Y_train_2_labeled[Y_train_2_labeled == 'Theft'].index[15]\n",
        "print(f\"Theft: {X_train.loc[sample_index].tweet}\\n\")\n",
        "\n",
        "sample_index = Y_train_2_labeled[Y_train_2_labeled == 'Kidnapping'].index[15]\n",
        "print(f\"Kidnapping: {X_train.loc[sample_index].tweet}\")"
      ]
    },
    {
      "cell_type": "markdown",
      "source": [
        "Test colab\n"
      ],
      "metadata": {
        "id": "DqERN9gRD4_g"
      },
      "id": "DqERN9gRD4_g"
    }
  ],
  "metadata": {
    "kernelspec": {
      "display_name": "Python [conda env:TFM]",
      "language": "python",
      "name": "conda-env-TFM-py"
    },
    "language_info": {
      "codemirror_mode": {
        "name": "ipython",
        "version": 3
      },
      "file_extension": ".py",
      "mimetype": "text/x-python",
      "name": "python",
      "nbconvert_exporter": "python",
      "pygments_lexer": "ipython3",
      "version": "3.9.11"
    },
    "colab": {
      "name": "Main2.ipynb",
      "provenance": [],
      "collapsed_sections": [],
      "include_colab_link": true
    }
  },
  "nbformat": 4,
  "nbformat_minor": 5
}