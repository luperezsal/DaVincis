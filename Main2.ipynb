{
  "cells": [
    {
      "cell_type": "markdown",
      "metadata": {
        "id": "view-in-github",
        "colab_type": "text"
      },
      "source": [
        "<a href=\"https://colab.research.google.com/github/luperezsal/DaVincis/blob/master/Main2.ipynb\" target=\"_parent\"><img src=\"https://colab.research.google.com/assets/colab-badge.svg\" alt=\"Open In Colab\"/></a>"
      ]
    },
    {
      "cell_type": "markdown",
      "source": [
        "# Da-Vincis"
      ],
      "metadata": {
        "id": "JO0yUGtjNTip"
      },
      "id": "JO0yUGtjNTip"
    },
    {
      "cell_type": "markdown",
      "source": [
        "- [IberLEF Davincis](https://codalab.lisn.upsaclay.fr/competitions/2638)\n",
        "\n",
        "- [DaVincis Home](https://sites.google.com/view/davincis-iberlef/home)\n",
        "\n",
        "- [GitHub](https://github.com/luperezsal/DaVincis)\n",
        "\n",
        "- [Transformer](https://huggingface.co/nlptown/bert-base-multilingual-uncased-sentiment)\n",
        "\n",
        "\n",
        "DOCS:\n",
        "- [CLS USE](https://engati.medium.com/bert-for-sentiment-analysis-of-chatbot-conversations-fbfdc392d68a)"
      ],
      "metadata": {
        "id": "125a7nm_JtcF"
      },
      "id": "125a7nm_JtcF"
    },
    {
      "cell_type": "code",
      "execution_count": 1,
      "id": "a9abd4de-1d9d-4847-8be6-e7cfc02ab7e0",
      "metadata": {
        "id": "a9abd4de-1d9d-4847-8be6-e7cfc02ab7e0"
      },
      "outputs": [],
      "source": [
        "import pandas as pd\n",
        "import numpy as np\n",
        "\n",
        "import matplotlib.pyplot as plt\n",
        "import seaborn as sns"
      ]
    },
    {
      "cell_type": "code",
      "execution_count": 2,
      "id": "71593f6a-a329-4e9b-a9c0-5d69aa670dcf",
      "metadata": {
        "id": "71593f6a-a329-4e9b-a9c0-5d69aa670dcf"
      },
      "outputs": [],
      "source": [
        "DATA_PATH = 'data/'\n",
        "DATA_PATH = 'https://raw.githubusercontent.com/luperezsal/DaVincis/master/data/'\n",
        "\n",
        "TRAINING_DATA_PATH = f\"{DATA_PATH}training_data/\"\n",
        "TEST_DATA_PATH = f\"{DATA_PATH}test_data/\""
      ]
    },
    {
      "cell_type": "code",
      "source": [
        "TASK = 2\n",
        "# TASK = 2"
      ],
      "metadata": {
        "id": "dUVcLXtYVoQT"
      },
      "id": "dUVcLXtYVoQT",
      "execution_count": 3,
      "outputs": []
    },
    {
      "cell_type": "markdown",
      "id": "ef2cdb0c-493f-4587-a680-8a22330711c8",
      "metadata": {
        "id": "ef2cdb0c-493f-4587-a680-8a22330711c8"
      },
      "source": [
        "# Load Data"
      ]
    },
    {
      "cell_type": "code",
      "execution_count": 4,
      "id": "78ceb903-fd7d-47e3-a487-ead21b24bda0",
      "metadata": {
        "id": "78ceb903-fd7d-47e3-a487-ead21b24bda0"
      },
      "outputs": [],
      "source": [
        "text_col  = 'tweet'\n",
        "class_col = 'incident'\n",
        "\n",
        "# Train Data\n",
        "X_train = pd.read_csv(f\"{TRAINING_DATA_PATH}train_data.csv\", names = [text_col])\n",
        "Y_train_1 = pd.read_csv(f\"{TRAINING_DATA_PATH}train_labels_subtask_1.csv\", names = [class_col])\n",
        "Y_train_2 = pd.read_csv(f\"{TRAINING_DATA_PATH}train_labels_subtask_2.csv\", header = None)\n",
        "\n",
        "# Trial Data\n",
        "X_trial = pd.read_csv(f\"{TRAINING_DATA_PATH}trial_data.csv\", names = [text_col])\n",
        "Y_trial_1 = pd.read_csv(f\"{TRAINING_DATA_PATH}trial_labels_subtask_1.csv\", names = [class_col])\n",
        "Y_trial_2 = pd.read_csv(f\"{TRAINING_DATA_PATH}trial_labels_subtask_2.csv\", header = None)\n",
        "\n",
        "# Test Data\n",
        "X_test = pd.read_csv(f\"{TEST_DATA_PATH}test_data.csv\", names = [text_col])"
      ]
    },
    {
      "cell_type": "code",
      "source": [
        "Y_train_2 = Y_train_2.idxmax(axis=1)\n",
        "Y_trial_2 = Y_trial_2.idxmax(axis=1)"
      ],
      "metadata": {
        "id": "IemJ9WlsT1a8"
      },
      "id": "IemJ9WlsT1a8",
      "execution_count": 5,
      "outputs": []
    },
    {
      "cell_type": "markdown",
      "id": "85f8dfa8-991f-454a-b6d3-c8a31be7f858",
      "metadata": {
        "id": "85f8dfa8-991f-454a-b6d3-c8a31be7f858"
      },
      "source": [
        "## Subtask 1"
      ]
    },
    {
      "cell_type": "code",
      "execution_count": 6,
      "id": "9cb53dfe-cf72-4112-bf27-51cd8d57833f",
      "metadata": {
        "id": "9cb53dfe-cf72-4112-bf27-51cd8d57833f"
      },
      "outputs": [],
      "source": [
        "Y_train_1_labeled = Y_train_1.copy()"
      ]
    },
    {
      "cell_type": "code",
      "execution_count": 7,
      "id": "d1040ec9-90bb-4283-a383-1f2802cd1204",
      "metadata": {
        "id": "d1040ec9-90bb-4283-a383-1f2802cd1204"
      },
      "outputs": [],
      "source": [
        "boolean_mask = Y_train_1 == 0\n",
        "Y_train_1_labeled[class_col] = Y_train_1_labeled.mask(boolean_mask, 'Violent')\n",
        "\n",
        "boolean_mask = Y_train_1 == 1\n",
        "Y_train_1_labeled[class_col] = Y_train_1_labeled.mask(boolean_mask, 'Non Violent')\n",
        "\n",
        "Y_train_1_labeled = Y_train_1_labeled[class_col]"
      ]
    },
    {
      "cell_type": "code",
      "execution_count": 8,
      "id": "753349ae-d9f3-4401-b369-e8b511c0802c",
      "metadata": {
        "id": "753349ae-d9f3-4401-b369-e8b511c0802c",
        "outputId": "5762b6c4-27e3-4929-98ec-60d3c2acbd65",
        "colab": {
          "base_uri": "https://localhost:8080/",
          "height": 311
        }
      },
      "outputs": [
        {
          "output_type": "display_data",
          "data": {
            "text/plain": [
              "<Figure size 432x288 with 1 Axes>"
            ],
            "image/png": "[encoded data removed]"
          },
          "metadata": {}
        }
      ],
      "source": [
        "sns.set(style=\"darkgrid\")\n",
        "histogram = sns.histplot(Y_train_1_labeled)\n",
        "histogram.tick_params(axis='x', rotation=25)"
      ]
    },
    {
      "cell_type": "code",
      "execution_count": 9,
      "id": "dc9162f3-1457-433b-9944-b5e5e68b362e",
      "metadata": {
        "id": "dc9162f3-1457-433b-9944-b5e5e68b362e",
        "outputId": "93bfc757-8bd8-4faa-b791-f56a78a720df",
        "colab": {
          "base_uri": "https://localhost:8080/"
        }
      },
      "outputs": [
        {
          "output_type": "stream",
          "name": "stdout",
          "text": [
            "None of the above: #Seguridad 🚨🛑 Detuvo policía municipal a dos hombres por robo a casa habitación, en #Puebla. En la acción se recuperaron computadoras portátiles, un equipo de audio, un dispositivo de comunicación móvil, entre otros artículos. Urbano| Noticias  https://t.co/xXKSnVjz8k...  https://t.co/HcoPbEpPLk\n",
            "\n",
            "None of the above: Cali es una trampa en la que uno no busca los accidentes ni que lo asalten a uno, esas dos cosas lo buscan a uno. Me referiré al accidente que me encontró ahora en la noche. Un hueco en un anden de Granada en el que quedé atrapado y casi me rompe el tobillo. Av 9A N con 16 Norte.  https://t.co/KNevmfuuRo\n",
            "\n"
          ]
        }
      ],
      "source": [
        "sample_index = Y_train_1_labeled[Y_train_1_labeled == 'Violent'].index[15]\n",
        "print(f\"None of the above: {X_train.loc[sample_index][text_col]}\\n\")\n",
        "\n",
        "sample_index = Y_train_1_labeled[Y_train_1_labeled == 'Non Violent'].index[15]\n",
        "print(f\"None of the above: {X_train.loc[sample_index][text_col]}\\n\")"
      ]
    },
    {
      "cell_type": "markdown",
      "id": "07cc03db-a13e-4da7-ab48-04489c7187ef",
      "metadata": {
        "id": "07cc03db-a13e-4da7-ab48-04489c7187ef"
      },
      "source": [
        "### Analysis"
      ]
    },
    {
      "cell_type": "code",
      "execution_count": 10,
      "id": "2963f4a4-9b9b-4c3b-a299-eb6ff2607d38",
      "metadata": {
        "id": "2963f4a4-9b9b-4c3b-a299-eb6ff2607d38"
      },
      "outputs": [],
      "source": [
        "from ipywidgets import widgets\n",
        "from IPython.display import display\n",
        "\n",
        "text = widgets.Text()"
      ]
    },
    {
      "cell_type": "markdown",
      "id": "4a8d37f1-18f4-493c-9684-d711733f014b",
      "metadata": {
        "id": "4a8d37f1-18f4-493c-9684-d711733f014b"
      },
      "source": [
        "## Subtask 2"
      ]
    },
    {
      "cell_type": "markdown",
      "source": [
        "### Analysis"
      ],
      "metadata": {
        "id": "f_mbwHWTDqGT"
      },
      "id": "f_mbwHWTDqGT"
    },
    {
      "cell_type": "code",
      "execution_count": 11,
      "id": "024958a9-696e-475b-9120-a95bd2f0fcbb",
      "metadata": {
        "id": "024958a9-696e-475b-9120-a95bd2f0fcbb"
      },
      "outputs": [],
      "source": [
        "Y_train_2_labeled = Y_train_2.copy()"
      ]
    },
    {
      "cell_type": "markdown",
      "id": "89285a92-c407-4463-a292-e7d2f3b6e1c7",
      "metadata": {
        "id": "89285a92-c407-4463-a292-e7d2f3b6e1c7"
      },
      "source": [
        "A continuación se transforman las etiquetas de entrenamiento de forma `one-hot` a formato String para realizar una representación interpretable de las clases contenidas en el dataset."
      ]
    },
    {
      "cell_type": "code",
      "execution_count": 12,
      "id": "4858305a-48f4-4655-876d-3010d0a78c0f",
      "metadata": {
        "id": "4858305a-48f4-4655-876d-3010d0a78c0f"
      },
      "outputs": [],
      "source": [
        "Y_train_2_labeled[Y_train_2 == 0] = 'Accident'\n",
        "Y_train_2_labeled[Y_train_2 == 1] = 'Homicide'\n",
        "Y_train_2_labeled[Y_train_2 == 2] = 'None of the above'\n",
        "Y_train_2_labeled[Y_train_2 == 3] = 'Theft'\n",
        "Y_train_2_labeled[Y_train_2 == 4] = 'Kidnapping'"
      ]
    },
    {
      "cell_type": "code",
      "execution_count": 13,
      "id": "906b5482-ff88-4dd7-b294-67bf6111f2b8",
      "metadata": {
        "id": "906b5482-ff88-4dd7-b294-67bf6111f2b8",
        "outputId": "728a5db9-7367-4bc8-8045-638a1c6d2fe0",
        "colab": {
          "base_uri": "https://localhost:8080/",
          "height": 414
        }
      },
      "outputs": [
        {
          "output_type": "execute_result",
          "data": {
            "text/plain": [
              "None of the above    1798\n",
              "Accident             1125\n",
              "Homicide              244\n",
              "Theft                 157\n",
              "Kidnapping             38\n",
              "dtype: int64"
            ]
          },
          "metadata": {},
          "execution_count": 13
        },
        {
          "output_type": "display_data",
          "data": {
            "text/plain": [
              "<Figure size 432x288 with 1 Axes>"
            ],
            "image/png": "[encoded data removed]"
          },
          "metadata": {}
        }
      ],
      "source": [
        "sns.set(style=\"darkgrid\")\n",
        "histogram = sns.histplot(Y_train_2_labeled)\n",
        "histogram.tick_params(axis='x', rotation=25)\n",
        "\n",
        "Y_train_2_labeled.value_counts()"
      ]
    },
    {
      "cell_type": "code",
      "execution_count": 14,
      "id": "678abd80-d53e-4f66-baa1-256588446efd",
      "metadata": {
        "id": "678abd80-d53e-4f66-baa1-256588446efd",
        "outputId": "c05c33a7-43cf-4224-b44d-01c54035de31",
        "colab": {
          "base_uri": "https://localhost:8080/"
        }
      },
      "outputs": [
        {
          "output_type": "stream",
          "name": "stdout",
          "text": [
            "Accident example: Nuevo Accidente, carril izquierdo bloqueado en #SeDallas en la I-20 WB en JJ Lemmon Rd, deténgase y regrese el tráfico a Trinity River Brg  https://t.co/6XRbCfL48n\n",
            "\n",
            "Homicide example: 📹 #VIDEOS | Ola de violencia en #Oaxaca: asesinan a magistrado, a una familia y a tres mujeres  https://t.co/CSgnsxcUD1  https://t.co/CgP46rgPLJ\n",
            "\n",
            "None of the above: #Seguridad 🚨🛑 Detuvo policía municipal a dos hombres por robo a casa habitación, en #Puebla. En la acción se recuperaron computadoras portátiles, un equipo de audio, un dispositivo de comunicación móvil, entre otros artículos. Urbano| Noticias  https://t.co/xXKSnVjz8k...  https://t.co/HcoPbEpPLk\n",
            "\n",
            "Theft: #02Julio #Comparte  ¡Ayudemos a recuperarlo!  La mañana de este viernes, se informó el robo de un vehículo Nissan, Tsuru, que es taxi del sitio Ejecutivo, con número económico 120, en la colonia Morelos de Jiutepec, con placas de circulación A671LTH.  https://t.co/RTs0mMjfkB\n",
            "\n",
            "Kidnapping: Myron Eugene Johnson de 26 años está siendo #buscado por la policía de #Statesboro por presuntamente haber provocado un #tiroteo en el pasado 1 de #enero. Johnson también enfrenta cargos por presunto #secuestro, hecho que ocurrió en el 2017. Si usted tiene info: (912) 764 - 9911.  https://t.co/nAI7HOgqJh\n"
          ]
        }
      ],
      "source": [
        "sample_index = Y_train_2_labeled[Y_train_2_labeled == 'Accident'].index[15]\n",
        "print(f\"Accident example: {X_train.loc[sample_index][text_col]}\\n\")\n",
        "\n",
        "sample_index = Y_train_2_labeled[Y_train_2_labeled == 'Homicide'].index[15]\n",
        "print(f\"Homicide example: {X_train.loc[sample_index][text_col]}\\n\")\n",
        "\n",
        "sample_index = Y_train_2_labeled[Y_train_2_labeled == 'None of the above'].index[15]\n",
        "print(f\"None of the above: {X_train.loc[sample_index][text_col]}\\n\")\n",
        "\n",
        "sample_index = Y_train_2_labeled[Y_train_2_labeled == 'Theft'].index[15]\n",
        "print(f\"Theft: {X_train.loc[sample_index][text_col]}\\n\")\n",
        "\n",
        "sample_index = Y_train_2_labeled[Y_train_2_labeled == 'Kidnapping'].index[15]\n",
        "print(f\"Kidnapping: {X_train.loc[sample_index][text_col]}\")"
      ]
    },
    {
      "cell_type": "markdown",
      "source": [
        "# Resampling"
      ],
      "metadata": {
        "id": "6JGDztnyMn5a"
      },
      "id": "6JGDztnyMn5a"
    },
    {
      "cell_type": "code",
      "source": [
        "train = X_train\n",
        "train[class_col] = Y_train_1 if TASK == 1 else Y_train_2\n",
        "\n",
        "Y_trial = Y_trial_1 if TASK == 1 else Y_train_2"
      ],
      "metadata": {
        "id": "LYMfCY4BtZba"
      },
      "id": "LYMfCY4BtZba",
      "execution_count": 15,
      "outputs": []
    },
    {
      "cell_type": "code",
      "source": [
        "from sklearn.utils import resample\n",
        "\n",
        "if TASK == 2:\n",
        "\n",
        "  accident_class  = train[train[class_col] == 0]\n",
        "  homicide_class  = train[train[class_col] == 1]\n",
        "  none_class   = train[train[class_col] == 2]\n",
        "  theft_class  = train[train[class_col] == 3]\n",
        "  kidnapping_class = train[train[class_col] == 4]\n",
        "\n",
        "  zero_class_downsampled = resample(accident_class,\n",
        "                                    replace=True,\n",
        "                                    n_samples=len(accident_class),\n",
        "                                    random_state=42)\n",
        "\n",
        "  first_class_downsampled = resample(homicide_class,\n",
        "                                      replace=True,\n",
        "                                      n_samples=len(accident_class),\n",
        "                                      random_state=42)\n",
        "\n",
        "  second_class_downsampled = resample(none_class,\n",
        "                                      replace=True,\n",
        "                                      n_samples=len(accident_class),\n",
        "                                      random_state=42)\n",
        "\n",
        "  third_class_downsampled = resample(theft_class,\n",
        "                                      replace=True,\n",
        "                                      n_samples=len(accident_class),\n",
        "                                      random_state=42)\n",
        "\n",
        "  fourth_class_downsampled = resample(kidnapping_class,\n",
        "                                      replace=True,\n",
        "                                      n_samples=len(accident_class),\n",
        "                                      random_state=42)\n",
        "\n",
        "\n",
        "  train = pd.concat([zero_class_downsampled,\n",
        "                    first_class_downsampled,\n",
        "                    second_class_downsampled,\n",
        "                    third_class_downsampled,\n",
        "                    fourth_class_downsampled])"
      ],
      "metadata": {
        "id": "AePF5x9kM0Tc"
      },
      "id": "AePF5x9kM0Tc",
      "execution_count": 16,
      "outputs": []
    },
    {
      "cell_type": "markdown",
      "source": [
        "# Transformer"
      ],
      "metadata": {
        "id": "EOh4hf6OKxHg"
      },
      "id": "EOh4hf6OKxHg"
    },
    {
      "cell_type": "code",
      "source": [
        "# instalar librerías. Esta casilla es últil por ejemplo si se ejecuta el cuaderno en Google Colab\n",
        "# Note que existen otras dependencias como tensorflow, etc. que en este caso se encontrarían ya instaladas\n",
        "%%capture\n",
        "!pip install transformers==4.2.1\n",
        "\n",
        "print('Done!')"
      ],
      "metadata": {
        "id": "X27KcadWK1R2"
      },
      "id": "X27KcadWK1R2",
      "execution_count": 17,
      "outputs": []
    },
    {
      "cell_type": "markdown",
      "source": [
        "## Configuration"
      ],
      "metadata": {
        "id": "GpXo8r-HaSY_"
      },
      "id": "GpXo8r-HaSY_"
    },
    {
      "cell_type": "code",
      "source": [
        "cfg = {}  # diccionario para agrupar configuraciones y variables para su posterior uso\n",
        "cfg['framework'] = 'tf'  # TensorFlow como framework (por cuestiones del formato en los datos)\n",
        "cfg['max_length'] = 512  # máxima longitud de secuencia recomendada por DistilBERT\n",
        "cfg['number_of_additional_features'] = 5076\n",
        "cfg['num_labels'] = 1 if (TASK == 1) else 5"
      ],
      "metadata": {
        "id": "GTYr-6aYdOfa"
      },
      "id": "GTYr-6aYdOfa",
      "execution_count": 18,
      "outputs": []
    },
    {
      "cell_type": "markdown",
      "source": [
        "## Imports"
      ],
      "metadata": {
        "id": "NH77PBExekGi"
      },
      "id": "NH77PBExekGi"
    },
    {
      "cell_type": "code",
      "source": [
        "import tensorflow as tf\n",
        "from sklearn.feature_extraction.text import TfidfVectorizer, CountVectorizer\n",
        "from transformers import AutoTokenizer, AutoModelForSequenceClassification, TFAutoModel, TFAutoModelForSequenceClassification\n",
        "from sklearn.metrics import accuracy_score, classification_report, confusion_matrix, ConfusionMatrixDisplay\n",
        "from sklearn.utils.multiclass import unique_labels\n",
        "import plotly.figure_factory as ff\n",
        "\n"
      ],
      "metadata": {
        "id": "Az8dn228Kpna"
      },
      "id": "Az8dn228Kpna",
      "execution_count": 19,
      "outputs": []
    },
    {
      "cell_type": "markdown",
      "source": [
        "## Spanish Stop-Words"
      ],
      "metadata": {
        "id": "y8AbaeH-bTD4"
      },
      "id": "y8AbaeH-bTD4"
    },
    {
      "cell_type": "code",
      "source": [
        "import nltk\n",
        "from nltk.corpus import stopwords\n",
        "\n",
        "nltk.download('stopwords')"
      ],
      "metadata": {
        "id": "G4gr0XcGbSU7"
      },
      "id": "G4gr0XcGbSU7",
      "execution_count": null,
      "outputs": []
    },
    {
      "cell_type": "markdown",
      "source": [
        ""
      ],
      "metadata": {
        "id": "gFEGo4u4ehA9"
      },
      "id": "gFEGo4u4ehA9"
    },
    {
      "cell_type": "code",
      "source": [
        "# función auxiliar para obtener tensores de entrada al modelo a partir del texto\n",
        "def get_model_inputs(cfg, data):\n",
        "\n",
        "  encodings = cfg['tokenizer'](data,\n",
        "                               truncation = True,\n",
        "                               padding = 'max_length',\n",
        "                               max_length = cfg['max_length'],\n",
        "                               return_tensors = cfg['framework']).data\n",
        "\n",
        "  # obtener representación tf-idf de cada instancia\n",
        "  tfidf = cfg['vectorizer'].transform(data)\n",
        "\n",
        "  tfidf_t = tf.convert_to_tensor(tfidf.toarray(), dtype=tf.float32)\n",
        "\n",
        "  inputs = {'input_ids': encodings['input_ids'],\n",
        "            'attention_mask': encodings['attention_mask'],\n",
        "            'tfidf': tfidf_t\n",
        "            }\n",
        "          \n",
        "  return inputs\n",
        "\n",
        "# función auxiliar para realizar predicciones con el modelo\n",
        "def predict_model(model, cfg, data, pref='m'):\n",
        "  \"\"\"\n",
        "  data: list of the text to predict\n",
        "  pref: identificador para las columnas (labels_[pref], scores_[pref]_[class 1], etc.)\n",
        "  \"\"\"\n",
        "  res = {}\n",
        "  inputs = get_model_inputs(cfg, data)\n",
        "  scores = model.predict(inputs)\n",
        "  \n",
        "  # empaquetar scores dentro de un diccionario que contiene labels, scores clase 1, scores clase 2, .... El nombre de la clase se normaliza a lowercase\n",
        "  if cfg['num_labels']==1: # si es clasificación binaria, este modelo devuelve solo 1 score por instancia\n",
        "    res = {f'scores_{pref}': scores[:,0]}\n",
        "  else:\n",
        "    res = {f'scores_X_{cls}': score for cls, score in zip(cfg['label_binarizer'].classes_, [col for col in scores.T])}\n",
        "\n",
        "  # añadir datos relativos a la predicción\n",
        "  labels = cfg['label_binarizer'].inverse_transform(scores)\n",
        "  res[f'labels_X'] = labels\n",
        "\n",
        "  # convertir a dataframe ordenando las columnas primero el label y luego los scores por clase, las clases ordenadas alfabeticamente\n",
        "  res = pd.DataFrame(res, columns=sorted(list(res.keys())))\n",
        "  return res\n",
        "\n",
        "\n",
        "\n",
        "\n",
        "# función auxiliar que evalúa los resultados de una clasificación\n",
        "def evaluate_model(y_true, y_pred, y_score=None, pos_label='positive'):\n",
        "  print('==== Sumario de la clasificación ==== ')\n",
        "  print(classification_report(y_true, y_pred))\n",
        "\n",
        "  print('Accuracy -> {:.2%}\\n'.format(accuracy_score(y_true, y_pred)))\n",
        "\n",
        "  # graficar matriz de confusión\n",
        "  display_labels = sorted(unique_labels(y_true, y_pred), reverse=True)\n",
        "  cm = confusion_matrix(y_true, y_pred, labels=display_labels)\n",
        "\n",
        "  z = cm[::-1]\n",
        "  x = display_labels\n",
        "  y =  x[::-1].copy()\n",
        "  z_text = [[str(y) for y in x] for x in z]\n",
        "\n",
        "  fig_cm = ff.create_annotated_heatmap(z, x=x, y=y, annotation_text=z_text, colorscale='Viridis')\n",
        "\n",
        "  fig_cm.update_layout(\n",
        "      height=400, width=400,\n",
        "      showlegend=True,\n",
        "      margin={'t':150, 'l':0},\n",
        "      title={'text' : 'Matriz de Confusión', 'x':0.5, 'xanchor': 'center'},\n",
        "      xaxis = {'title_text':'Valor Real', 'tickangle':45, 'side':'top'},\n",
        "      yaxis = {'title_text':'Valor Predicho', 'tickmode':'linear'},\n",
        "  )\n",
        "  fig_cm.show()\n",
        "\n",
        "\n",
        "  # curva roc (definido para clasificación binaria)\n",
        "  fig_roc = None\n",
        "  if y_score is not None:\n",
        "    fpr, tpr, thresholds = roc_curve(y_true, y_score, pos_label=pos_label)\n",
        "    fig_roc = px.area(\n",
        "        x=fpr, y=tpr,\n",
        "        title = f'Curva ROC (AUC={auc(fpr, tpr):.4f})',\n",
        "        labels=dict(x='Ratio Falsos Positivos', y='Ratio Verdaderos Positivos'),\n",
        "        width=400, height=400\n",
        "    )\n",
        "    fig_roc.add_shape(type='line', line=dict(dash='dash'), x0=0, x1=1, y0=0, y1=1)\n",
        "\n",
        "    fig_roc.update_yaxes(scaleanchor=\"x\", scaleratio=1)\n",
        "    fig_roc.update_xaxes(constrain='domain')\n",
        "    \n",
        "    fig_roc.show()\n"
      ],
      "metadata": {
        "id": "GTQGq3kh49iD",
        "colab": {
          "base_uri": "https://localhost:8080/"
        },
        "outputId": "ed96b19c-b916-4b56-8290-49547fda7458"
      },
      "id": "GTQGq3kh49iD",
      "execution_count": 20,
      "outputs": [
        {
          "output_type": "stream",
          "name": "stdout",
          "text": [
            "[nltk_data] Downloading package stopwords to /root/nltk_data...\n",
            "[nltk_data]   Package stopwords is already up-to-date!\n"
          ]
        }
      ]
    },
    {
      "cell_type": "code",
      "source": [
        "def get_model_graph(cfg):\n",
        "  # transformer = TFDistilBertModel.from_pretrained(cfg['transformer_model_name'], return_dict=False).distilbert\n",
        "  transformer = TFAutoModelForSequenceClassification.from_pretrained(\"nlptown/bert-base-multilingual-uncased-sentiment\",\n",
        "                                                                     \n",
        "                                                                     output_hidden_states = True)\n",
        "\n",
        "\n",
        "  input_ids = tf.keras.layers.Input(shape=(cfg['max_length'],), name='input_ids', dtype='int32')\n",
        "\n",
        "\n",
        "  input_masks = tf.keras.layers.Input(shape=(cfg['max_length'],), name='attention_mask', dtype='int32') \n",
        "\n",
        "\n",
        "  input_tfidf = tf.keras.layers.Input(shape = (cfg['number_of_additional_features'],),\n",
        "                                      name = 'tfidf',\n",
        "                                      dtype = 'float32') \n",
        "\n",
        "  transformer_output = transformer(input_ids,\n",
        "                                    attention_mask = input_masks)\n",
        "\n",
        "  last_hidden_state = transformer_output.hidden_states[-1]\n",
        "\n",
        "  transformes_cls_embedding = tf.keras.layers.Lambda(lambda seq: seq[:,0,:], name='lambda')(last_hidden_state)\n",
        "\n",
        "  # return last_hidden_state\n",
        "  # concatenar embedding del token [CLS] con el vector de rasgos adicionales.\n",
        "  features = tf.keras.layers.concatenate([transformes_cls_embedding, input_tfidf], name='concatenate')\n",
        "\n",
        "  # establecer algunos hiper-parámetros del modelo\n",
        "  initializer_range = 0.02\n",
        "  hiden_units = 768\n",
        "  seq_classif_dropout=0.2\n",
        "  initializer = tf.keras.initializers.TruncatedNormal(stddev=initializer_range)\n",
        "\n",
        "  # crear pre_classifier, establecer como su entrada los rasgos concatenados (features).\n",
        "  pre_classifier = tf.keras.layers.Dense(hiden_units, kernel_initializer=initializer, activation='relu', name='pre_classifier')(features) \n",
        "\n",
        "  # crear dropout layer y establecer como su entrada la salida de pre_classifier.\n",
        "  dropout_layer = tf.keras.layers.Dropout(rate=seq_classif_dropout, name='dropout')(pre_classifier)  \n",
        "\n",
        "  # crear classifier layer y establecer como su entrada la salida de la capa dropout.\n",
        "  classifier = tf.keras.layers.Dense(cfg['num_labels'], kernel_initializer=initializer, name='classifier')(dropout_layer)\n",
        "\n",
        "  return input_ids, input_masks, input_tfidf, classifier\n",
        "\n",
        "print('Done!')\n",
        "\n",
        "# something = get_model_graph(cfg)"
      ],
      "metadata": {
        "id": "xhaLQgYbFc3h",
        "colab": {
          "base_uri": "https://localhost:8080/"
        },
        "outputId": "dec45d0c-2ee1-4f77-f7c4-7daffc29402e"
      },
      "id": "xhaLQgYbFc3h",
      "execution_count": 21,
      "outputs": [
        {
          "output_type": "stream",
          "name": "stdout",
          "text": [
            "Done!\n"
          ]
        }
      ]
    },
    {
      "cell_type": "markdown",
      "source": [
        "### Instanciar tokenizador, tf-idf vectorizer, etc."
      ],
      "metadata": {
        "id": "ob0NQPcu712b"
      },
      "id": "ob0NQPcu712b"
    },
    {
      "cell_type": "code",
      "source": [
        "from sklearn import preprocessing\n",
        "\n",
        "\n",
        "cfg['tokenizer'] = AutoTokenizer.from_pretrained(\"nlptown/bert-base-multilingual-uncased-sentiment\")\n",
        "\n",
        "# instanciar TfidfVectorizer\n",
        "cfg['vectorizer'] = TfidfVectorizer(stop_words = stopwords.words('spanish'),\n",
        "                                    max_features = cfg['number_of_additional_features'])\n",
        "\n",
        "# entrenar TfidfVectorizer\n",
        "cfg['vectorizer'].fit(train[text_col].to_list())\n",
        "\n",
        "cfg['label_binarizer'] = preprocessing.LabelBinarizer() \n",
        "\n",
        "# entrenar LabelBinarizer\n",
        "cfg['label_binarizer'].fit(train[class_col])"
      ],
      "metadata": {
        "id": "QzY8BCX470X_",
        "colab": {
          "base_uri": "https://localhost:8080/"
        },
        "outputId": "895e88f8-234c-42a2-cd28-43f88db68ab0"
      },
      "id": "QzY8BCX470X_",
      "execution_count": 22,
      "outputs": [
        {
          "output_type": "execute_result",
          "data": {
            "text/plain": [
              "LabelBinarizer()"
            ]
          },
          "metadata": {},
          "execution_count": 22
        }
      ]
    },
    {
      "cell_type": "markdown",
      "source": [
        "### Transformar a onehot"
      ],
      "metadata": {
        "id": "nKM-VJk-DOcT"
      },
      "id": "nKM-VJk-DOcT"
    },
    {
      "cell_type": "code",
      "source": [
        "# obtener codificación one-hot\n",
        "train_blabels = cfg['label_binarizer'].transform(train[class_col])\n",
        "trial_blabels = cfg['label_binarizer'].transform(Y_trial_2)\n",
        "\n",
        "train_blabels_t = tf.convert_to_tensor(train_blabels, dtype='int32')\n",
        "trial_blabels_t = tf.convert_to_tensor(trial_blabels, dtype='int32')\n",
        "\n",
        "# obtener diccionarios representando las entradas del modelo\n",
        "train_inputs = get_model_inputs(cfg, train[text_col].to_list())\n",
        "trial_inputs = get_model_inputs(cfg, X_trial[text_col].to_list())"
      ],
      "metadata": {
        "id": "4unKS7Xk90kO"
      },
      "id": "4unKS7Xk90kO",
      "execution_count": 23,
      "outputs": []
    },
    {
      "cell_type": "code",
      "source": [
        "def configure_model(input_ids, input_masks, input_tfidf, classifier):\n",
        "  # definir algoritmo de optimización\n",
        "  optimizer = tf.keras.optimizers.Adam(learning_rate=5e-5)\n",
        "\n",
        "  # definir función loss. Debe cuidarse que sea coherente con la salida esperada del modelo (vector de num_labels elementos)\n",
        "  # y el formato de los ejemplos (vector one-hot de num_labels componentes para codificar las categorías)\n",
        "  if (TASK == 1):\n",
        "    loss = tf.keras.losses.BinaryCrossentropy(from_logits=True)\n",
        "  else :\n",
        "    loss = tf.keras.losses.CategoricalCrossentropy(from_logits=True) \n",
        "\n",
        "  # crear el modelo\n",
        "  model = tf.keras.Model(inputs=[input_ids, input_masks, input_tfidf], outputs=classifier, name='distilbert-custom') # conectar todos los nodos en un modelo\n",
        "\n",
        "  # compilar el modelo, indicando otras métricas que se desee monitorear\n",
        "  # La métrica debe ser apropiada para el tipo de problema (clasificación binaria o multiclase)\n",
        "  metric = ['binary_accuracy'] if (TASK == 1) else ['categorical_accuracy']\n",
        "\n",
        "  model.compile(optimizer = optimizer,\n",
        "                loss = loss,\n",
        "                metrics = metric)\n",
        "\n",
        "  return model\n",
        "\n",
        "print('Done!')"
      ],
      "metadata": {
        "id": "ff-O7cKT1Txj",
        "colab": {
          "base_uri": "https://localhost:8080/"
        },
        "outputId": "bc981ae8-6232-4e79-a770-a0c04fb920d4"
      },
      "id": "ff-O7cKT1Txj",
      "execution_count": 24,
      "outputs": [
        {
          "output_type": "stream",
          "name": "stdout",
          "text": [
            "Done!\n"
          ]
        }
      ]
    },
    {
      "cell_type": "code",
      "source": [
        "input_ids, input_masks, input_tfidf, classifier = get_model_graph(cfg)\n",
        "model = configure_model(input_ids, input_masks, input_tfidf, classifier)\n",
        "\n",
        "# imprimir sumario del modelo \n",
        "model.summary()\n",
        "\n",
        "# graficar el modelo (opcional)\n",
        "# tf.keras.utils.plot_model(model) \n",
        "\n",
        "print('Done!')"
      ],
      "metadata": {
        "id": "l7i6gtDR4GVH",
        "colab": {
          "base_uri": "https://localhost:8080/"
        },
        "outputId": "44af1799-fe6e-4cb2-e193-4bb98b6d1a3e"
      },
      "id": "l7i6gtDR4GVH",
      "execution_count": 25,
      "outputs": [
        {
          "output_type": "stream",
          "name": "stderr",
          "text": [
            "All model checkpoint layers were used when initializing TFBertForSequenceClassification.\n",
            "\n",
            "All the layers of TFBertForSequenceClassification were initialized from the model checkpoint at nlptown/bert-base-multilingual-uncased-sentiment.\n",
            "If your task is similar to the task the model of the checkpoint was trained on, you can already use TFBertForSequenceClassification for predictions without further training.\n"
          ]
        },
        {
          "output_type": "stream",
          "name": "stdout",
          "text": [
            "WARNING:tensorflow:AutoGraph could not transform <bound method Socket.send of <zmq.Socket(zmq.PUSH) at 0x7f182e5a82f0>> and will run it as-is.\n",
            "Please report this to the TensorFlow team. When filing the bug, set the verbosity to 10 (on Linux, `export AUTOGRAPH_VERBOSITY=10`) and attach the full output.\n",
            "Cause: module, class, method, function, traceback, frame, or code object was expected, got cython_function_or_method\n",
            "To silence this warning, decorate the function with @tf.autograph.experimental.do_not_convert\n",
            "WARNING: AutoGraph could not transform <bound method Socket.send of <zmq.Socket(zmq.PUSH) at 0x7f182e5a82f0>> and will run it as-is.\n",
            "Please report this to the TensorFlow team. When filing the bug, set the verbosity to 10 (on Linux, `export AUTOGRAPH_VERBOSITY=10`) and attach the full output.\n",
            "Cause: module, class, method, function, traceback, frame, or code object was expected, got cython_function_or_method\n",
            "To silence this warning, decorate the function with @tf.autograph.experimental.do_not_convert\n"
          ]
        },
        {
          "output_type": "stream",
          "name": "stderr",
          "text": [
            "The parameters `output_attentions`, `output_hidden_states` and `use_cache` cannot be updated when calling a model.They have to be set to True/False in the config object (i.e.: `config=XConfig.from_pretrained('name', output_attentions=True)`).\n"
          ]
        },
        {
          "output_type": "stream",
          "name": "stdout",
          "text": [
            "WARNING:tensorflow:AutoGraph could not transform <function wrap at 0x7f183c8810e0> and will run it as-is.\n",
            "Cause: while/else statement not yet supported\n",
            "To silence this warning, decorate the function with @tf.autograph.experimental.do_not_convert\n"
          ]
        },
        {
          "output_type": "stream",
          "name": "stderr",
          "text": [
            "The parameter `return_dict` cannot be set in graph mode and will always be set to `True`.\n"
          ]
        },
        {
          "output_type": "stream",
          "name": "stdout",
          "text": [
            "WARNING: AutoGraph could not transform <function wrap at 0x7f183c8810e0> and will run it as-is.\n",
            "Cause: while/else statement not yet supported\n",
            "To silence this warning, decorate the function with @tf.autograph.experimental.do_not_convert\n",
            "Model: \"distilbert-custom\"\n",
            "__________________________________________________________________________________________________\n",
            " Layer (type)                   Output Shape         Param #     Connected to                     \n",
            "==================================================================================================\n",
            " input_ids (InputLayer)         [(None, 512)]        0           []                               \n",
            "                                                                                                  \n",
            " attention_mask (InputLayer)    [(None, 512)]        0           []                               \n",
            "                                                                                                  \n",
            " tf_bert_for_sequence_classific  TFSequenceClassifie  167360261  ['input_ids[0][0]',              \n",
            " ation (TFBertForSequenceClassi  rOutput(loss=None,               'attention_mask[0][0]']         \n",
            " fication)                      logits=(None, 5),                                                 \n",
            "                                 hidden_states=((No                                               \n",
            "                                ne, 512, 768),                                                    \n",
            "                                 (None, 512, 768),                                                \n",
            "                                 (None, 512, 768),                                                \n",
            "                                 (None, 512, 768),                                                \n",
            "                                 (None, 512, 768),                                                \n",
            "                                 (None, 512, 768),                                                \n",
            "                                 (None, 512, 768),                                                \n",
            "                                 (None, 512, 768),                                                \n",
            "                                 (None, 512, 768),                                                \n",
            "                                 (None, 512, 768),                                                \n",
            "                                 (None, 512, 768),                                                \n",
            "                                 (None, 512, 768),                                                \n",
            "                                 (None, 512, 768)),                                               \n",
            "                                 attentions=None)                                                 \n",
            "                                                                                                  \n",
            " lambda (Lambda)                (None, 768)          0           ['tf_bert_for_sequence_classifica\n",
            "                                                                 tion[0][12]']                    \n",
            "                                                                                                  \n",
            " tfidf (InputLayer)             [(None, 5076)]       0           []                               \n",
            "                                                                                                  \n",
            " concatenate (Concatenate)      (None, 5844)         0           ['lambda[0][0]',                 \n",
            "                                                                  'tfidf[0][0]']                  \n",
            "                                                                                                  \n",
            " pre_classifier (Dense)         (None, 768)          4488960     ['concatenate[0][0]']            \n",
            "                                                                                                  \n",
            " dropout (Dropout)              (None, 768)          0           ['pre_classifier[0][0]']         \n",
            "                                                                                                  \n",
            " classifier (Dense)             (None, 5)            3845        ['dropout[0][0]']                \n",
            "                                                                                                  \n",
            "==================================================================================================\n",
            "Total params: 171,853,066\n",
            "Trainable params: 171,853,066\n",
            "Non-trainable params: 0\n",
            "__________________________________________________________________________________________________\n",
            "Done!\n"
          ]
        }
      ]
    },
    {
      "cell_type": "markdown",
      "source": [
        "## Train Model"
      ],
      "metadata": {
        "id": "dyCvgu-QfOjY"
      },
      "id": "dyCvgu-QfOjY"
    },
    {
      "cell_type": "code",
      "source": [
        "from tqdm import tqdm\n",
        "\n",
        "# gpu_options = tf.GPUOptions(allow_growth=True)\n",
        "# session = tf.InteractiveSession(config=tf.ConfigProto(gpu_options=gpu_options))\n",
        "\n",
        "epochs_max = 2\n",
        "epochs_to_save = 1\n",
        "batch_size = 8\n",
        "\n",
        "# ciclo de entrenamiento y guardar checkpoints\n",
        "for epoch in tqdm(range(0, epochs_max, epochs_to_save)):\n",
        "    print('Training model, epochs {0} - {1}'.format(epoch+1, epoch+epochs_to_save))\n",
        "    \n",
        "    # entrenar el modelo. Opcionalmente, se puede suministrar datos de validación => validation_data=(val_inputs,val_blabels_t )\n",
        "    model.fit(train_inputs,\n",
        "              y = train_blabels_t,\n",
        "              epochs = epochs_to_save,\n",
        "              batch_size = batch_size,\n",
        "              validation_data = (trial_inputs, trial_blabels_t))\n",
        "    \n",
        "    model.save_weights(f\"task_{TASK}\", save_format=\"tf\")\n",
        "    \n",
        "print('Done!')"
      ],
      "metadata": {
        "id": "Ay9s_omP4HJX",
        "colab": {
          "base_uri": "https://localhost:8080/"
        },
        "outputId": "0d25a99d-50d1-4593-c6e5-b6a366e187bb"
      },
      "id": "Ay9s_omP4HJX",
      "execution_count": 28,
      "outputs": [
        {
          "output_type": "stream",
          "name": "stderr",
          "text": [
            "\r  0%|          | 0/2 [00:00<?, ?it/s]"
          ]
        },
        {
          "output_type": "stream",
          "name": "stdout",
          "text": [
            "Training model, epochs 1 - 1\n"
          ]
        },
        {
          "output_type": "stream",
          "name": "stderr",
          "text": [
            "The parameters `output_attentions`, `output_hidden_states` and `use_cache` cannot be updated when calling a model.They have to be set to True/False in the config object (i.e.: `config=XConfig.from_pretrained('name', output_attentions=True)`).\n",
            "The parameter `return_dict` cannot be set in graph mode and will always be set to `True`.\n"
          ]
        },
        {
          "output_type": "stream",
          "name": "stdout",
          "text": [
            "WARNING:tensorflow:Gradients do not exist for variables ['tf_bert_for_sequence_classification/bert/pooler/dense/kernel:0', 'tf_bert_for_sequence_classification/bert/pooler/dense/bias:0', 'tf_bert_for_sequence_classification/classifier/kernel:0', 'tf_bert_for_sequence_classification/classifier/bias:0'] when minimizing the loss. If you're using `model.compile()`, did you forget to provide a `loss`argument?\n"
          ]
        },
        {
          "output_type": "stream",
          "name": "stderr",
          "text": [
            "The parameters `output_attentions`, `output_hidden_states` and `use_cache` cannot be updated when calling a model.They have to be set to True/False in the config object (i.e.: `config=XConfig.from_pretrained('name', output_attentions=True)`).\n",
            "The parameter `return_dict` cannot be set in graph mode and will always be set to `True`.\n"
          ]
        },
        {
          "output_type": "stream",
          "name": "stdout",
          "text": [
            "WARNING:tensorflow:Gradients do not exist for variables ['tf_bert_for_sequence_classification/bert/pooler/dense/kernel:0', 'tf_bert_for_sequence_classification/bert/pooler/dense/bias:0', 'tf_bert_for_sequence_classification/classifier/kernel:0', 'tf_bert_for_sequence_classification/classifier/bias:0'] when minimizing the loss. If you're using `model.compile()`, did you forget to provide a `loss`argument?\n",
            "704/704 [==============================] - ETA: 0s - loss: 0.9658 - categorical_accuracy: 0.6628"
          ]
        },
        {
          "output_type": "stream",
          "name": "stderr",
          "text": [
            "The parameters `output_attentions`, `output_hidden_states` and `use_cache` cannot be updated when calling a model.They have to be set to True/False in the config object (i.e.: `config=XConfig.from_pretrained('name', output_attentions=True)`).\n",
            "The parameter `return_dict` cannot be set in graph mode and will always be set to `True`.\n"
          ]
        },
        {
          "output_type": "stream",
          "name": "stdout",
          "text": [
            "\b\b\b\b\b\b\b\b\b\b\b\b\b\b\b\b\b\b\b\b\b\b\b\b\b\b\b\b\b\b\b\b\b\b\b\b\b\b\b\b\b\b\b\b\b\b\b\b\b\b\b\b\b\b\b\b\b\b\b\b\b\b\b\b\b\b\b\b\b\b\b\b\b\b\b\b\b\b\b\b\b\b\b\b\b\b\b\b\b\b\b\b\b\b\b\b\r704/704 [==============================] - 689s 962ms/step - loss: 0.9658 - categorical_accuracy: 0.6628 - val_loss: 0.7089 - val_categorical_accuracy: 0.7400\n"
          ]
        },
        {
          "output_type": "stream",
          "name": "stderr",
          "text": [
            "\r 50%|█████     | 1/2 [11:43<11:43, 703.32s/it]"
          ]
        },
        {
          "output_type": "stream",
          "name": "stdout",
          "text": [
            "Training model, epochs 2 - 2\n",
            "704/704 [==============================] - 676s 960ms/step - loss: 0.5207 - categorical_accuracy: 0.8368 - val_loss: 0.6866 - val_categorical_accuracy: 0.7200\n"
          ]
        },
        {
          "output_type": "stream",
          "name": "stderr",
          "text": [
            "100%|██████████| 2/2 [23:14<00:00, 697.17s/it]"
          ]
        },
        {
          "output_type": "stream",
          "name": "stdout",
          "text": [
            "Done!\n"
          ]
        },
        {
          "output_type": "stream",
          "name": "stderr",
          "text": [
            "\n"
          ]
        }
      ]
    },
    {
      "cell_type": "markdown",
      "source": [
        "## Results"
      ],
      "metadata": {
        "id": "UtI5md-FhyJI"
      },
      "id": "UtI5md-FhyJI"
    },
    {
      "cell_type": "markdown",
      "source": [
        "### Human Labels"
      ],
      "metadata": {
        "id": "8p--tvqphz6-"
      },
      "id": "8p--tvqphz6-"
    },
    {
      "cell_type": "code",
      "source": [
        "REPLACE_LABELS =  {0: 'Accident',\n",
        "                   1: 'Homicide',\n",
        "                   2: 'None of the above',\n",
        "                   3: 'Theft',\n",
        "                   4: 'Kidnapping'\n",
        "}"
      ],
      "metadata": {
        "id": "V3Eo7PnW4I7w"
      },
      "id": "V3Eo7PnW4I7w",
      "execution_count": 29,
      "outputs": []
    },
    {
      "cell_type": "markdown",
      "source": [
        "### Training Data"
      ],
      "metadata": {
        "id": "zDw5jDy4huy0"
      },
      "id": "zDw5jDy4huy0"
    },
    {
      "cell_type": "code",
      "source": [
        "# predecir los datos de entrenamiento\n",
        "data = train[text_col]\n",
        "true_labels = train[class_col]\n",
        "\n",
        "m_pred = predict_model(model, cfg, data.to_list(), pref='m')\n",
        "\n",
        "evaluate_model(m_pred['labels_X'].replace(REPLACE_LABELS),\n",
        "               true_labels.replace(REPLACE_LABELS))  # notar que en este caso se no suministran los scores\n",
        "\n",
        "print('Done!')"
      ],
      "metadata": {
        "id": "k1gex6orJIpV",
        "colab": {
          "base_uri": "https://localhost:8080/",
          "height": 750
        },
        "outputId": "e49300d7-1146-4cbf-aa57-e1e4fb3845bb"
      },
      "id": "k1gex6orJIpV",
      "execution_count": 30,
      "outputs": [
        {
          "output_type": "stream",
          "name": "stderr",
          "text": [
            "The parameters `output_attentions`, `output_hidden_states` and `use_cache` cannot be updated when calling a model.They have to be set to True/False in the config object (i.e.: `config=XConfig.from_pretrained('name', output_attentions=True)`).\n",
            "The parameter `return_dict` cannot be set in graph mode and will always be set to `True`.\n"
          ]
        },
        {
          "output_type": "stream",
          "name": "stdout",
          "text": [
            "==== Sumario de la clasificación ==== \n",
            "                   precision    recall  f1-score   support\n",
            "\n",
            "         Accident       0.89      0.81      0.85      1248\n",
            "         Homicide       0.92      0.93      0.92      1116\n",
            "       Kidnapping       1.00      1.00      1.00      1128\n",
            "None of the above       0.77      0.91      0.83       945\n",
            "            Theft       0.95      0.90      0.92      1188\n",
            "\n",
            "         accuracy                           0.91      5625\n",
            "        macro avg       0.91      0.91      0.90      5625\n",
            "     weighted avg       0.91      0.91      0.91      5625\n",
            "\n",
            "Accuracy -> 90.52%\n",
            "\n"
          ]
        },
        {
          "output_type": "display_data",
          "data": {
            "text/html": [
              "<html>\n",
              "<head><meta charset=\"utf-8\" /></head>\n",
              "<body>\n",
              "    <div>            <script src=\"https://cdnjs.cloudflare.com/ajax/libs/mathjax/2.7.5/MathJax.js?config=TeX-AMS-MML_SVG\"></script><script type=\"text/javascript\">if (window.MathJax) {MathJax.Hub.Config({SVG: {font: \"STIX-Web\"}});}</script>                <script type=\"text/javascript\">window.PlotlyConfig = {MathJaxConfig: 'local'};</script>\n",
              "        <script src=\"https://cdn.plot.ly/plotly-2.8.3.min.js\"></script>                <div id=\"b7134d05-bbc1-412e-a9be-72cf6ae66bed\" class=\"plotly-graph-div\" style=\"height:400px; width:400px;\"></div>            <script type=\"text/javascript\">                                    window.PLOTLYENV=window.PLOTLYENV || {};                                    if (document.getElementById(\"b7134d05-bbc1-412e-a9be-72cf6ae66bed\")) {                    Plotly.newPlot(                        \"b7134d05-bbc1-412e-a9be-72cf6ae66bed\",                        [{\"colorscale\":[[0.0,\"#440154\"],[0.1111111111111111,\"#482878\"],[0.2222222222222222,\"#3e4989\"],[0.3333333333333333,\"#31688e\"],[0.4444444444444444,\"#26828e\"],[0.5555555555555556,\"#1f9e89\"],[0.6666666666666666,\"#35b779\"],[0.7777777777777778,\"#6ece58\"],[0.8888888888888888,\"#b5de2b\"],[1.0,\"#fde725\"]],\"reversescale\":false,\"showscale\":false,\"x\":[\"Theft\",\"None of the above\",\"Kidnapping\",\"Homicide\",\"Accident\"],\"y\":[\"Accident\",\"Homicide\",\"Kidnapping\",\"None of the above\",\"Theft\"],\"z\":[[53,150,0,40,1005],[2,55,0,1034,25],[0,1,1125,0,2],[4,862,0,23,56],[1066,57,0,28,37]],\"type\":\"heatmap\"}],                        {\"annotations\":[{\"font\":{\"color\":\"#FFFFFF\"},\"showarrow\":false,\"text\":\"53\",\"x\":\"Theft\",\"xref\":\"x\",\"y\":\"Accident\",\"yref\":\"y\"},{\"font\":{\"color\":\"#FFFFFF\"},\"showarrow\":false,\"text\":\"150\",\"x\":\"None of the above\",\"xref\":\"x\",\"y\":\"Accident\",\"yref\":\"y\"},{\"font\":{\"color\":\"#FFFFFF\"},\"showarrow\":false,\"text\":\"0\",\"x\":\"Kidnapping\",\"xref\":\"x\",\"y\":\"Accident\",\"yref\":\"y\"},{\"font\":{\"color\":\"#FFFFFF\"},\"showarrow\":false,\"text\":\"40\",\"x\":\"Homicide\",\"xref\":\"x\",\"y\":\"Accident\",\"yref\":\"y\"},{\"font\":{\"color\":\"#000000\"},\"showarrow\":false,\"text\":\"1005\",\"x\":\"Accident\",\"xref\":\"x\",\"y\":\"Accident\",\"yref\":\"y\"},{\"font\":{\"color\":\"#FFFFFF\"},\"showarrow\":false,\"text\":\"2\",\"x\":\"Theft\",\"xref\":\"x\",\"y\":\"Homicide\",\"yref\":\"y\"},{\"font\":{\"color\":\"#FFFFFF\"},\"showarrow\":false,\"text\":\"55\",\"x\":\"None of the above\",\"xref\":\"x\",\"y\":\"Homicide\",\"yref\":\"y\"},{\"font\":{\"color\":\"#FFFFFF\"},\"showarrow\":false,\"text\":\"0\",\"x\":\"Kidnapping\",\"xref\":\"x\",\"y\":\"Homicide\",\"yref\":\"y\"},{\"font\":{\"color\":\"#000000\"},\"showarrow\":false,\"text\":\"1034\",\"x\":\"Homicide\",\"xref\":\"x\",\"y\":\"Homicide\",\"yref\":\"y\"},{\"font\":{\"color\":\"#FFFFFF\"},\"showarrow\":false,\"text\":\"25\",\"x\":\"Accident\",\"xref\":\"x\",\"y\":\"Homicide\",\"yref\":\"y\"},{\"font\":{\"color\":\"#FFFFFF\"},\"showarrow\":false,\"text\":\"0\",\"x\":\"Theft\",\"xref\":\"x\",\"y\":\"Kidnapping\",\"yref\":\"y\"},{\"font\":{\"color\":\"#FFFFFF\"},\"showarrow\":false,\"text\":\"1\",\"x\":\"None of the above\",\"xref\":\"x\",\"y\":\"Kidnapping\",\"yref\":\"y\"},{\"font\":{\"color\":\"#000000\"},\"showarrow\":false,\"text\":\"1125\",\"x\":\"Kidnapping\",\"xref\":\"x\",\"y\":\"Kidnapping\",\"yref\":\"y\"},{\"font\":{\"color\":\"#FFFFFF\"},\"showarrow\":false,\"text\":\"0\",\"x\":\"Homicide\",\"xref\":\"x\",\"y\":\"Kidnapping\",\"yref\":\"y\"},{\"font\":{\"color\":\"#FFFFFF\"},\"showarrow\":false,\"text\":\"2\",\"x\":\"Accident\",\"xref\":\"x\",\"y\":\"Kidnapping\",\"yref\":\"y\"},{\"font\":{\"color\":\"#FFFFFF\"},\"showarrow\":false,\"text\":\"4\",\"x\":\"Theft\",\"xref\":\"x\",\"y\":\"None of the above\",\"yref\":\"y\"},{\"font\":{\"color\":\"#000000\"},\"showarrow\":false,\"text\":\"862\",\"x\":\"None of the above\",\"xref\":\"x\",\"y\":\"None of the above\",\"yref\":\"y\"},{\"font\":{\"color\":\"#FFFFFF\"},\"showarrow\":false,\"text\":\"0\",\"x\":\"Kidnapping\",\"xref\":\"x\",\"y\":\"None of the above\",\"yref\":\"y\"},{\"font\":{\"color\":\"#FFFFFF\"},\"showarrow\":false,\"text\":\"23\",\"x\":\"Homicide\",\"xref\":\"x\",\"y\":\"None of the above\",\"yref\":\"y\"},{\"font\":{\"color\":\"#FFFFFF\"},\"showarrow\":false,\"text\":\"56\",\"x\":\"Accident\",\"xref\":\"x\",\"y\":\"None of the above\",\"yref\":\"y\"},{\"font\":{\"color\":\"#000000\"},\"showarrow\":false,\"text\":\"1066\",\"x\":\"Theft\",\"xref\":\"x\",\"y\":\"Theft\",\"yref\":\"y\"},{\"font\":{\"color\":\"#FFFFFF\"},\"showarrow\":false,\"text\":\"57\",\"x\":\"None of the above\",\"xref\":\"x\",\"y\":\"Theft\",\"yref\":\"y\"},{\"font\":{\"color\":\"#FFFFFF\"},\"showarrow\":false,\"text\":\"0\",\"x\":\"Kidnapping\",\"xref\":\"x\",\"y\":\"Theft\",\"yref\":\"y\"},{\"font\":{\"color\":\"#FFFFFF\"},\"showarrow\":false,\"text\":\"28\",\"x\":\"Homicide\",\"xref\":\"x\",\"y\":\"Theft\",\"yref\":\"y\"},{\"font\":{\"color\":\"#FFFFFF\"},\"showarrow\":false,\"text\":\"37\",\"x\":\"Accident\",\"xref\":\"x\",\"y\":\"Theft\",\"yref\":\"y\"}],\"xaxis\":{\"dtick\":1,\"gridcolor\":\"rgb(0, 0, 0)\",\"side\":\"top\",\"ticks\":\"\",\"title\":{\"text\":\"Valor Real\"},\"tickangle\":45},\"yaxis\":{\"dtick\":1,\"ticks\":\"\",\"ticksuffix\":\"  \",\"title\":{\"text\":\"Valor Predicho\"},\"tickmode\":\"linear\"},\"template\":{\"data\":{\"bar\":[{\"error_x\":{\"color\":\"#2a3f5f\"},\"error_y\":{\"color\":\"#2a3f5f\"},\"marker\":{\"line\":{\"color\":\"#E5ECF6\",\"width\":0.5},\"pattern\":{\"fillmode\":\"overlay\",\"size\":10,\"solidity\":0.2}},\"type\":\"bar\"}],\"barpolar\":[{\"marker\":{\"line\":{\"color\":\"#E5ECF6\",\"width\":0.5},\"pattern\":{\"fillmode\":\"overlay\",\"size\":10,\"solidity\":0.2}},\"type\":\"barpolar\"}],\"carpet\":[{\"aaxis\":{\"endlinecolor\":\"#2a3f5f\",\"gridcolor\":\"white\",\"linecolor\":\"white\",\"minorgridcolor\":\"white\",\"startlinecolor\":\"#2a3f5f\"},\"baxis\":{\"endlinecolor\":\"#2a3f5f\",\"gridcolor\":\"white\",\"linecolor\":\"white\",\"minorgridcolor\":\"white\",\"startlinecolor\":\"#2a3f5f\"},\"type\":\"carpet\"}],\"choropleth\":[{\"colorbar\":{\"outlinewidth\":0,\"ticks\":\"\"},\"type\":\"choropleth\"}],\"contour\":[{\"colorbar\":{\"outlinewidth\":0,\"ticks\":\"\"},\"colorscale\":[[0.0,\"#0d0887\"],[0.1111111111111111,\"#46039f\"],[0.2222222222222222,\"#7201a8\"],[0.3333333333333333,\"#9c179e\"],[0.4444444444444444,\"#bd3786\"],[0.5555555555555556,\"#d8576b\"],[0.6666666666666666,\"#ed7953\"],[0.7777777777777778,\"#fb9f3a\"],[0.8888888888888888,\"#fdca26\"],[1.0,\"#f0f921\"]],\"type\":\"contour\"}],\"contourcarpet\":[{\"colorbar\":{\"outlinewidth\":0,\"ticks\":\"\"},\"type\":\"contourcarpet\"}],\"heatmap\":[{\"colorbar\":{\"outlinewidth\":0,\"ticks\":\"\"},\"colorscale\":[[0.0,\"#0d0887\"],[0.1111111111111111,\"#46039f\"],[0.2222222222222222,\"#7201a8\"],[0.3333333333333333,\"#9c179e\"],[0.4444444444444444,\"#bd3786\"],[0.5555555555555556,\"#d8576b\"],[0.6666666666666666,\"#ed7953\"],[0.7777777777777778,\"#fb9f3a\"],[0.8888888888888888,\"#fdca26\"],[1.0,\"#f0f921\"]],\"type\":\"heatmap\"}],\"heatmapgl\":[{\"colorbar\":{\"outlinewidth\":0,\"ticks\":\"\"},\"colorscale\":[[0.0,\"#0d0887\"],[0.1111111111111111,\"#46039f\"],[0.2222222222222222,\"#7201a8\"],[0.3333333333333333,\"#9c179e\"],[0.4444444444444444,\"#bd3786\"],[0.5555555555555556,\"#d8576b\"],[0.6666666666666666,\"#ed7953\"],[0.7777777777777778,\"#fb9f3a\"],[0.8888888888888888,\"#fdca26\"],[1.0,\"#f0f921\"]],\"type\":\"heatmapgl\"}],\"histogram\":[{\"marker\":{\"pattern\":{\"fillmode\":\"overlay\",\"size\":10,\"solidity\":0.2}},\"type\":\"histogram\"}],\"histogram2d\":[{\"colorbar\":{\"outlinewidth\":0,\"ticks\":\"\"},\"colorscale\":[[0.0,\"#0d0887\"],[0.1111111111111111,\"#46039f\"],[0.2222222222222222,\"#7201a8\"],[0.3333333333333333,\"#9c179e\"],[0.4444444444444444,\"#bd3786\"],[0.5555555555555556,\"#d8576b\"],[0.6666666666666666,\"#ed7953\"],[0.7777777777777778,\"#fb9f3a\"],[0.8888888888888888,\"#fdca26\"],[1.0,\"#f0f921\"]],\"type\":\"histogram2d\"}],\"histogram2dcontour\":[{\"colorbar\":{\"outlinewidth\":0,\"ticks\":\"\"},\"colorscale\":[[0.0,\"#0d0887\"],[0.1111111111111111,\"#46039f\"],[0.2222222222222222,\"#7201a8\"],[0.3333333333333333,\"#9c179e\"],[0.4444444444444444,\"#bd3786\"],[0.5555555555555556,\"#d8576b\"],[0.6666666666666666,\"#ed7953\"],[0.7777777777777778,\"#fb9f3a\"],[0.8888888888888888,\"#fdca26\"],[1.0,\"#f0f921\"]],\"type\":\"histogram2dcontour\"}],\"mesh3d\":[{\"colorbar\":{\"outlinewidth\":0,\"ticks\":\"\"},\"type\":\"mesh3d\"}],\"parcoords\":[{\"line\":{\"colorbar\":{\"outlinewidth\":0,\"ticks\":\"\"}},\"type\":\"parcoords\"}],\"pie\":[{\"automargin\":true,\"type\":\"pie\"}],\"scatter\":[{\"marker\":{\"colorbar\":{\"outlinewidth\":0,\"ticks\":\"\"}},\"type\":\"scatter\"}],\"scatter3d\":[{\"line\":{\"colorbar\":{\"outlinewidth\":0,\"ticks\":\"\"}},\"marker\":{\"colorbar\":{\"outlinewidth\":0,\"ticks\":\"\"}},\"type\":\"scatter3d\"}],\"scattercarpet\":[{\"marker\":{\"colorbar\":{\"outlinewidth\":0,\"ticks\":\"\"}},\"type\":\"scattercarpet\"}],\"scattergeo\":[{\"marker\":{\"colorbar\":{\"outlinewidth\":0,\"ticks\":\"\"}},\"type\":\"scattergeo\"}],\"scattergl\":[{\"marker\":{\"colorbar\":{\"outlinewidth\":0,\"ticks\":\"\"}},\"type\":\"scattergl\"}],\"scattermapbox\":[{\"marker\":{\"colorbar\":{\"outlinewidth\":0,\"ticks\":\"\"}},\"type\":\"scattermapbox\"}],\"scatterpolar\":[{\"marker\":{\"colorbar\":{\"outlinewidth\":0,\"ticks\":\"\"}},\"type\":\"scatterpolar\"}],\"scatterpolargl\":[{\"marker\":{\"colorbar\":{\"outlinewidth\":0,\"ticks\":\"\"}},\"type\":\"scatterpolargl\"}],\"scatterternary\":[{\"marker\":{\"colorbar\":{\"outlinewidth\":0,\"ticks\":\"\"}},\"type\":\"scatterternary\"}],\"surface\":[{\"colorbar\":{\"outlinewidth\":0,\"ticks\":\"\"},\"colorscale\":[[0.0,\"#0d0887\"],[0.1111111111111111,\"#46039f\"],[0.2222222222222222,\"#7201a8\"],[0.3333333333333333,\"#9c179e\"],[0.4444444444444444,\"#bd3786\"],[0.5555555555555556,\"#d8576b\"],[0.6666666666666666,\"#ed7953\"],[0.7777777777777778,\"#fb9f3a\"],[0.8888888888888888,\"#fdca26\"],[1.0,\"#f0f921\"]],\"type\":\"surface\"}],\"table\":[{\"cells\":{\"fill\":{\"color\":\"#EBF0F8\"},\"line\":{\"color\":\"white\"}},\"header\":{\"fill\":{\"color\":\"#C8D4E3\"},\"line\":{\"color\":\"white\"}},\"type\":\"table\"}]},\"layout\":{\"annotationdefaults\":{\"arrowcolor\":\"#2a3f5f\",\"arrowhead\":0,\"arrowwidth\":1},\"autotypenumbers\":\"strict\",\"coloraxis\":{\"colorbar\":{\"outlinewidth\":0,\"ticks\":\"\"}},\"colorscale\":{\"diverging\":[[0,\"#8e0152\"],[0.1,\"#c51b7d\"],[0.2,\"#de77ae\"],[0.3,\"#f1b6da\"],[0.4,\"#fde0ef\"],[0.5,\"#f7f7f7\"],[0.6,\"#e6f5d0\"],[0.7,\"#b8e186\"],[0.8,\"#7fbc41\"],[0.9,\"#4d9221\"],[1,\"#276419\"]],\"sequential\":[[0.0,\"#0d0887\"],[0.1111111111111111,\"#46039f\"],[0.2222222222222222,\"#7201a8\"],[0.3333333333333333,\"#9c179e\"],[0.4444444444444444,\"#bd3786\"],[0.5555555555555556,\"#d8576b\"],[0.6666666666666666,\"#ed7953\"],[0.7777777777777778,\"#fb9f3a\"],[0.8888888888888888,\"#fdca26\"],[1.0,\"#f0f921\"]],\"sequentialminus\":[[0.0,\"#0d0887\"],[0.1111111111111111,\"#46039f\"],[0.2222222222222222,\"#7201a8\"],[0.3333333333333333,\"#9c179e\"],[0.4444444444444444,\"#bd3786\"],[0.5555555555555556,\"#d8576b\"],[0.6666666666666666,\"#ed7953\"],[0.7777777777777778,\"#fb9f3a\"],[0.8888888888888888,\"#fdca26\"],[1.0,\"#f0f921\"]]},\"colorway\":[\"#636efa\",\"#EF553B\",\"#00cc96\",\"#ab63fa\",\"#FFA15A\",\"#19d3f3\",\"#FF6692\",\"#B6E880\",\"#FF97FF\",\"#FECB52\"],\"font\":{\"color\":\"#2a3f5f\"},\"geo\":{\"bgcolor\":\"white\",\"lakecolor\":\"white\",\"landcolor\":\"#E5ECF6\",\"showlakes\":true,\"showland\":true,\"subunitcolor\":\"white\"},\"hoverlabel\":{\"align\":\"left\"},\"hovermode\":\"closest\",\"mapbox\":{\"style\":\"light\"},\"paper_bgcolor\":\"white\",\"plot_bgcolor\":\"#E5ECF6\",\"polar\":{\"angularaxis\":{\"gridcolor\":\"white\",\"linecolor\":\"white\",\"ticks\":\"\"},\"bgcolor\":\"#E5ECF6\",\"radialaxis\":{\"gridcolor\":\"white\",\"linecolor\":\"white\",\"ticks\":\"\"}},\"scene\":{\"xaxis\":{\"backgroundcolor\":\"#E5ECF6\",\"gridcolor\":\"white\",\"gridwidth\":2,\"linecolor\":\"white\",\"showbackground\":true,\"ticks\":\"\",\"zerolinecolor\":\"white\"},\"yaxis\":{\"backgroundcolor\":\"#E5ECF6\",\"gridcolor\":\"white\",\"gridwidth\":2,\"linecolor\":\"white\",\"showbackground\":true,\"ticks\":\"\",\"zerolinecolor\":\"white\"},\"zaxis\":{\"backgroundcolor\":\"#E5ECF6\",\"gridcolor\":\"white\",\"gridwidth\":2,\"linecolor\":\"white\",\"showbackground\":true,\"ticks\":\"\",\"zerolinecolor\":\"white\"}},\"shapedefaults\":{\"line\":{\"color\":\"#2a3f5f\"}},\"ternary\":{\"aaxis\":{\"gridcolor\":\"white\",\"linecolor\":\"white\",\"ticks\":\"\"},\"baxis\":{\"gridcolor\":\"white\",\"linecolor\":\"white\",\"ticks\":\"\"},\"bgcolor\":\"#E5ECF6\",\"caxis\":{\"gridcolor\":\"white\",\"linecolor\":\"white\",\"ticks\":\"\"}},\"title\":{\"x\":0.05},\"xaxis\":{\"automargin\":true,\"gridcolor\":\"white\",\"linecolor\":\"white\",\"ticks\":\"\",\"title\":{\"standoff\":15},\"zerolinecolor\":\"white\",\"zerolinewidth\":2},\"yaxis\":{\"automargin\":true,\"gridcolor\":\"white\",\"linecolor\":\"white\",\"ticks\":\"\",\"title\":{\"standoff\":15},\"zerolinecolor\":\"white\",\"zerolinewidth\":2}}},\"margin\":{\"t\":150,\"l\":0},\"title\":{\"text\":\"Matriz de Confusi\\u00f3n\",\"x\":0.5,\"xanchor\":\"center\"},\"height\":400,\"width\":400,\"showlegend\":true},                        {\"responsive\": true}                    ).then(function(){\n",
              "                            \n",
              "var gd = document.getElementById('b7134d05-bbc1-412e-a9be-72cf6ae66bed');\n",
              "var x = new MutationObserver(function (mutations, observer) {{\n",
              "        var display = window.getComputedStyle(gd).display;\n",
              "        if (!display || display === 'none') {{\n",
              "            console.log([gd, 'removed!']);\n",
              "            Plotly.purge(gd);\n",
              "            observer.disconnect();\n",
              "        }}\n",
              "}});\n",
              "\n",
              "// Listen for the removal of the full notebook cells\n",
              "var notebookContainer = gd.closest('#notebook-container');\n",
              "if (notebookContainer) {{\n",
              "    x.observe(notebookContainer, {childList: true});\n",
              "}}\n",
              "\n",
              "// Listen for the clearing of the current output cell\n",
              "var outputEl = gd.closest('.output');\n",
              "if (outputEl) {{\n",
              "    x.observe(outputEl, {childList: true});\n",
              "}}\n",
              "\n",
              "                        })                };                            </script>        </div>\n",
              "</body>\n",
              "</html>"
            ]
          },
          "metadata": {}
        },
        {
          "output_type": "stream",
          "name": "stdout",
          "text": [
            "Done!\n"
          ]
        }
      ]
    },
    {
      "cell_type": "code",
      "source": [
        "# predecir los datos de entrenamiento\n",
        "data = X_trial[text_col]\n",
        "true_labels = Y_trial_2\n",
        "\n",
        "\n",
        "m_pred = predict_model(model, cfg, data.to_list(), pref='m')\n",
        "\n",
        "evaluate_model(m_pred['labels_X'].replace(REPLACE_LABELS),\n",
        "               true_labels.replace(REPLACE_LABELS))  # notar que en este caso se no suministran los scores\n",
        "\n",
        "print('Done!')"
      ],
      "metadata": {
        "id": "WBsbJRpeo3cW",
        "colab": {
          "base_uri": "https://localhost:8080/",
          "height": 903
        },
        "outputId": "46504203-f384-4c51-cfd9-fc62f3c1d5e4"
      },
      "id": "WBsbJRpeo3cW",
      "execution_count": 31,
      "outputs": [
        {
          "output_type": "stream",
          "name": "stdout",
          "text": [
            "==== Sumario de la clasificación ==== \n",
            "                   precision    recall  f1-score   support\n",
            "\n",
            "         Accident       1.00      0.71      0.83        17\n",
            "         Homicide       0.60      0.60      0.60         5\n",
            "       Kidnapping       0.00      0.00      0.00         0\n",
            "None of the above       0.67      0.90      0.77        20\n",
            "            Theft       0.60      0.38      0.46         8\n",
            "\n",
            "         accuracy                           0.72        50\n",
            "        macro avg       0.57      0.52      0.53        50\n",
            "     weighted avg       0.76      0.72      0.72        50\n",
            "\n",
            "Accuracy -> 72.00%\n",
            "\n"
          ]
        },
        {
          "output_type": "stream",
          "name": "stderr",
          "text": [
            "/usr/local/lib/python3.7/dist-packages/sklearn/metrics/_classification.py:1318: UndefinedMetricWarning:\n",
            "\n",
            "Recall and F-score are ill-defined and being set to 0.0 in labels with no true samples. Use `zero_division` parameter to control this behavior.\n",
            "\n",
            "/usr/local/lib/python3.7/dist-packages/sklearn/metrics/_classification.py:1318: UndefinedMetricWarning:\n",
            "\n",
            "Recall and F-score are ill-defined and being set to 0.0 in labels with no true samples. Use `zero_division` parameter to control this behavior.\n",
            "\n",
            "/usr/local/lib/python3.7/dist-packages/sklearn/metrics/_classification.py:1318: UndefinedMetricWarning:\n",
            "\n",
            "Recall and F-score are ill-defined and being set to 0.0 in labels with no true samples. Use `zero_division` parameter to control this behavior.\n",
            "\n"
          ]
        },
        {
          "output_type": "display_data",
          "data": {
            "text/html": [
              "<html>\n",
              "<head><meta charset=\"utf-8\" /></head>\n",
              "<body>\n",
              "    <div>            <script src=\"https://cdnjs.cloudflare.com/ajax/libs/mathjax/2.7.5/MathJax.js?config=TeX-AMS-MML_SVG\"></script><script type=\"text/javascript\">if (window.MathJax) {MathJax.Hub.Config({SVG: {font: \"STIX-Web\"}});}</script>                <script type=\"text/javascript\">window.PlotlyConfig = {MathJaxConfig: 'local'};</script>\n",
              "        <script src=\"https://cdn.plot.ly/plotly-2.8.3.min.js\"></script>                <div id=\"d239ec88-a06d-47f9-9c3e-319eb3765e9f\" class=\"plotly-graph-div\" style=\"height:400px; width:400px;\"></div>            <script type=\"text/javascript\">                                    window.PLOTLYENV=window.PLOTLYENV || {};                                    if (document.getElementById(\"d239ec88-a06d-47f9-9c3e-319eb3765e9f\")) {                    Plotly.newPlot(                        \"d239ec88-a06d-47f9-9c3e-319eb3765e9f\",                        [{\"colorscale\":[[0.0,\"#440154\"],[0.1111111111111111,\"#482878\"],[0.2222222222222222,\"#3e4989\"],[0.3333333333333333,\"#31688e\"],[0.4444444444444444,\"#26828e\"],[0.5555555555555556,\"#1f9e89\"],[0.6666666666666666,\"#35b779\"],[0.7777777777777778,\"#6ece58\"],[0.8888888888888888,\"#b5de2b\"],[1.0,\"#fde725\"]],\"reversescale\":false,\"showscale\":false,\"x\":[\"Theft\",\"None of the above\",\"Kidnapping\",\"Homicide\",\"Accident\"],\"y\":[\"Accident\",\"Homicide\",\"Kidnapping\",\"None of the above\",\"Theft\"],\"z\":[[0,5,0,0,12],[1,1,0,3,0],[0,0,0,0,0],[1,18,1,0,0],[3,3,0,2,0]],\"type\":\"heatmap\"}],                        {\"annotations\":[{\"font\":{\"color\":\"#FFFFFF\"},\"showarrow\":false,\"text\":\"0\",\"x\":\"Theft\",\"xref\":\"x\",\"y\":\"Accident\",\"yref\":\"y\"},{\"font\":{\"color\":\"#FFFFFF\"},\"showarrow\":false,\"text\":\"5\",\"x\":\"None of the above\",\"xref\":\"x\",\"y\":\"Accident\",\"yref\":\"y\"},{\"font\":{\"color\":\"#FFFFFF\"},\"showarrow\":false,\"text\":\"0\",\"x\":\"Kidnapping\",\"xref\":\"x\",\"y\":\"Accident\",\"yref\":\"y\"},{\"font\":{\"color\":\"#FFFFFF\"},\"showarrow\":false,\"text\":\"0\",\"x\":\"Homicide\",\"xref\":\"x\",\"y\":\"Accident\",\"yref\":\"y\"},{\"font\":{\"color\":\"#000000\"},\"showarrow\":false,\"text\":\"12\",\"x\":\"Accident\",\"xref\":\"x\",\"y\":\"Accident\",\"yref\":\"y\"},{\"font\":{\"color\":\"#FFFFFF\"},\"showarrow\":false,\"text\":\"1\",\"x\":\"Theft\",\"xref\":\"x\",\"y\":\"Homicide\",\"yref\":\"y\"},{\"font\":{\"color\":\"#FFFFFF\"},\"showarrow\":false,\"text\":\"1\",\"x\":\"None of the above\",\"xref\":\"x\",\"y\":\"Homicide\",\"yref\":\"y\"},{\"font\":{\"color\":\"#FFFFFF\"},\"showarrow\":false,\"text\":\"0\",\"x\":\"Kidnapping\",\"xref\":\"x\",\"y\":\"Homicide\",\"yref\":\"y\"},{\"font\":{\"color\":\"#FFFFFF\"},\"showarrow\":false,\"text\":\"3\",\"x\":\"Homicide\",\"xref\":\"x\",\"y\":\"Homicide\",\"yref\":\"y\"},{\"font\":{\"color\":\"#FFFFFF\"},\"showarrow\":false,\"text\":\"0\",\"x\":\"Accident\",\"xref\":\"x\",\"y\":\"Homicide\",\"yref\":\"y\"},{\"font\":{\"color\":\"#FFFFFF\"},\"showarrow\":false,\"text\":\"0\",\"x\":\"Theft\",\"xref\":\"x\",\"y\":\"Kidnapping\",\"yref\":\"y\"},{\"font\":{\"color\":\"#FFFFFF\"},\"showarrow\":false,\"text\":\"0\",\"x\":\"None of the above\",\"xref\":\"x\",\"y\":\"Kidnapping\",\"yref\":\"y\"},{\"font\":{\"color\":\"#FFFFFF\"},\"showarrow\":false,\"text\":\"0\",\"x\":\"Kidnapping\",\"xref\":\"x\",\"y\":\"Kidnapping\",\"yref\":\"y\"},{\"font\":{\"color\":\"#FFFFFF\"},\"showarrow\":false,\"text\":\"0\",\"x\":\"Homicide\",\"xref\":\"x\",\"y\":\"Kidnapping\",\"yref\":\"y\"},{\"font\":{\"color\":\"#FFFFFF\"},\"showarrow\":false,\"text\":\"0\",\"x\":\"Accident\",\"xref\":\"x\",\"y\":\"Kidnapping\",\"yref\":\"y\"},{\"font\":{\"color\":\"#FFFFFF\"},\"showarrow\":false,\"text\":\"1\",\"x\":\"Theft\",\"xref\":\"x\",\"y\":\"None of the above\",\"yref\":\"y\"},{\"font\":{\"color\":\"#000000\"},\"showarrow\":false,\"text\":\"18\",\"x\":\"None of the above\",\"xref\":\"x\",\"y\":\"None of the above\",\"yref\":\"y\"},{\"font\":{\"color\":\"#FFFFFF\"},\"showarrow\":false,\"text\":\"1\",\"x\":\"Kidnapping\",\"xref\":\"x\",\"y\":\"None of the above\",\"yref\":\"y\"},{\"font\":{\"color\":\"#FFFFFF\"},\"showarrow\":false,\"text\":\"0\",\"x\":\"Homicide\",\"xref\":\"x\",\"y\":\"None of the above\",\"yref\":\"y\"},{\"font\":{\"color\":\"#FFFFFF\"},\"showarrow\":false,\"text\":\"0\",\"x\":\"Accident\",\"xref\":\"x\",\"y\":\"None of the above\",\"yref\":\"y\"},{\"font\":{\"color\":\"#FFFFFF\"},\"showarrow\":false,\"text\":\"3\",\"x\":\"Theft\",\"xref\":\"x\",\"y\":\"Theft\",\"yref\":\"y\"},{\"font\":{\"color\":\"#FFFFFF\"},\"showarrow\":false,\"text\":\"3\",\"x\":\"None of the above\",\"xref\":\"x\",\"y\":\"Theft\",\"yref\":\"y\"},{\"font\":{\"color\":\"#FFFFFF\"},\"showarrow\":false,\"text\":\"0\",\"x\":\"Kidnapping\",\"xref\":\"x\",\"y\":\"Theft\",\"yref\":\"y\"},{\"font\":{\"color\":\"#FFFFFF\"},\"showarrow\":false,\"text\":\"2\",\"x\":\"Homicide\",\"xref\":\"x\",\"y\":\"Theft\",\"yref\":\"y\"},{\"font\":{\"color\":\"#FFFFFF\"},\"showarrow\":false,\"text\":\"0\",\"x\":\"Accident\",\"xref\":\"x\",\"y\":\"Theft\",\"yref\":\"y\"}],\"xaxis\":{\"dtick\":1,\"gridcolor\":\"rgb(0, 0, 0)\",\"side\":\"top\",\"ticks\":\"\",\"title\":{\"text\":\"Valor Real\"},\"tickangle\":45},\"yaxis\":{\"dtick\":1,\"ticks\":\"\",\"ticksuffix\":\"  \",\"title\":{\"text\":\"Valor Predicho\"},\"tickmode\":\"linear\"},\"template\":{\"data\":{\"bar\":[{\"error_x\":{\"color\":\"#2a3f5f\"},\"error_y\":{\"color\":\"#2a3f5f\"},\"marker\":{\"line\":{\"color\":\"#E5ECF6\",\"width\":0.5},\"pattern\":{\"fillmode\":\"overlay\",\"size\":10,\"solidity\":0.2}},\"type\":\"bar\"}],\"barpolar\":[{\"marker\":{\"line\":{\"color\":\"#E5ECF6\",\"width\":0.5},\"pattern\":{\"fillmode\":\"overlay\",\"size\":10,\"solidity\":0.2}},\"type\":\"barpolar\"}],\"carpet\":[{\"aaxis\":{\"endlinecolor\":\"#2a3f5f\",\"gridcolor\":\"white\",\"linecolor\":\"white\",\"minorgridcolor\":\"white\",\"startlinecolor\":\"#2a3f5f\"},\"baxis\":{\"endlinecolor\":\"#2a3f5f\",\"gridcolor\":\"white\",\"linecolor\":\"white\",\"minorgridcolor\":\"white\",\"startlinecolor\":\"#2a3f5f\"},\"type\":\"carpet\"}],\"choropleth\":[{\"colorbar\":{\"outlinewidth\":0,\"ticks\":\"\"},\"type\":\"choropleth\"}],\"contour\":[{\"colorbar\":{\"outlinewidth\":0,\"ticks\":\"\"},\"colorscale\":[[0.0,\"#0d0887\"],[0.1111111111111111,\"#46039f\"],[0.2222222222222222,\"#7201a8\"],[0.3333333333333333,\"#9c179e\"],[0.4444444444444444,\"#bd3786\"],[0.5555555555555556,\"#d8576b\"],[0.6666666666666666,\"#ed7953\"],[0.7777777777777778,\"#fb9f3a\"],[0.8888888888888888,\"#fdca26\"],[1.0,\"#f0f921\"]],\"type\":\"contour\"}],\"contourcarpet\":[{\"colorbar\":{\"outlinewidth\":0,\"ticks\":\"\"},\"type\":\"contourcarpet\"}],\"heatmap\":[{\"colorbar\":{\"outlinewidth\":0,\"ticks\":\"\"},\"colorscale\":[[0.0,\"#0d0887\"],[0.1111111111111111,\"#46039f\"],[0.2222222222222222,\"#7201a8\"],[0.3333333333333333,\"#9c179e\"],[0.4444444444444444,\"#bd3786\"],[0.5555555555555556,\"#d8576b\"],[0.6666666666666666,\"#ed7953\"],[0.7777777777777778,\"#fb9f3a\"],[0.8888888888888888,\"#fdca26\"],[1.0,\"#f0f921\"]],\"type\":\"heatmap\"}],\"heatmapgl\":[{\"colorbar\":{\"outlinewidth\":0,\"ticks\":\"\"},\"colorscale\":[[0.0,\"#0d0887\"],[0.1111111111111111,\"#46039f\"],[0.2222222222222222,\"#7201a8\"],[0.3333333333333333,\"#9c179e\"],[0.4444444444444444,\"#bd3786\"],[0.5555555555555556,\"#d8576b\"],[0.6666666666666666,\"#ed7953\"],[0.7777777777777778,\"#fb9f3a\"],[0.8888888888888888,\"#fdca26\"],[1.0,\"#f0f921\"]],\"type\":\"heatmapgl\"}],\"histogram\":[{\"marker\":{\"pattern\":{\"fillmode\":\"overlay\",\"size\":10,\"solidity\":0.2}},\"type\":\"histogram\"}],\"histogram2d\":[{\"colorbar\":{\"outlinewidth\":0,\"ticks\":\"\"},\"colorscale\":[[0.0,\"#0d0887\"],[0.1111111111111111,\"#46039f\"],[0.2222222222222222,\"#7201a8\"],[0.3333333333333333,\"#9c179e\"],[0.4444444444444444,\"#bd3786\"],[0.5555555555555556,\"#d8576b\"],[0.6666666666666666,\"#ed7953\"],[0.7777777777777778,\"#fb9f3a\"],[0.8888888888888888,\"#fdca26\"],[1.0,\"#f0f921\"]],\"type\":\"histogram2d\"}],\"histogram2dcontour\":[{\"colorbar\":{\"outlinewidth\":0,\"ticks\":\"\"},\"colorscale\":[[0.0,\"#0d0887\"],[0.1111111111111111,\"#46039f\"],[0.2222222222222222,\"#7201a8\"],[0.3333333333333333,\"#9c179e\"],[0.4444444444444444,\"#bd3786\"],[0.5555555555555556,\"#d8576b\"],[0.6666666666666666,\"#ed7953\"],[0.7777777777777778,\"#fb9f3a\"],[0.8888888888888888,\"#fdca26\"],[1.0,\"#f0f921\"]],\"type\":\"histogram2dcontour\"}],\"mesh3d\":[{\"colorbar\":{\"outlinewidth\":0,\"ticks\":\"\"},\"type\":\"mesh3d\"}],\"parcoords\":[{\"line\":{\"colorbar\":{\"outlinewidth\":0,\"ticks\":\"\"}},\"type\":\"parcoords\"}],\"pie\":[{\"automargin\":true,\"type\":\"pie\"}],\"scatter\":[{\"marker\":{\"colorbar\":{\"outlinewidth\":0,\"ticks\":\"\"}},\"type\":\"scatter\"}],\"scatter3d\":[{\"line\":{\"colorbar\":{\"outlinewidth\":0,\"ticks\":\"\"}},\"marker\":{\"colorbar\":{\"outlinewidth\":0,\"ticks\":\"\"}},\"type\":\"scatter3d\"}],\"scattercarpet\":[{\"marker\":{\"colorbar\":{\"outlinewidth\":0,\"ticks\":\"\"}},\"type\":\"scattercarpet\"}],\"scattergeo\":[{\"marker\":{\"colorbar\":{\"outlinewidth\":0,\"ticks\":\"\"}},\"type\":\"scattergeo\"}],\"scattergl\":[{\"marker\":{\"colorbar\":{\"outlinewidth\":0,\"ticks\":\"\"}},\"type\":\"scattergl\"}],\"scattermapbox\":[{\"marker\":{\"colorbar\":{\"outlinewidth\":0,\"ticks\":\"\"}},\"type\":\"scattermapbox\"}],\"scatterpolar\":[{\"marker\":{\"colorbar\":{\"outlinewidth\":0,\"ticks\":\"\"}},\"type\":\"scatterpolar\"}],\"scatterpolargl\":[{\"marker\":{\"colorbar\":{\"outlinewidth\":0,\"ticks\":\"\"}},\"type\":\"scatterpolargl\"}],\"scatterternary\":[{\"marker\":{\"colorbar\":{\"outlinewidth\":0,\"ticks\":\"\"}},\"type\":\"scatterternary\"}],\"surface\":[{\"colorbar\":{\"outlinewidth\":0,\"ticks\":\"\"},\"colorscale\":[[0.0,\"#0d0887\"],[0.1111111111111111,\"#46039f\"],[0.2222222222222222,\"#7201a8\"],[0.3333333333333333,\"#9c179e\"],[0.4444444444444444,\"#bd3786\"],[0.5555555555555556,\"#d8576b\"],[0.6666666666666666,\"#ed7953\"],[0.7777777777777778,\"#fb9f3a\"],[0.8888888888888888,\"#fdca26\"],[1.0,\"#f0f921\"]],\"type\":\"surface\"}],\"table\":[{\"cells\":{\"fill\":{\"color\":\"#EBF0F8\"},\"line\":{\"color\":\"white\"}},\"header\":{\"fill\":{\"color\":\"#C8D4E3\"},\"line\":{\"color\":\"white\"}},\"type\":\"table\"}]},\"layout\":{\"annotationdefaults\":{\"arrowcolor\":\"#2a3f5f\",\"arrowhead\":0,\"arrowwidth\":1},\"autotypenumbers\":\"strict\",\"coloraxis\":{\"colorbar\":{\"outlinewidth\":0,\"ticks\":\"\"}},\"colorscale\":{\"diverging\":[[0,\"#8e0152\"],[0.1,\"#c51b7d\"],[0.2,\"#de77ae\"],[0.3,\"#f1b6da\"],[0.4,\"#fde0ef\"],[0.5,\"#f7f7f7\"],[0.6,\"#e6f5d0\"],[0.7,\"#b8e186\"],[0.8,\"#7fbc41\"],[0.9,\"#4d9221\"],[1,\"#276419\"]],\"sequential\":[[0.0,\"#0d0887\"],[0.1111111111111111,\"#46039f\"],[0.2222222222222222,\"#7201a8\"],[0.3333333333333333,\"#9c179e\"],[0.4444444444444444,\"#bd3786\"],[0.5555555555555556,\"#d8576b\"],[0.6666666666666666,\"#ed7953\"],[0.7777777777777778,\"#fb9f3a\"],[0.8888888888888888,\"#fdca26\"],[1.0,\"#f0f921\"]],\"sequentialminus\":[[0.0,\"#0d0887\"],[0.1111111111111111,\"#46039f\"],[0.2222222222222222,\"#7201a8\"],[0.3333333333333333,\"#9c179e\"],[0.4444444444444444,\"#bd3786\"],[0.5555555555555556,\"#d8576b\"],[0.6666666666666666,\"#ed7953\"],[0.7777777777777778,\"#fb9f3a\"],[0.8888888888888888,\"#fdca26\"],[1.0,\"#f0f921\"]]},\"colorway\":[\"#636efa\",\"#EF553B\",\"#00cc96\",\"#ab63fa\",\"#FFA15A\",\"#19d3f3\",\"#FF6692\",\"#B6E880\",\"#FF97FF\",\"#FECB52\"],\"font\":{\"color\":\"#2a3f5f\"},\"geo\":{\"bgcolor\":\"white\",\"lakecolor\":\"white\",\"landcolor\":\"#E5ECF6\",\"showlakes\":true,\"showland\":true,\"subunitcolor\":\"white\"},\"hoverlabel\":{\"align\":\"left\"},\"hovermode\":\"closest\",\"mapbox\":{\"style\":\"light\"},\"paper_bgcolor\":\"white\",\"plot_bgcolor\":\"#E5ECF6\",\"polar\":{\"angularaxis\":{\"gridcolor\":\"white\",\"linecolor\":\"white\",\"ticks\":\"\"},\"bgcolor\":\"#E5ECF6\",\"radialaxis\":{\"gridcolor\":\"white\",\"linecolor\":\"white\",\"ticks\":\"\"}},\"scene\":{\"xaxis\":{\"backgroundcolor\":\"#E5ECF6\",\"gridcolor\":\"white\",\"gridwidth\":2,\"linecolor\":\"white\",\"showbackground\":true,\"ticks\":\"\",\"zerolinecolor\":\"white\"},\"yaxis\":{\"backgroundcolor\":\"#E5ECF6\",\"gridcolor\":\"white\",\"gridwidth\":2,\"linecolor\":\"white\",\"showbackground\":true,\"ticks\":\"\",\"zerolinecolor\":\"white\"},\"zaxis\":{\"backgroundcolor\":\"#E5ECF6\",\"gridcolor\":\"white\",\"gridwidth\":2,\"linecolor\":\"white\",\"showbackground\":true,\"ticks\":\"\",\"zerolinecolor\":\"white\"}},\"shapedefaults\":{\"line\":{\"color\":\"#2a3f5f\"}},\"ternary\":{\"aaxis\":{\"gridcolor\":\"white\",\"linecolor\":\"white\",\"ticks\":\"\"},\"baxis\":{\"gridcolor\":\"white\",\"linecolor\":\"white\",\"ticks\":\"\"},\"bgcolor\":\"#E5ECF6\",\"caxis\":{\"gridcolor\":\"white\",\"linecolor\":\"white\",\"ticks\":\"\"}},\"title\":{\"x\":0.05},\"xaxis\":{\"automargin\":true,\"gridcolor\":\"white\",\"linecolor\":\"white\",\"ticks\":\"\",\"title\":{\"standoff\":15},\"zerolinecolor\":\"white\",\"zerolinewidth\":2},\"yaxis\":{\"automargin\":true,\"gridcolor\":\"white\",\"linecolor\":\"white\",\"ticks\":\"\",\"title\":{\"standoff\":15},\"zerolinecolor\":\"white\",\"zerolinewidth\":2}}},\"margin\":{\"t\":150,\"l\":0},\"title\":{\"text\":\"Matriz de Confusi\\u00f3n\",\"x\":0.5,\"xanchor\":\"center\"},\"height\":400,\"width\":400,\"showlegend\":true},                        {\"responsive\": true}                    ).then(function(){\n",
              "                            \n",
              "var gd = document.getElementById('d239ec88-a06d-47f9-9c3e-319eb3765e9f');\n",
              "var x = new MutationObserver(function (mutations, observer) {{\n",
              "        var display = window.getComputedStyle(gd).display;\n",
              "        if (!display || display === 'none') {{\n",
              "            console.log([gd, 'removed!']);\n",
              "            Plotly.purge(gd);\n",
              "            observer.disconnect();\n",
              "        }}\n",
              "}});\n",
              "\n",
              "// Listen for the removal of the full notebook cells\n",
              "var notebookContainer = gd.closest('#notebook-container');\n",
              "if (notebookContainer) {{\n",
              "    x.observe(notebookContainer, {childList: true});\n",
              "}}\n",
              "\n",
              "// Listen for the clearing of the current output cell\n",
              "var outputEl = gd.closest('.output');\n",
              "if (outputEl) {{\n",
              "    x.observe(outputEl, {childList: true});\n",
              "}}\n",
              "\n",
              "                        })                };                            </script>        </div>\n",
              "</body>\n",
              "</html>"
            ]
          },
          "metadata": {}
        },
        {
          "output_type": "stream",
          "name": "stdout",
          "text": [
            "Done!\n"
          ]
        }
      ]
    },
    {
      "cell_type": "code",
      "source": [
        "m_pred = predict_model(model, cfg, X_test[text_col].to_list(), pref='m')\n",
        "\n",
        "predicted_labels = m_pred['labels_X'].replace(REPLACE_LABELS)"
      ],
      "metadata": {
        "colab": {
          "base_uri": "https://localhost:8080/"
        },
        "id": "sDlC00pqJoAA",
        "outputId": "5611fab3-1c0a-4b7e-bf95-de4a01456178"
      },
      "id": "sDlC00pqJoAA",
      "execution_count": 32,
      "outputs": [
        {
          "output_type": "stream",
          "name": "stderr",
          "text": [
            "The parameters `output_attentions`, `output_hidden_states` and `use_cache` cannot be updated when calling a model.They have to be set to True/False in the config object (i.e.: `config=XConfig.from_pretrained('name', output_attentions=True)`).\n",
            "The parameter `return_dict` cannot be set in graph mode and will always be set to `True`.\n"
          ]
        }
      ]
    },
    {
      "cell_type": "code",
      "source": [
        "# from google.colab import drive\n",
        "# drive.mount('/content/drive')"
      ],
      "metadata": {
        "id": "NVKrsw8FY6Ep"
      },
      "id": "NVKrsw8FY6Ep",
      "execution_count": 33,
      "outputs": []
    },
    {
      "cell_type": "code",
      "source": [
        "X_test[text_col]\n",
        "test_results = pd.DataFrame()\n",
        "\n",
        "for index, predicted_label in enumerate(predicted_labels):\n",
        "  test_results = test_results.append([{'Tweet': X_test[text_col][index], 'Label': predicted_label}])\n"
      ],
      "metadata": {
        "id": "yHbEgirpWpoB"
      },
      "id": "yHbEgirpWpoB",
      "execution_count": 34,
      "outputs": []
    },
    {
      "cell_type": "code",
      "source": [
        "pd.set_option('display.max_colwidth', None)\n",
        "test_results"
      ],
      "metadata": {
        "colab": {
          "base_uri": "https://localhost:8080/",
          "height": 572
        },
        "id": "wj_5JbI6YErn",
        "outputId": "de6f6a00-972e-4cf1-8a51-b4f728eb6fd9"
      },
      "id": "wj_5JbI6YErn",
      "execution_count": 35,
      "outputs": [
        {
          "output_type": "execute_result",
          "data": {
            "text/plain": [
              "                                                                                                                                                                                                                                                                                                               Tweet  \\\n",
              "0    Un vehículo rodó varios metros por la pendiente de la carretera en el municipio de #Socha en #Boyacá.  Tras el accidente, el conductor quedó con algunas heridas y fracturas, mientras que el vehículo quedó semi destruido, varios semovientes que transportaba murieron en el lugar.  https://t.co/56DiOjd8z3   \n",
              "0                                                                                                                                                                         “Pido justicia”: padre de dos de las seis víctimas en accidente de Gaira #NoticiasBQ 🔴🟡🟢  https://t.co/EM7TEKGVus  https://t.co/LqyBJWKVCj   \n",
              "0               #ÚltimaHora 19:50 Reportan Fatal accidente sobre la carrerera 2 de #PiedrasNegras a #Guerrero, extraoficialmente se habla de 2 menores sin vida y varias personas lesionadas Autoridades se dirigen al lugar.  En breve más información en @SuperChannel_12 y @Radio_Zocalo  https://t.co/J37PXJ4YHo   \n",
              "0                                                                                                                                                                        #PRECAUCIÓN ACCIDENTE EN CARRETERA A RÍO BRAVO FRENTE AL AEROPUERTO TRÁILER AL INTERIOR DE DOMINO'S PIZZA #REYNOSA  https://t.co/0Tn1VWSPO8   \n",
              "0                                                                                                                                                                         El Gobierno de Navarra se personará como acusación popular por el asesinato de Murchante  https://t.co/EaBQEBcNsp  https://t.co/h2FVnJTOUD   \n",
              "..                                                                                                                                                                                                                                                                                                               ...   \n",
              "0                                                                                                                                                                                              Fatal accidente entre San Diego y Codazzi: la víctima fue una mujer  https://t.co/R12Pcspguf  https://t.co/pYXGkESuKf   \n",
              "0   MARC BOLAN  El 15-09-1977 murió en un accidente de tránsito a los 29 años, este músico, actor y cantautor nacido en Londres como Mark Field.  Líder y fundador en 1967 de la banda Tyrannusaurus Rex, que en 1970 se transformó en T.Rex, adalid del glam rock durante toda esa década.  https://t.co/pcMaOBkMvn   \n",
              "0                                                                                                                                             ACCIDENTE vía José López Portillo en la zona de bancos de Buenavista, esquina calle presa del fuerte. Ya está causando lentitud al avanzar ⚠️  https://t.co/QxdeSs2SWe   \n",
              "0                                                                                                                                                                                #Noticias | HISTORIA: Camilo, víctima de robo, agresión y una justicia inoperante  https://t.co/ehue7KAhXO  https://t.co/zpj8ykWd2A   \n",
              "0                                                                                                                                                                                             Guía para la atención de casos de violencia basada en género #YoTeCuidoMujer #PatrullaEnCasa.  https://t.co/eSz5m11ONk   \n",
              "\n",
              "                Label  \n",
              "0            Accident  \n",
              "0            Accident  \n",
              "0            Accident  \n",
              "0            Accident  \n",
              "0   None of the above  \n",
              "..                ...  \n",
              "0            Homicide  \n",
              "0            Accident  \n",
              "0            Accident  \n",
              "0   None of the above  \n",
              "0   None of the above  \n",
              "\n",
              "[1344 rows x 2 columns]"
            ],
            "text/html": [
              "\n",
              "  <div id=\"df-2722d715-2714-4d28-95bb-46b70e580c1a\">\n",
              "    <div class=\"colab-df-container\">\n",
              "      <div>\n",
              "<style scoped>\n",
              "    .dataframe tbody tr th:only-of-type {\n",
              "        vertical-align: middle;\n",
              "    }\n",
              "\n",
              "    .dataframe tbody tr th {\n",
              "        vertical-align: top;\n",
              "    }\n",
              "\n",
              "    .dataframe thead th {\n",
              "        text-align: right;\n",
              "    }\n",
              "</style>\n",
              "<table border=\"1\" class=\"dataframe\">\n",
              "  <thead>\n",
              "    <tr style=\"text-align: right;\">\n",
              "      <th></th>\n",
              "      <th>Tweet</th>\n",
              "      <th>Label</th>\n",
              "    </tr>\n",
              "  </thead>\n",
              "  <tbody>\n",
              "    <tr>\n",
              "      <th>0</th>\n",
              "      <td>Un vehículo rodó varios metros por la pendiente de la carretera en el municipio de #Socha en #Boyacá.  Tras el accidente, el conductor quedó con algunas heridas y fracturas, mientras que el vehículo quedó semi destruido, varios semovientes que transportaba murieron en el lugar.  https://t.co/56DiOjd8z3</td>\n",
              "      <td>Accident</td>\n",
              "    </tr>\n",
              "    <tr>\n",
              "      <th>0</th>\n",
              "      <td>“Pido justicia”: padre de dos de las seis víctimas en accidente de Gaira #NoticiasBQ 🔴🟡🟢  https://t.co/EM7TEKGVus  https://t.co/LqyBJWKVCj</td>\n",
              "      <td>Accident</td>\n",
              "    </tr>\n",
              "    <tr>\n",
              "      <th>0</th>\n",
              "      <td>#ÚltimaHora 19:50 Reportan Fatal accidente sobre la carrerera 2 de #PiedrasNegras a #Guerrero, extraoficialmente se habla de 2 menores sin vida y varias personas lesionadas Autoridades se dirigen al lugar.  En breve más información en @SuperChannel_12 y @Radio_Zocalo  https://t.co/J37PXJ4YHo</td>\n",
              "      <td>Accident</td>\n",
              "    </tr>\n",
              "    <tr>\n",
              "      <th>0</th>\n",
              "      <td>#PRECAUCIÓN ACCIDENTE EN CARRETERA A RÍO BRAVO FRENTE AL AEROPUERTO TRÁILER AL INTERIOR DE DOMINO'S PIZZA #REYNOSA  https://t.co/0Tn1VWSPO8</td>\n",
              "      <td>Accident</td>\n",
              "    </tr>\n",
              "    <tr>\n",
              "      <th>0</th>\n",
              "      <td>El Gobierno de Navarra se personará como acusación popular por el asesinato de Murchante  https://t.co/EaBQEBcNsp  https://t.co/h2FVnJTOUD</td>\n",
              "      <td>None of the above</td>\n",
              "    </tr>\n",
              "    <tr>\n",
              "      <th>...</th>\n",
              "      <td>...</td>\n",
              "      <td>...</td>\n",
              "    </tr>\n",
              "    <tr>\n",
              "      <th>0</th>\n",
              "      <td>Fatal accidente entre San Diego y Codazzi: la víctima fue una mujer  https://t.co/R12Pcspguf  https://t.co/pYXGkESuKf</td>\n",
              "      <td>Homicide</td>\n",
              "    </tr>\n",
              "    <tr>\n",
              "      <th>0</th>\n",
              "      <td>MARC BOLAN  El 15-09-1977 murió en un accidente de tránsito a los 29 años, este músico, actor y cantautor nacido en Londres como Mark Field.  Líder y fundador en 1967 de la banda Tyrannusaurus Rex, que en 1970 se transformó en T.Rex, adalid del glam rock durante toda esa década.  https://t.co/pcMaOBkMvn</td>\n",
              "      <td>Accident</td>\n",
              "    </tr>\n",
              "    <tr>\n",
              "      <th>0</th>\n",
              "      <td>ACCIDENTE vía José López Portillo en la zona de bancos de Buenavista, esquina calle presa del fuerte. Ya está causando lentitud al avanzar ⚠️  https://t.co/QxdeSs2SWe</td>\n",
              "      <td>Accident</td>\n",
              "    </tr>\n",
              "    <tr>\n",
              "      <th>0</th>\n",
              "      <td>#Noticias | HISTORIA: Camilo, víctima de robo, agresión y una justicia inoperante  https://t.co/ehue7KAhXO  https://t.co/zpj8ykWd2A</td>\n",
              "      <td>None of the above</td>\n",
              "    </tr>\n",
              "    <tr>\n",
              "      <th>0</th>\n",
              "      <td>Guía para la atención de casos de violencia basada en género #YoTeCuidoMujer #PatrullaEnCasa.  https://t.co/eSz5m11ONk</td>\n",
              "      <td>None of the above</td>\n",
              "    </tr>\n",
              "  </tbody>\n",
              "</table>\n",
              "<p>1344 rows × 2 columns</p>\n",
              "</div>\n",
              "      <button class=\"colab-df-convert\" onclick=\"convertToInteractive('df-2722d715-2714-4d28-95bb-46b70e580c1a')\"\n",
              "              title=\"Convert this dataframe to an interactive table.\"\n",
              "              style=\"display:none;\">\n",
              "        \n",
              "  <svg xmlns=\"http://www.w3.org/2000/svg\" height=\"24px\"viewBox=\"0 0 24 24\"\n",
              "       width=\"24px\">\n",
              "    <path d=\"M0 0h24v24H0V0z\" fill=\"none\"/>\n",
              "    <path d=\"M18.56 5.44l.94 2.06.94-2.06 2.06-.94-2.06-.94-.94-2.06-.94 2.06-2.06.94zm-11 1L8.5 8.5l.94-2.06 2.06-.94-2.06-.94L8.5 2.5l-.94 2.06-2.06.94zm10 10l.94 2.06.94-2.06 2.06-.94-2.06-.94-.94-2.06-.94 2.06-2.06.94z\"/><path d=\"M17.41 7.96l-1.37-1.37c-.4-.4-.92-.59-1.43-.59-.52 0-1.04.2-1.43.59L10.3 9.45l-7.72 7.72c-.78.78-.78 2.05 0 2.83L4 21.41c.39.39.9.59 1.41.59.51 0 1.02-.2 1.41-.59l7.78-7.78 2.81-2.81c.8-.78.8-2.07 0-2.86zM5.41 20L4 18.59l7.72-7.72 1.47 1.35L5.41 20z\"/>\n",
              "  </svg>\n",
              "      </button>\n",
              "      \n",
              "  <style>\n",
              "    .colab-df-container {\n",
              "      display:flex;\n",
              "      flex-wrap:wrap;\n",
              "      gap: 12px;\n",
              "    }\n",
              "\n",
              "    .colab-df-convert {\n",
              "      background-color: #E8F0FE;\n",
              "      border: none;\n",
              "      border-radius: 50%;\n",
              "      cursor: pointer;\n",
              "      display: none;\n",
              "      fill: #1967D2;\n",
              "      height: 32px;\n",
              "      padding: 0 0 0 0;\n",
              "      width: 32px;\n",
              "    }\n",
              "\n",
              "    .colab-df-convert:hover {\n",
              "      background-color: #E2EBFA;\n",
              "      box-shadow: 0px 1px 2px rgba(60, 64, 67, 0.3), 0px 1px 3px 1px rgba(60, 64, 67, 0.15);\n",
              "      fill: #174EA6;\n",
              "    }\n",
              "\n",
              "    [theme=dark] .colab-df-convert {\n",
              "      background-color: #3B4455;\n",
              "      fill: #D2E3FC;\n",
              "    }\n",
              "\n",
              "    [theme=dark] .colab-df-convert:hover {\n",
              "      background-color: #434B5C;\n",
              "      box-shadow: 0px 1px 3px 1px rgba(0, 0, 0, 0.15);\n",
              "      filter: drop-shadow(0px 1px 2px rgba(0, 0, 0, 0.3));\n",
              "      fill: #FFFFFF;\n",
              "    }\n",
              "  </style>\n",
              "\n",
              "      <script>\n",
              "        const buttonEl =\n",
              "          document.querySelector('#df-2722d715-2714-4d28-95bb-46b70e580c1a button.colab-df-convert');\n",
              "        buttonEl.style.display =\n",
              "          google.colab.kernel.accessAllowed ? 'block' : 'none';\n",
              "\n",
              "        async function convertToInteractive(key) {\n",
              "          const element = document.querySelector('#df-2722d715-2714-4d28-95bb-46b70e580c1a');\n",
              "          const dataTable =\n",
              "            await google.colab.kernel.invokeFunction('convertToInteractive',\n",
              "                                                     [key], {});\n",
              "          if (!dataTable) return;\n",
              "\n",
              "          const docLinkHtml = 'Like what you see? Visit the ' +\n",
              "            '<a target=\"_blank\" href=https://colab.research.google.com/notebooks/data_table.ipynb>data table notebook</a>'\n",
              "            + ' to learn more about interactive tables.';\n",
              "          element.innerHTML = '';\n",
              "          dataTable['output_type'] = 'display_data';\n",
              "          await google.colab.output.renderOutput(dataTable, element);\n",
              "          const docLink = document.createElement('div');\n",
              "          docLink.innerHTML = docLinkHtml;\n",
              "          element.appendChild(docLink);\n",
              "        }\n",
              "      </script>\n",
              "    </div>\n",
              "  </div>\n",
              "  "
            ]
          },
          "metadata": {},
          "execution_count": 35
        }
      ]
    },
    {
      "cell_type": "code",
      "source": [
        ""
      ],
      "metadata": {
        "id": "CJ2AXDixgEkI"
      },
      "id": "CJ2AXDixgEkI",
      "execution_count": 35,
      "outputs": []
    }
  ],
  "metadata": {
    "kernelspec": {
      "display_name": "Python [conda env:TFM]",
      "language": "python",
      "name": "conda-env-TFM-py"
    },
    "language_info": {
      "codemirror_mode": {
        "name": "ipython",
        "version": 3
      },
      "file_extension": ".py",
      "mimetype": "text/x-python",
      "name": "python",
      "nbconvert_exporter": "python",
      "pygments_lexer": "ipython3",
      "version": "3.9.11"
    },
    "colab": {
      "name": "Main2.ipynb",
      "provenance": [],
      "collapsed_sections": [],
      "toc_visible": true,
      "include_colab_link": true
    },
    "accelerator": "GPU"
  },
  "nbformat": 4,
  "nbformat_minor": 5
}