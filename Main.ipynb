{
 "cells": [
  {
   "cell_type": "markdown",
   "id": "f351abcb-77ad-4369-b2f8-d6d1b6c275e3",
   "metadata": {},
   "source": []
  },
  {
   "cell_type": "code",
   "execution_count": 1,
   "id": "a9abd4de-1d9d-4847-8be6-e7cfc02ab7e0",
   "metadata": {},
   "outputs": [],
   "source": [
    "import pandas as pd\n",
    "import numpy as np\n",
    "\n",
    "import matplotlib.pyplot as plt\n",
    "import seaborn as sns"
   ]
  },
  {
   "cell_type": "code",
   "execution_count": 2,
   "id": "71593f6a-a329-4e9b-a9c0-5d69aa670dcf",
   "metadata": {},
   "outputs": [],
   "source": [
    "DATA_PATH = 'data/'\n",
    "TRAINING_DATA_PATH = f\"{DATA_PATH}training_data/\"\n",
    "TEST_DATA_PATH = f\"{DATA_PATH}test_data/\""
   ]
  },
  {
   "cell_type": "markdown",
   "id": "ef2cdb0c-493f-4587-a680-8a22330711c8",
   "metadata": {},
   "source": [
    "# Load Data"
   ]
  },
  {
   "cell_type": "code",
   "execution_count": 3,
   "id": "78ceb903-fd7d-47e3-a487-ead21b24bda0",
   "metadata": {},
   "outputs": [],
   "source": [
    "X_train = pd.read_csv(f\"{TRAINING_DATA_PATH}train_data.csv\", names = ['tweet'])\n",
    "Y_train = pd.read_csv(f\"{TRAINING_DATA_PATH}train_labels_subtask_1.csv\", names = ['Label'])"
   ]
  },
  {
   "cell_type": "code",
   "execution_count": 4,
   "id": "753349ae-d9f3-4401-b369-e8b511c0802c",
   "metadata": {},
   "outputs": [
    {
     "data": {
      "text/plain": [
       "(array([1798.,    0.,    0.,    0.,    0.,    0.,    0.,    0.,    0.,\n",
       "        1564.]),\n",
       " array([0. , 0.1, 0.2, 0.3, 0.4, 0.5, 0.6, 0.7, 0.8, 0.9, 1. ]),\n",
       " <BarContainer object of 10 artists>)"
      ]
     },
     "execution_count": 4,
     "metadata": {},
     "output_type": "execute_result"
    },
    {
     "data": {
      "image/png": "[encoded data removed]",
      "text/plain": [
       "<Figure size 432x288 with 1 Axes>"
      ]
     },
     "metadata": {
      "needs_background": "light"
     },
     "output_type": "display_data"
    }
   ],
   "source": [
    "Y_train = Y_train.astype(int)\n",
    "# Y_train.value_counts()\n",
    "plt.hist(np.asarray(Y_train, dtype = int))"
   ]
  },
  {
   "cell_type": "markdown",
   "id": "07cc03db-a13e-4da7-ab48-04489c7187ef",
   "metadata": {},
   "source": [
    "# Analysis"
   ]
  },
  {
   "cell_type": "code",
   "execution_count": 5,
   "id": "21ad1eda-342f-415d-a49a-3e9002583502",
   "metadata": {},
   "outputs": [
    {
     "name": "stdout",
     "output_type": "stream",
     "text": [
      "Violent example: #Seguridad 🚨🛑 Detuvo policía municipal a dos hombres por robo a casa habitación, en #Puebla. En la acción se recuperaron computadoras portátiles, un equipo de audio, un dispositivo de comunicación móvil, entre otros artículos. Urbano| Noticias  https://t.co/xXKSnVjz8k...  https://t.co/HcoPbEpPLk\n",
      "\n",
      "\n",
      "Non violent example: Cali es una trampa en la que uno no busca los accidentes ni que lo asalten a uno, esas dos cosas lo buscan a uno. Me referiré al accidente que me encontró ahora en la noche. Un hueco en un anden de Granada en el que quedé atrapado y casi me rompe el tobillo. Av 9A N con 16 Norte.  https://t.co/KNevmfuuRo\n"
     ]
    }
   ],
   "source": [
    "violent_sample_index = Y_train[Y_train['Label'] == 0].index[15]\n",
    "print(f\"Violent example: {X_train.loc[violent_sample_index].tweet}\")\n",
    "\n",
    "print('\\n')\n",
    "\n",
    "non_violent_sample_index = Y_train[Y_train['Label'] == 1].index[15]\n",
    "print(f\"Non violent example: {X_train.loc[non_violent_sample_index].tweet}\")"
   ]
  },
  {
   "cell_type": "code",
   "execution_count": 6,
   "id": "2963f4a4-9b9b-4c3b-a299-eb6ff2607d38",
   "metadata": {},
   "outputs": [],
   "source": [
    "from ipywidgets import widgets\n",
    "from IPython.display import display\n",
    "\n",
    "text = widgets.Text()"
   ]
  },
  {
   "cell_type": "markdown",
   "id": "4a8d37f1-18f4-493c-9684-d711733f014b",
   "metadata": {},
   "source": [
    "## Subtask 2"
   ]
  },
  {
   "cell_type": "code",
   "execution_count": 7,
   "id": "59a2be30-103f-4ef2-b0f9-7cfd75ac6c15",
   "metadata": {},
   "outputs": [],
   "source": [
    "Y_train_2 = pd.read_csv(f\"{TRAINING_DATA_PATH}train_labels_subtask_2.csv\", header=None)"
   ]
  },
  {
   "cell_type": "code",
   "execution_count": 8,
   "id": "024958a9-696e-475b-9120-a95bd2f0fcbb",
   "metadata": {},
   "outputs": [
    {
     "ename": "NameError",
     "evalue": "name 'mask' is not defined",
     "output_type": "error",
     "traceback": [
      "\u001b[0;31m---------------------------------------------------------------------------\u001b[0m",
      "\u001b[0;31mNameError\u001b[0m                                 Traceback (most recent call last)",
      "Input \u001b[0;32mIn [8]\u001b[0m, in \u001b[0;36m<cell line: 5>\u001b[0;34m()\u001b[0m\n\u001b[1;32m      1\u001b[0m Y_train_2_labeled \u001b[38;5;241m=\u001b[39m Y_train_2\u001b[38;5;241m.\u001b[39mcopy()\n\u001b[1;32m      3\u001b[0m Y_train_2_labeled[\u001b[38;5;124m'\u001b[39m\u001b[38;5;124mIncident\u001b[39m\u001b[38;5;124m'\u001b[39m] \u001b[38;5;241m=\u001b[39m \u001b[38;5;124m'\u001b[39m\u001b[38;5;124m0\u001b[39m\u001b[38;5;124m'\u001b[39m\n\u001b[0;32m----> 5\u001b[0m Y_train_2_labeled[\u001b[43mmask\u001b[49m][\u001b[38;5;124m'\u001b[39m\u001b[38;5;124mIncident\u001b[39m\u001b[38;5;124m'\u001b[39m] \u001b[38;5;241m=\u001b[39m \u001b[38;5;124m'\u001b[39m\u001b[38;5;124mAccident\u001b[39m\u001b[38;5;124m'\u001b[39m\n",
      "\u001b[0;31mNameError\u001b[0m: name 'mask' is not defined"
     ]
    }
   ],
   "source": [
    "Y_train_2_labeled = Y_train_2.copy()\n",
    "\n",
    "Y_train_2_labeled['Incident'] = '0'"
   ]
  },
  {
   "cell_type": "markdown",
   "id": "89285a92-c407-4463-a292-e7d2f3b6e1c7",
   "metadata": {},
   "source": [
    "A continuación se transforman las etiquetas de entrenamiento de forma `one-hot` a formato String para realizar una representación interpretable de las clases contenidas en el dataset."
   ]
  },
  {
   "cell_type": "code",
   "execution_count": null,
   "id": "4858305a-48f4-4655-876d-3010d0a78c0f",
   "metadata": {},
   "outputs": [],
   "source": [
    "boolean_mask = Y_train_2.idxmax(axis=1) == 0\n",
    "Y_train_2_labeled['Incident'] = Y_train_2_labeled['Incident'].mask(boolean_mask, 'Accident')\n",
    "\n",
    "boolean_mask = Y_train_2.idxmax(axis=1) == 1\n",
    "Y_train_2_labeled['Incident'] = Y_train_2_labeled['Incident'].mask(boolean_mask, 'Homicide')\n",
    "\n",
    "boolean_mask = Y_train_2.idxmax(axis=1) == 2\n",
    "Y_train_2_labeled['Incident'] = Y_train_2_labeled['Incident'].mask(boolean_mask, 'None of the above')\n",
    "\n",
    "boolean_mask = Y_train_2.idxmax(axis=1) == 3\n",
    "Y_train_2_labeled['Incident'] = Y_train_2_labeled['Incident'].mask(boolean_mask, 'Theft')\n",
    "\n",
    "boolean_mask = Y_train_2.idxmax(axis=1) == 4\n",
    "Y_train_2_labeled['Incident'] = Y_train_2_labeled['Incident'].mask(boolean_mask, 'Kidnapping')\n",
    "\n",
    "Y_train_2_labeled = Y_train_2_labeled['Incident']"
   ]
  },
  {
   "cell_type": "code",
   "execution_count": null,
   "id": "906b5482-ff88-4dd7-b294-67bf6111f2b8",
   "metadata": {},
   "outputs": [],
   "source": [
    "sns.set(style=\"darkgrid\")\n",
    "histogram = sns.histplot(Y_train_2_labeled)\n",
    "histogram.tick_params(axis='x', rotation=25)"
   ]
  },
  {
   "cell_type": "code",
   "execution_count": null,
   "id": "678abd80-d53e-4f66-baa1-256588446efd",
   "metadata": {},
   "outputs": [],
   "source": [
    "sample_index = Y_train_2_labeled[Y_train_2_labeled == 'Accident'].index[15]\n",
    "print(f\"Accident example: {X_train.loc[sample_index].tweet}\")\n",
    "\n",
    "print('\\n')\n",
    "\n",
    "sample_index = Y_train_2_labeled[Y_train_2_labeled == 'Homicide'].index[15]\n",
    "print(f\"Homicide example: {X_train.loc[sample_index].tweet}\")\n",
    "\n",
    "print('\\n')\n",
    "\n",
    "sample_index = Y_train_2_labeled[Y_train_2_labeled == 'None of the above'].index[15]\n",
    "print(f\"None of the above: {X_train.loc[sample_index].tweet}\")\n",
    "\n",
    "print('\\n')\n",
    "\n",
    "sample_index = Y_train_2_labeled[Y_train_2_labeled == 'Theft'].index[15]\n",
    "print(f\"Theft: {X_train.loc[sample_index].tweet}\")\n",
    "\n",
    "\n",
    "print('\\n')\n",
    "\n",
    "sample_index = Y_train_2_labeled[Y_train_2_labeled == 'Kidnapping'].index[15]\n",
    "print(f\"Kidnapping: {X_train.loc[sample_index].tweet}\")"
   ]
  },
  {
   "cell_type": "code",
   "execution_count": null,
   "id": "84f043a1-02ba-4421-9633-c7ea1cbd0888",
   "metadata": {},
   "outputs": [],
   "source": []
  }
 ],
 "metadata": {
  "kernelspec": {
   "display_name": "Python [conda env:TFM]",
   "language": "python",
   "name": "conda-env-TFM-py"
  },
  "language_info": {
   "codemirror_mode": {
    "name": "ipython",
    "version": 3
   },
   "file_extension": ".py",
   "mimetype": "text/x-python",
   "name": "python",
   "nbconvert_exporter": "python",
   "pygments_lexer": "ipython3",
   "version": "3.9.11"
  }
 },
 "nbformat": 4,
 "nbformat_minor": 5
}
