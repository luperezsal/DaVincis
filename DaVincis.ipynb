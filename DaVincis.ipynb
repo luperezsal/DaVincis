{
  "cells": [
    {
      "cell_type": "markdown",
      "metadata": {
        "id": "view-in-github",
        "colab_type": "text"
      },
      "source": [
        "<a href=\"https://colab.research.google.com/github/luperezsal/DaVincis/blob/master/Main2.ipynb\" target=\"_parent\"><img src=\"https://colab.research.google.com/assets/colab-badge.svg\" alt=\"Open In Colab\"/></a>"
      ]
    },
    {
      "cell_type": "markdown",
      "source": [
        "# Evaluación de prácticas | Da-Vincis"
      ],
      "metadata": {
        "id": "JO0yUGtjNTip"
      },
      "id": "JO0yUGtjNTip"
    },
    {
      "cell_type": "markdown",
      "source": [
        "En esta evaluación de prácticas se implementará una solución para el reto Da-Vincis, propuesto por la organización [IberLEF](https://sites.google.com/view/iberlef2022).\n",
        "\n",
        "Este reto ([IberLEF Davincis](https://codalab.lisn.upsaclay.fr/competitions/2638)) consiste en clasificar tweets, redactados en español, que pertenecen a una serie de categorías. Cada tweet puede pertenecer a varias de estas clases, por lo que nos enfrentamos ante un problema de clasificación multietiqueta.\n",
        "\n",
        "Para lograr este objetivo se hará uso de una arquitecturas transformer ([Bert Base Multilingual Uncased Sentiment](https://huggingface.co/nlptown/bert-base-multilingual-uncased-sentiment)) que ha sido entrenada en cinco idiomas.\n",
        "\n",
        "El repositorio donde está alojado este notebook junto con las versiones que se han ido implementando se puede encontrar en [GitHub](https://github.com/luperezsal/DaVincis).\n",
        "\n",
        "Como bibliografía consultada podemos listar las siguientes:\n",
        "\n",
        "\n",
        "- [Bert for sentiment analysis of chatbot conversations](https://engati.medium.com/bert-for-sentiment-analysis-of-chatbot-conversations-fbfdc392d68a)\n",
        "\n",
        "- [Multi-label Text Classification Using Transfer Learning powered by “Optuna”](https://www.analyticsvidhya.com/blog/2022/01/multi-label-text-classification-using-transfer-learning-powered-by-optuna/)\n",
        "\n",
        "- [Multi-label classification with BERT](https://data4thought.com/toxic_comments_transformer.html)"
      ],
      "metadata": {
        "id": "zmM1R0zZhabF"
      },
      "id": "zmM1R0zZhabF"
    },
    {
      "cell_type": "code",
      "execution_count": 225,
      "id": "a9abd4de-1d9d-4847-8be6-e7cfc02ab7e0",
      "metadata": {
        "id": "a9abd4de-1d9d-4847-8be6-e7cfc02ab7e0"
      },
      "outputs": [],
      "source": [
        "import pandas as pd\n",
        "import numpy as np\n",
        "\n",
        "import matplotlib.pyplot as plt\n",
        "import seaborn as sns"
      ]
    },
    {
      "cell_type": "code",
      "execution_count": 226,
      "id": "71593f6a-a329-4e9b-a9c0-5d69aa670dcf",
      "metadata": {
        "id": "71593f6a-a329-4e9b-a9c0-5d69aa670dcf"
      },
      "outputs": [],
      "source": [
        "DATA_PATH = 'https://raw.githubusercontent.com/luperezsal/DaVincis/master/data/'\n",
        "\n",
        "TRAINING_DATA_PATH = f\"{DATA_PATH}training_data/\"\n",
        "TEST_DATA_PATH = f\"{DATA_PATH}test_data/\""
      ]
    },
    {
      "cell_type": "code",
      "source": [
        "TASK = 2"
      ],
      "metadata": {
        "id": "dUVcLXtYVoQT"
      },
      "id": "dUVcLXtYVoQT",
      "execution_count": 227,
      "outputs": []
    },
    {
      "cell_type": "markdown",
      "id": "ef2cdb0c-493f-4587-a680-8a22330711c8",
      "metadata": {
        "id": "ef2cdb0c-493f-4587-a680-8a22330711c8"
      },
      "source": [
        "# Load Data"
      ]
    },
    {
      "cell_type": "code",
      "execution_count": 228,
      "id": "78ceb903-fd7d-47e3-a487-ead21b24bda0",
      "metadata": {
        "id": "78ceb903-fd7d-47e3-a487-ead21b24bda0"
      },
      "outputs": [],
      "source": [
        "text_col  = 'tweet'\n",
        "class_col = 'incident'\n",
        "\n",
        "# Train Data\n",
        "X_train = pd.read_csv(f\"{TRAINING_DATA_PATH}train_data.csv\", names = [text_col])\n",
        "Y_train_1 = pd.read_csv(f\"{TRAINING_DATA_PATH}train_labels_subtask_1.csv\", names = [class_col])\n",
        "Y_train_2 = pd.read_csv(f\"{TRAINING_DATA_PATH}train_labels_subtask_2.csv\", header = None)\n",
        "\n",
        "# Trial Data\n",
        "X_trial = pd.read_csv(f\"{TRAINING_DATA_PATH}trial_data.csv\", names = [text_col])\n",
        "Y_trial_1 = pd.read_csv(f\"{TRAINING_DATA_PATH}trial_labels_subtask_1.csv\", names = [class_col])\n",
        "Y_trial_2 = pd.read_csv(f\"{TRAINING_DATA_PATH}trial_labels_subtask_2.csv\", header = None)\n",
        "\n",
        "# Test Data\n",
        "X_test = pd.read_csv(f\"{TEST_DATA_PATH}test_data.csv\", names = [text_col])"
      ]
    },
    {
      "cell_type": "code",
      "source": [
        "Y_train_2_labeled = Y_train_2.idxmax(axis=1)\n",
        "Y_trial_2_labeled = Y_trial_2.idxmax(axis=1)"
      ],
      "metadata": {
        "id": "IemJ9WlsT1a8"
      },
      "id": "IemJ9WlsT1a8",
      "execution_count": 229,
      "outputs": []
    },
    {
      "cell_type": "markdown",
      "source": [
        "### Analysis"
      ],
      "metadata": {
        "id": "f_mbwHWTDqGT"
      },
      "id": "f_mbwHWTDqGT"
    },
    {
      "cell_type": "markdown",
      "id": "89285a92-c407-4463-a292-e7d2f3b6e1c7",
      "metadata": {
        "id": "89285a92-c407-4463-a292-e7d2f3b6e1c7"
      },
      "source": [
        "En primer lugar haremos un análisis exploratorio de los datos. Este es un paso importante ya que es necesario conocer la distribución de clases previamente a entrenar el modelo. Si disponemos de un conjunto de datos no balanceado, el modelo no generalizará correctamente ya que tenderá a predecir aquellas clases más numerosas en el conjunto de datos. Por este motivo se mostrará en un histograma el número de ocurrencias de cada clase.\n",
        "\n",
        "A continuación se transforman las etiquetas de entrenamiento de forma `one-hot` a formato String para realizar una representación interpretable de las clases contenidas en el dataset."
      ]
    },
    {
      "cell_type": "code",
      "execution_count": 230,
      "id": "4858305a-48f4-4655-876d-3010d0a78c0f",
      "metadata": {
        "id": "4858305a-48f4-4655-876d-3010d0a78c0f"
      },
      "outputs": [],
      "source": [
        "Y_train_2_labeled[Y_train_2_labeled == 0] = 'Accident'\n",
        "Y_train_2_labeled[Y_train_2_labeled == 1] = 'Homicide'\n",
        "Y_train_2_labeled[Y_train_2_labeled == 2] = 'None of the above'\n",
        "Y_train_2_labeled[Y_train_2_labeled == 3] = 'Theft'\n",
        "Y_train_2_labeled[Y_train_2_labeled == 4] = 'Kidnapping'"
      ]
    },
    {
      "cell_type": "code",
      "execution_count": 231,
      "id": "906b5482-ff88-4dd7-b294-67bf6111f2b8",
      "metadata": {
        "id": "906b5482-ff88-4dd7-b294-67bf6111f2b8",
        "colab": {
          "base_uri": "https://localhost:8080/",
          "height": 414
        },
        "outputId": "f5331552-b35a-444a-a65e-2341d6cf36a0"
      },
      "outputs": [
        {
          "output_type": "execute_result",
          "data": {
            "text/plain": [
              "None of the above    1798\n",
              "Accident             1125\n",
              "Homicide              244\n",
              "Theft                 157\n",
              "Kidnapping             38\n",
              "dtype: int64"
            ]
          },
          "metadata": {},
          "execution_count": 231
        },
        {
          "output_type": "display_data",
          "data": {
            "text/plain": [
              "<Figure size 432x288 with 1 Axes>"
            ],
            "image/png": "[encoded data removed]"
          },
          "metadata": {}
        }
      ],
      "source": [
        "sns.set(style=\"darkgrid\")\n",
        "histogram = sns.histplot(Y_train_2_labeled)\n",
        "histogram.tick_params(axis='x', rotation=25)\n",
        "\n",
        "Y_train_2_labeled.value_counts()"
      ]
    },
    {
      "cell_type": "markdown",
      "source": [
        "Como se puede observar, la distribución de clases difieren mucho entre ellas, por lo que será necesario aplicar alguna técnica de Resampling para que el entrenamiento del modelo sea balanceado.\n",
        "\n",
        "A continuación se muestran algunos ejemplos pertenecientes a cada una de las clases:"
      ],
      "metadata": {
        "id": "o3GJ0cVJ3SuV"
      },
      "id": "o3GJ0cVJ3SuV"
    },
    {
      "cell_type": "code",
      "execution_count": 232,
      "id": "678abd80-d53e-4f66-baa1-256588446efd",
      "metadata": {
        "id": "678abd80-d53e-4f66-baa1-256588446efd",
        "colab": {
          "base_uri": "https://localhost:8080/"
        },
        "outputId": "888ebe22-acd0-4eda-d284-734b565663e5"
      },
      "outputs": [
        {
          "output_type": "stream",
          "name": "stdout",
          "text": [
            "Accident example: Nuevo Accidente, carril izquierdo bloqueado en #SeDallas en la I-20 WB en JJ Lemmon Rd, deténgase y regrese el tráfico a Trinity River Brg  https://t.co/6XRbCfL48n\n",
            "\n",
            "Homicide example: 📹 #VIDEOS | Ola de violencia en #Oaxaca: asesinan a magistrado, a una familia y a tres mujeres  https://t.co/CSgnsxcUD1  https://t.co/CgP46rgPLJ\n",
            "\n",
            "None of the above: #Seguridad 🚨🛑 Detuvo policía municipal a dos hombres por robo a casa habitación, en #Puebla. En la acción se recuperaron computadoras portátiles, un equipo de audio, un dispositivo de comunicación móvil, entre otros artículos. Urbano| Noticias  https://t.co/xXKSnVjz8k...  https://t.co/HcoPbEpPLk\n",
            "\n",
            "Theft: #02Julio #Comparte  ¡Ayudemos a recuperarlo!  La mañana de este viernes, se informó el robo de un vehículo Nissan, Tsuru, que es taxi del sitio Ejecutivo, con número económico 120, en la colonia Morelos de Jiutepec, con placas de circulación A671LTH.  https://t.co/RTs0mMjfkB\n",
            "\n",
            "Kidnapping: Myron Eugene Johnson de 26 años está siendo #buscado por la policía de #Statesboro por presuntamente haber provocado un #tiroteo en el pasado 1 de #enero. Johnson también enfrenta cargos por presunto #secuestro, hecho que ocurrió en el 2017. Si usted tiene info: (912) 764 - 9911.  https://t.co/nAI7HOgqJh\n"
          ]
        }
      ],
      "source": [
        "sample_index = Y_train_2_labeled[Y_train_2_labeled == 'Accident'].index[15]\n",
        "print(f\"Accident example: {X_train.loc[sample_index][text_col]}\\n\")\n",
        "\n",
        "sample_index = Y_train_2_labeled[Y_train_2_labeled == 'Homicide'].index[15]\n",
        "print(f\"Homicide example: {X_train.loc[sample_index][text_col]}\\n\")\n",
        "\n",
        "sample_index = Y_train_2_labeled[Y_train_2_labeled == 'None of the above'].index[15]\n",
        "print(f\"None of the above: {X_train.loc[sample_index][text_col]}\\n\")\n",
        "\n",
        "sample_index = Y_train_2_labeled[Y_train_2_labeled == 'Theft'].index[15]\n",
        "print(f\"Theft: {X_train.loc[sample_index][text_col]}\\n\")\n",
        "\n",
        "sample_index = Y_train_2_labeled[Y_train_2_labeled == 'Kidnapping'].index[15]\n",
        "print(f\"Kidnapping: {X_train.loc[sample_index][text_col]}\")"
      ]
    },
    {
      "cell_type": "code",
      "source": [
        "Y_train_2.columns = ['0', '1', '2', '3', '4']"
      ],
      "metadata": {
        "id": "3P8r0yLp0M48"
      },
      "id": "3P8r0yLp0M48",
      "execution_count": 233,
      "outputs": []
    },
    {
      "cell_type": "markdown",
      "source": [
        "# Resampling"
      ],
      "metadata": {
        "id": "6JGDztnyMn5a"
      },
      "id": "6JGDztnyMn5a"
    },
    {
      "cell_type": "markdown",
      "source": [
        "Obtenemos las observaciones que contienen más de una clase para que no se vean afectadas por el undersampling. Sabremos que una clase es multi-etiqueta si la suma de la pertenencia a cada clase de cada observación es mayor que 1."
      ],
      "metadata": {
        "id": "uVmAzPlEzta-"
      },
      "id": "uVmAzPlEzta-"
    },
    {
      "cell_type": "code",
      "source": [
        "multilabel_data_index = Y_train_2[Y_train_2.sum(axis=1) > 1].index\n",
        "\n",
        "multilabel_data = pd.DataFrame()\n",
        "\n",
        "multilabel_data[text_col] = X_train.loc[multilabel_data_index]\n",
        "multilabel_data[Y_train_2.columns] = Y_train_2.loc[multilabel_data_index]"
      ],
      "metadata": {
        "id": "LYMfCY4BtZba"
      },
      "id": "LYMfCY4BtZba",
      "execution_count": 234,
      "outputs": []
    },
    {
      "cell_type": "markdown",
      "source": [
        "Obtenemos las muestras que pertenecen únicamente a una clase para poder aplicar el undersampling sobre ellas, igualando el número de muestras a la clase `Homicidio`."
      ],
      "metadata": {
        "id": "bcBJm-MOz4QG"
      },
      "id": "bcBJm-MOz4QG"
    },
    {
      "cell_type": "code",
      "source": [
        "train = X_train[Y_train_2.sum(axis=1) == 1]\n",
        "\n",
        "train[Y_train_2.columns] = Y_train_2"
      ],
      "metadata": {
        "id": "sUb0L6dLz11M"
      },
      "id": "sUb0L6dLz11M",
      "execution_count": 235,
      "outputs": []
    },
    {
      "cell_type": "code",
      "source": [
        "from sklearn.utils import resample\n",
        "\n",
        "zero_class   = train[train['0'] == 1]\n",
        "first_class  = train[train['1'] == 1]\n",
        "second_class = train[train['2'] == 1]\n",
        "third_class  = train[train['3'] == 1]\n",
        "fourth_class = train[train['4'] == 1]\n",
        "\n",
        "zero_class_downsampled = resample(zero_class,\n",
        "                                  replace=True,\n",
        "                                  n_samples=len(third_class),\n",
        "                                  random_state=42)\n",
        "\n",
        "first_class_downsampled = resample(first_class,\n",
        "                                    replace=True,\n",
        "                                    n_samples=len(third_class),\n",
        "                                    random_state=42)\n",
        "\n",
        "second_class_downsampled = resample(second_class,\n",
        "                                    replace=True,\n",
        "                                    n_samples=len(third_class),\n",
        "                                    random_state=42)\n",
        "\n",
        "third_class_downsampled = resample(third_class,\n",
        "                                    replace=True,\n",
        "                                    n_samples=len(third_class),\n",
        "                                    random_state=42)\n",
        "\n",
        "fourth_class_downsampled = resample(fourth_class,\n",
        "                                    replace=True,\n",
        "                                    n_samples=len(third_class),\n",
        "                                    random_state=42)\n",
        "\n",
        "\n",
        "train = pd.concat([zero_class_downsampled,\n",
        "                    first_class_downsampled,\n",
        "                    second_class_downsampled,\n",
        "                    third_class_downsampled,\n",
        "                    fourth_class_downsampled])\n",
        "\n",
        "train"
      ],
      "metadata": {
        "colab": {
          "base_uri": "https://localhost:8080/",
          "height": 424
        },
        "id": "450hXEdMi8NS",
        "outputId": "d5667c45-424b-429c-e3d6-61b8177480bd"
      },
      "id": "450hXEdMi8NS",
      "execution_count": 236,
      "outputs": [
        {
          "output_type": "execute_result",
          "data": {
            "text/plain": [
              "                                                  tweet  0  1  2  3  4\n",
              "2597  Aún no identifican a la persona sin vida en el...  1  0  0  0  0\n",
              "3319  ¡LAMENTABLE NOTICIA! Integrantes del Conjunto ...  1  0  0  0  0\n",
              "3155  Esta noche se registra un accidente múltiple, ...  1  0  0  0  0\n",
              "350   Accidente en Cuautla deja dos lesionados   htt...  1  0  0  0  0\n",
              "1391  #ATENCIÓN 🔴 | Un aparatoso accidente se regist...  1  0  0  0  0\n",
              "...                                                 ... .. .. .. .. ..\n",
              "2718  No es meme. La cara de Bottas cuando le mostra...  0  0  0  0  1\n",
              "2718  No es meme. La cara de Bottas cuando le mostra...  0  0  0  0  1\n",
              "1839  DETIENEN A UN HOMBRE BAJO EL DELITO DE SECUEST...  0  0  0  0  1\n",
              "701   #Titulares en #MaravillaInforma ||ELN confirmó...  0  0  0  0  1\n",
              "249   Después de que en redes se reportara el presun...  0  0  0  0  1\n",
              "\n",
              "[780 rows x 6 columns]"
            ],
            "text/html": [
              "\n",
              "  <div id=\"df-7a9b531f-5ca1-417c-8d68-988a7b7e4c8d\">\n",
              "    <div class=\"colab-df-container\">\n",
              "      <div>\n",
              "<style scoped>\n",
              "    .dataframe tbody tr th:only-of-type {\n",
              "        vertical-align: middle;\n",
              "    }\n",
              "\n",
              "    .dataframe tbody tr th {\n",
              "        vertical-align: top;\n",
              "    }\n",
              "\n",
              "    .dataframe thead th {\n",
              "        text-align: right;\n",
              "    }\n",
              "</style>\n",
              "<table border=\"1\" class=\"dataframe\">\n",
              "  <thead>\n",
              "    <tr style=\"text-align: right;\">\n",
              "      <th></th>\n",
              "      <th>tweet</th>\n",
              "      <th>0</th>\n",
              "      <th>1</th>\n",
              "      <th>2</th>\n",
              "      <th>3</th>\n",
              "      <th>4</th>\n",
              "    </tr>\n",
              "  </thead>\n",
              "  <tbody>\n",
              "    <tr>\n",
              "      <th>2597</th>\n",
              "      <td>Aún no identifican a la persona sin vida en el...</td>\n",
              "      <td>1</td>\n",
              "      <td>0</td>\n",
              "      <td>0</td>\n",
              "      <td>0</td>\n",
              "      <td>0</td>\n",
              "    </tr>\n",
              "    <tr>\n",
              "      <th>3319</th>\n",
              "      <td>¡LAMENTABLE NOTICIA! Integrantes del Conjunto ...</td>\n",
              "      <td>1</td>\n",
              "      <td>0</td>\n",
              "      <td>0</td>\n",
              "      <td>0</td>\n",
              "      <td>0</td>\n",
              "    </tr>\n",
              "    <tr>\n",
              "      <th>3155</th>\n",
              "      <td>Esta noche se registra un accidente múltiple, ...</td>\n",
              "      <td>1</td>\n",
              "      <td>0</td>\n",
              "      <td>0</td>\n",
              "      <td>0</td>\n",
              "      <td>0</td>\n",
              "    </tr>\n",
              "    <tr>\n",
              "      <th>350</th>\n",
              "      <td>Accidente en Cuautla deja dos lesionados   htt...</td>\n",
              "      <td>1</td>\n",
              "      <td>0</td>\n",
              "      <td>0</td>\n",
              "      <td>0</td>\n",
              "      <td>0</td>\n",
              "    </tr>\n",
              "    <tr>\n",
              "      <th>1391</th>\n",
              "      <td>#ATENCIÓN 🔴 | Un aparatoso accidente se regist...</td>\n",
              "      <td>1</td>\n",
              "      <td>0</td>\n",
              "      <td>0</td>\n",
              "      <td>0</td>\n",
              "      <td>0</td>\n",
              "    </tr>\n",
              "    <tr>\n",
              "      <th>...</th>\n",
              "      <td>...</td>\n",
              "      <td>...</td>\n",
              "      <td>...</td>\n",
              "      <td>...</td>\n",
              "      <td>...</td>\n",
              "      <td>...</td>\n",
              "    </tr>\n",
              "    <tr>\n",
              "      <th>2718</th>\n",
              "      <td>No es meme. La cara de Bottas cuando le mostra...</td>\n",
              "      <td>0</td>\n",
              "      <td>0</td>\n",
              "      <td>0</td>\n",
              "      <td>0</td>\n",
              "      <td>1</td>\n",
              "    </tr>\n",
              "    <tr>\n",
              "      <th>2718</th>\n",
              "      <td>No es meme. La cara de Bottas cuando le mostra...</td>\n",
              "      <td>0</td>\n",
              "      <td>0</td>\n",
              "      <td>0</td>\n",
              "      <td>0</td>\n",
              "      <td>1</td>\n",
              "    </tr>\n",
              "    <tr>\n",
              "      <th>1839</th>\n",
              "      <td>DETIENEN A UN HOMBRE BAJO EL DELITO DE SECUEST...</td>\n",
              "      <td>0</td>\n",
              "      <td>0</td>\n",
              "      <td>0</td>\n",
              "      <td>0</td>\n",
              "      <td>1</td>\n",
              "    </tr>\n",
              "    <tr>\n",
              "      <th>701</th>\n",
              "      <td>#Titulares en #MaravillaInforma ||ELN confirmó...</td>\n",
              "      <td>0</td>\n",
              "      <td>0</td>\n",
              "      <td>0</td>\n",
              "      <td>0</td>\n",
              "      <td>1</td>\n",
              "    </tr>\n",
              "    <tr>\n",
              "      <th>249</th>\n",
              "      <td>Después de que en redes se reportara el presun...</td>\n",
              "      <td>0</td>\n",
              "      <td>0</td>\n",
              "      <td>0</td>\n",
              "      <td>0</td>\n",
              "      <td>1</td>\n",
              "    </tr>\n",
              "  </tbody>\n",
              "</table>\n",
              "<p>780 rows × 6 columns</p>\n",
              "</div>\n",
              "      <button class=\"colab-df-convert\" onclick=\"convertToInteractive('df-7a9b531f-5ca1-417c-8d68-988a7b7e4c8d')\"\n",
              "              title=\"Convert this dataframe to an interactive table.\"\n",
              "              style=\"display:none;\">\n",
              "        \n",
              "  <svg xmlns=\"http://www.w3.org/2000/svg\" height=\"24px\"viewBox=\"0 0 24 24\"\n",
              "       width=\"24px\">\n",
              "    <path d=\"M0 0h24v24H0V0z\" fill=\"none\"/>\n",
              "    <path d=\"M18.56 5.44l.94 2.06.94-2.06 2.06-.94-2.06-.94-.94-2.06-.94 2.06-2.06.94zm-11 1L8.5 8.5l.94-2.06 2.06-.94-2.06-.94L8.5 2.5l-.94 2.06-2.06.94zm10 10l.94 2.06.94-2.06 2.06-.94-2.06-.94-.94-2.06-.94 2.06-2.06.94z\"/><path d=\"M17.41 7.96l-1.37-1.37c-.4-.4-.92-.59-1.43-.59-.52 0-1.04.2-1.43.59L10.3 9.45l-7.72 7.72c-.78.78-.78 2.05 0 2.83L4 21.41c.39.39.9.59 1.41.59.51 0 1.02-.2 1.41-.59l7.78-7.78 2.81-2.81c.8-.78.8-2.07 0-2.86zM5.41 20L4 18.59l7.72-7.72 1.47 1.35L5.41 20z\"/>\n",
              "  </svg>\n",
              "      </button>\n",
              "      \n",
              "  <style>\n",
              "    .colab-df-container {\n",
              "      display:flex;\n",
              "      flex-wrap:wrap;\n",
              "      gap: 12px;\n",
              "    }\n",
              "\n",
              "    .colab-df-convert {\n",
              "      background-color: #E8F0FE;\n",
              "      border: none;\n",
              "      border-radius: 50%;\n",
              "      cursor: pointer;\n",
              "      display: none;\n",
              "      fill: #1967D2;\n",
              "      height: 32px;\n",
              "      padding: 0 0 0 0;\n",
              "      width: 32px;\n",
              "    }\n",
              "\n",
              "    .colab-df-convert:hover {\n",
              "      background-color: #E2EBFA;\n",
              "      box-shadow: 0px 1px 2px rgba(60, 64, 67, 0.3), 0px 1px 3px 1px rgba(60, 64, 67, 0.15);\n",
              "      fill: #174EA6;\n",
              "    }\n",
              "\n",
              "    [theme=dark] .colab-df-convert {\n",
              "      background-color: #3B4455;\n",
              "      fill: #D2E3FC;\n",
              "    }\n",
              "\n",
              "    [theme=dark] .colab-df-convert:hover {\n",
              "      background-color: #434B5C;\n",
              "      box-shadow: 0px 1px 3px 1px rgba(0, 0, 0, 0.15);\n",
              "      filter: drop-shadow(0px 1px 2px rgba(0, 0, 0, 0.3));\n",
              "      fill: #FFFFFF;\n",
              "    }\n",
              "  </style>\n",
              "\n",
              "      <script>\n",
              "        const buttonEl =\n",
              "          document.querySelector('#df-7a9b531f-5ca1-417c-8d68-988a7b7e4c8d button.colab-df-convert');\n",
              "        buttonEl.style.display =\n",
              "          google.colab.kernel.accessAllowed ? 'block' : 'none';\n",
              "\n",
              "        async function convertToInteractive(key) {\n",
              "          const element = document.querySelector('#df-7a9b531f-5ca1-417c-8d68-988a7b7e4c8d');\n",
              "          const dataTable =\n",
              "            await google.colab.kernel.invokeFunction('convertToInteractive',\n",
              "                                                     [key], {});\n",
              "          if (!dataTable) return;\n",
              "\n",
              "          const docLinkHtml = 'Like what you see? Visit the ' +\n",
              "            '<a target=\"_blank\" href=https://colab.research.google.com/notebooks/data_table.ipynb>data table notebook</a>'\n",
              "            + ' to learn more about interactive tables.';\n",
              "          element.innerHTML = '';\n",
              "          dataTable['output_type'] = 'display_data';\n",
              "          await google.colab.output.renderOutput(dataTable, element);\n",
              "          const docLink = document.createElement('div');\n",
              "          docLink.innerHTML = docLinkHtml;\n",
              "          element.appendChild(docLink);\n",
              "        }\n",
              "      </script>\n",
              "    </div>\n",
              "  </div>\n",
              "  "
            ]
          },
          "metadata": {},
          "execution_count": 236
        }
      ]
    },
    {
      "cell_type": "markdown",
      "source": [
        "Añadimos las clases originales multi.etiqueta al nuevo conjunto resampleado."
      ],
      "metadata": {
        "id": "fTppfyIV1kvI"
      },
      "id": "fTppfyIV1kvI"
    },
    {
      "cell_type": "code",
      "source": [
        "train = pd.concat([train,\n",
        "                   multilabel_data])"
      ],
      "metadata": {
        "id": "X3vThv5F0Xt9"
      },
      "id": "X3vThv5F0Xt9",
      "execution_count": 237,
      "outputs": []
    },
    {
      "cell_type": "markdown",
      "source": [
        "Dividimos el Dataframe en contenido y etiquetas y se muestra la cantidad de valores de cada clase."
      ],
      "metadata": {
        "id": "EAMoHQWe1s2L"
      },
      "id": "EAMoHQWe1s2L"
    },
    {
      "cell_type": "code",
      "source": [
        "X_train = train.loc[:, ~train.columns.isin(Y_train_2.columns)]\n",
        "Y_train_2 = train[Y_train_2.columns]\n",
        "\n",
        "Y_train_2.value_counts()"
      ],
      "metadata": {
        "colab": {
          "base_uri": "https://localhost:8080/"
        },
        "id": "aF7AFm6PqDF9",
        "outputId": "46f1b906-8cf8-45c8-9da7-e74c8f4b4e13"
      },
      "id": "aF7AFm6PqDF9",
      "execution_count": 238,
      "outputs": [
        {
          "output_type": "execute_result",
          "data": {
            "text/plain": [
              "0  1  2  3  4\n",
              "0  0  0  0  1    156\n",
              "         1  0    156\n",
              "      1  0  0    156\n",
              "   1  0  0  0    156\n",
              "1  0  0  0  0    156\n",
              "0  1  0  1  0     22\n",
              "1  1  0  0  0     16\n",
              "0  1  0  0  1      6\n",
              "   0  0  1  1      1\n",
              "dtype: int64"
            ]
          },
          "metadata": {},
          "execution_count": 238
        }
      ]
    },
    {
      "cell_type": "markdown",
      "source": [
        "# Transformer\n",
        "\n",
        "En esta sección se descargará un modelo preentrenado de transformers, concretamente [Bert Base Multilingual Uncased Sentiment](https://huggingface.co/nlptown/bert-base-multilingual-uncased-sentiment) definiendo su configuración."
      ],
      "metadata": {
        "id": "EOh4hf6OKxHg"
      },
      "id": "EOh4hf6OKxHg"
    },
    {
      "cell_type": "markdown",
      "source": [
        "En primer lugar se incluyen las librerías y dependencias necesarias para los elementos que se usarán de Transformers."
      ],
      "metadata": {
        "id": "QQ7eebeo_gFs"
      },
      "id": "QQ7eebeo_gFs"
    },
    {
      "cell_type": "code",
      "source": [
        "# instalar librerías. Esta casilla es últil por ejemplo si se ejecuta el cuaderno en Google Colab\n",
        "# Note que existen otras dependencias como tensorflow, etc. que en este caso se encontrarían ya instaladas\n",
        "%%capture\n",
        "!pip install transformers==4.2.1\n",
        "\n",
        "import tensorflow as tf\n",
        "from sklearn.feature_extraction.text import TfidfVectorizer, CountVectorizer\n",
        "from transformers import AutoTokenizer, AutoModelForSequenceClassification, TFAutoModel, TFAutoModelForSequenceClassification\n",
        "\n",
        "\n",
        "print('Done!')"
      ],
      "metadata": {
        "id": "X27KcadWK1R2"
      },
      "id": "X27KcadWK1R2",
      "execution_count": 239,
      "outputs": []
    },
    {
      "cell_type": "code",
      "source": [
        "cfg = {}  # diccionario para agrupar configuraciones y variables para su posterior uso\n",
        "cfg['framework'] = 'tf'  # TensorFlow como framework (por cuestiones del formato en los datos)\n",
        "cfg['max_length'] = 512  # máxima longitud de secuencia recomendada por DistilBERT\n",
        "cfg['number_of_additional_features'] = 5319\n",
        "cfg['num_labels'] = 5"
      ],
      "metadata": {
        "id": "GTYr-6aYdOfa"
      },
      "id": "GTYr-6aYdOfa",
      "execution_count": 250,
      "outputs": []
    },
    {
      "cell_type": "markdown",
      "source": [
        "A continuación se define el método que transformará el input de entrada (tweets en texto plano) a la entrada comprensible por el modelo, es decir, a embeddings, máscaras de atención y matrices TFIDF."
      ],
      "metadata": {
        "id": "sSQrfRK8_dTT"
      },
      "id": "sSQrfRK8_dTT"
    },
    {
      "cell_type": "code",
      "source": [
        "import nltk\n",
        "from nltk.corpus import stopwords\n",
        "\n",
        "Y_train = Y_train_1 if TASK == 1 else Y_train_2\n",
        "Y_trial = Y_trial_1 if TASK == 2 else Y_train_2\n",
        "\n",
        "nltk.download('stopwords')\n",
        "\n",
        "# función auxiliar para obtener tensores de entrada al modelo a partir del texto\n",
        "def get_model_inputs(cfg, data):\n",
        "\n",
        "  encodings = cfg['tokenizer'](data,\n",
        "                               truncation = True,\n",
        "                               padding = 'max_length',\n",
        "                               max_length = cfg['max_length'],\n",
        "                               return_tensors = cfg['framework']).data\n",
        "\n",
        "  # obtener representación tf-idf de cada instancia\n",
        "  tfidf = cfg['vectorizer'].transform(data)\n",
        "  tfidf_t = tf.convert_to_tensor(tfidf.toarray(), dtype=tf.float32)\n",
        "\n",
        "  inputs = {'input_ids': encodings['input_ids'],\n",
        "            'attention_mask': encodings['attention_mask'],\n",
        "            'tfidf': tfidf_t\n",
        "            }\n",
        "          \n",
        "  return inputs\n",
        "\n",
        "\n",
        "from sklearn.metrics import accuracy_score, classification_report, confusion_matrix, ConfusionMatrixDisplay\n",
        "from sklearn.utils.multiclass import unique_labels\n",
        "import plotly.figure_factory as ff"
      ],
      "metadata": {
        "id": "GTQGq3kh49iD",
        "colab": {
          "base_uri": "https://localhost:8080/"
        },
        "outputId": "70043f53-24d5-4993-a833-40ac77600d63"
      },
      "id": "GTQGq3kh49iD",
      "execution_count": 251,
      "outputs": [
        {
          "output_type": "stream",
          "name": "stdout",
          "text": [
            "[nltk_data] Downloading package stopwords to /root/nltk_data...\n",
            "[nltk_data]   Package stopwords is already up-to-date!\n"
          ]
        }
      ]
    },
    {
      "cell_type": "markdown",
      "source": [
        "# Definición del modelo\n",
        "\n",
        "Se define el modelo de clasificación multi-etiqueta en base al modelo pre-entrenado. Para ello, se hará uso de una última capa densa con la función de activación sigmoide."
      ],
      "metadata": {
        "id": "GPa3GhYOTyuv"
      },
      "id": "GPa3GhYOTyuv"
    },
    {
      "cell_type": "code",
      "source": [
        "def get_model_graph(cfg):\n",
        "  # transformer = TFDistilBertModel.from_pretrained(cfg['transformer_model_name'], return_dict=False).distilbert\n",
        "  transformer = TFAutoModelForSequenceClassification.from_pretrained(\"nlptown/bert-base-multilingual-uncased-sentiment\",\n",
        "                                                                     output_hidden_states = True)\n",
        "\n",
        "\n",
        "  input_ids = tf.keras.layers.Input(shape=(cfg['max_length'],), name='input_ids', dtype='int32')\n",
        "\n",
        "\n",
        "  input_masks = tf.keras.layers.Input(shape=(cfg['max_length'],), name='attention_mask', dtype='int32') \n",
        "\n",
        "\n",
        "  input_tfidf = tf.keras.layers.Input(shape = (cfg['number_of_additional_features'],),\n",
        "                                      name = 'tfidf',\n",
        "                                      dtype = 'float32') \n",
        "\n",
        "  transformer_output = transformer(input_ids,\n",
        "                                    attention_mask = input_masks)\n",
        "\n",
        "  last_hidden_state = transformer_output.hidden_states[-1]\n",
        "\n",
        "  transformes_cls_embedding = tf.keras.layers.Lambda(lambda seq: seq[:,0,:], name='lambda')(last_hidden_state)\n",
        "\n",
        "  # return last_hidden_state\n",
        "  # concatenar embedding del token [CLS] con el vector de rasgos adicionales.\n",
        "  features = tf.keras.layers.concatenate([transformes_cls_embedding, input_tfidf], name='concatenate')\n",
        "\n",
        "  # establecer algunos hiper-parámetros del modelo\n",
        "  initializer_range = 0.02\n",
        "  hiden_units = 768\n",
        "  seq_classif_dropout=0.2\n",
        "  initializer = tf.keras.initializers.TruncatedNormal(stddev=initializer_range)\n",
        "\n",
        "  # crear pre_classifier, establecer como su entrada los rasgos concatenados (features).\n",
        "  pre_classifier = tf.keras.layers.Dense(hiden_units,\n",
        "                                         kernel_initializer = initializer,\n",
        "                                         activation = 'relu',\n",
        "                                         name = 'pre_classifier')(features) \n",
        "\n",
        "  # crear dropout layer y establecer como su entrada la salida de pre_classifier.\n",
        "  dropout_layer = tf.keras.layers.Dropout(rate = seq_classif_dropout,\n",
        "                                          name ='dropout')(pre_classifier)  \n",
        "\n",
        "  # crear classifier layer y establecer como su entrada la salida de la capa dropout.\n",
        "  classifier = tf.keras.layers.Dense(cfg['num_labels'],\n",
        "                                     kernel_initializer = initializer,\n",
        "                                     name = 'classifier',\n",
        "                                     activation = 'sigmoid')(dropout_layer)\n",
        "\n",
        "  return input_ids, input_masks, input_tfidf, classifier\n",
        "\n",
        "print('Done!')"
      ],
      "metadata": {
        "id": "xhaLQgYbFc3h",
        "colab": {
          "base_uri": "https://localhost:8080/"
        },
        "outputId": "e12a5f99-f8a8-484f-8df5-8fec2a4035ff"
      },
      "id": "xhaLQgYbFc3h",
      "execution_count": 252,
      "outputs": [
        {
          "output_type": "stream",
          "name": "stdout",
          "text": [
            "Done!\n"
          ]
        }
      ]
    },
    {
      "cell_type": "markdown",
      "source": [
        "# Instanciar tokenizador, tf-idf vectorizer, etc.\n",
        "\n",
        "Se inicializan los tokenizadores para tratar las frases de entrada, así como los vectorizadores y binarizadores de etiquetas."
      ],
      "metadata": {
        "id": "ob0NQPcu712b"
      },
      "id": "ob0NQPcu712b"
    },
    {
      "cell_type": "code",
      "source": [
        "from sklearn import preprocessing\n",
        "\n",
        "cfg['tokenizer'] = AutoTokenizer.from_pretrained(\"nlptown/bert-base-multilingual-uncased-sentiment\")\n",
        "\n",
        "# instanciar TfidfVectorizer\n",
        "cfg['vectorizer'] = TfidfVectorizer(stop_words = stopwords.words('spanish'),\n",
        "                                    max_features = cfg['number_of_additional_features'])\n",
        "\n",
        "# entrenar TfidfVectorizer\n",
        "cfg['vectorizer'].fit(X_train[text_col].to_list())\n",
        "\n",
        "cfg['label_binarizer'] = preprocessing.LabelBinarizer() \n",
        "\n",
        "# entrenar LabelBinarizer\n",
        "cfg['label_binarizer'].fit(Y_train)"
      ],
      "metadata": {
        "id": "QzY8BCX470X_",
        "colab": {
          "base_uri": "https://localhost:8080/"
        },
        "outputId": "8e9ee62e-abee-4a2a-fecb-b660229b8ad6"
      },
      "id": "QzY8BCX470X_",
      "execution_count": 253,
      "outputs": [
        {
          "output_type": "execute_result",
          "data": {
            "text/plain": [
              "LabelBinarizer()"
            ]
          },
          "metadata": {},
          "execution_count": 253
        }
      ]
    },
    {
      "cell_type": "markdown",
      "source": [
        "# Inicialización de entrada"
      ],
      "metadata": {
        "id": "nKM-VJk-DOcT"
      },
      "id": "nKM-VJk-DOcT"
    },
    {
      "cell_type": "markdown",
      "source": [
        "Se transforman los datos de entrada a los inputs del transformer, que constan de la tokenización del texto, las máscaras y el vectorizador TFIDF."
      ],
      "metadata": {
        "id": "JxZInZQV8rvv"
      },
      "id": "JxZInZQV8rvv"
    },
    {
      "cell_type": "code",
      "source": [
        "train_inputs = get_model_inputs(cfg, X_train[text_col].to_list())\n",
        "trial_inputs = get_model_inputs(cfg, X_trial[text_col].to_list())"
      ],
      "metadata": {
        "id": "4unKS7Xk90kO"
      },
      "id": "4unKS7Xk90kO",
      "execution_count": 254,
      "outputs": []
    },
    {
      "cell_type": "code",
      "source": [
        "\n",
        "def multi_label_accuracy(y_true: tf.Tensor, y_pred: tf.Tensor) -> tf.Tensor:\n",
        "    \"\"\"For multi-label classification, one has to define a custom\n",
        "    acccuracy function because neither tf.keras.metrics.Accuracy nor\n",
        "    tf.keras.metrics.CategoricalAccuracy evaluate the number of \n",
        "    exact matches.\n",
        "\n",
        "    :Example:\n",
        "    >>> from tensorflow.keras import metrics\n",
        "    >>> y_true = tf.convert_to_tensor([[1., 1.]])\n",
        "    >>> y_pred = tf.convert_to_tensor([[1., 0.]])\n",
        "    >>> metrics.Accuracy()(y_true, y_pred).numpy()\n",
        "    0.5\n",
        "    >>> metrics.CategoricalAccuracy()(y_true, y_pred).numpy()\n",
        "    1.0\n",
        "    >>> multi_label_accuracy(y_true, y_pred).numpy()\n",
        "    0.0\n",
        "    \"\"\"   \n",
        "    y_pred = tf.math.round(y_pred)\n",
        "    exact_matches = tf.math.reduce_all(y_pred == y_true, axis=1)\n",
        "    exact_matches = tf.cast(exact_matches, tf.float32)\n",
        "    return tf.math.reduce_mean(exact_matches)"
      ],
      "metadata": {
        "id": "ujfJ-H7LSnE7"
      },
      "id": "ujfJ-H7LSnE7",
      "execution_count": 255,
      "outputs": []
    },
    {
      "cell_type": "markdown",
      "source": [
        "Se define el método que configurará el modelo. Además, se añaden las métricas de clasificación multi-etiqueta para mostrarlas durante el entrenamiento."
      ],
      "metadata": {
        "id": "uV8kR2Xk-I6L"
      },
      "id": "uV8kR2Xk-I6L"
    },
    {
      "cell_type": "code",
      "source": [
        "from tensorflow.keras.losses import BinaryCrossentropy\n",
        "from tensorflow.keras.metrics import AUC\n",
        "\n",
        "def configure_model(input_ids, input_masks, input_tfidf, classifier):\n",
        "  # definir algoritmo de optimización\n",
        "  optimizer = tf.keras.optimizers.Adam(learning_rate=5e-5)\n",
        "\n",
        "  # definir función loss. Debe cuidarse que sea coherente con la salida esperada del modelo (vector de num_labels elementos)\n",
        "  # y el formato de los ejemplos (vector one-hot de num_labels componentes para codificar las categorías)\n",
        "  if (TASK == 1):\n",
        "    loss = tf.keras.losses.BinaryCrossentropy(from_logits=True)\n",
        "  else :\n",
        "      metric = 'categorical_crossentropy'\n",
        "      loss = BinaryCrossentropy()\n",
        "\n",
        "  # crear el modelo\n",
        "  model = tf.keras.Model(inputs=[input_ids, input_masks, input_tfidf], outputs=classifier, name='distilbert-custom') # conectar todos los nodos en un modelo\n",
        "  \n",
        "  metrics = [\n",
        "      multi_label_accuracy,\n",
        "      \"binary_accuracy\", \n",
        "      AUC(name=\"average_precision\", curve=\"PR\", multi_label=True)\n",
        "  ]\n",
        "\n",
        "  model.compile(loss = loss,\n",
        "                metrics = metrics,\n",
        "                optimizer = optimizer)\n",
        "\n",
        "  return model\n",
        "\n",
        "print('Done!')"
      ],
      "metadata": {
        "id": "ff-O7cKT1Txj",
        "colab": {
          "base_uri": "https://localhost:8080/"
        },
        "outputId": "a7b916f5-6a1c-4674-ffa8-08649cdf5e7b"
      },
      "id": "ff-O7cKT1Txj",
      "execution_count": 256,
      "outputs": [
        {
          "output_type": "stream",
          "name": "stdout",
          "text": [
            "Done!\n"
          ]
        }
      ]
    },
    {
      "cell_type": "markdown",
      "source": [
        "Se llama al método de inicialización del modelo y se muestra la arquitectura de la red por pantalla."
      ],
      "metadata": {
        "id": "WdKxVkXu88cW"
      },
      "id": "WdKxVkXu88cW"
    },
    {
      "cell_type": "code",
      "source": [
        "input_ids, input_masks, input_tfidf, classifier = get_model_graph(cfg)\n",
        "model = configure_model(input_ids, input_masks, input_tfidf, classifier)\n",
        "\n",
        "# imprimir sumario del modelo \n",
        "model.summary()\n",
        "\n",
        "\n",
        "print('Done!')"
      ],
      "metadata": {
        "id": "l7i6gtDR4GVH",
        "colab": {
          "base_uri": "https://localhost:8080/"
        },
        "outputId": "36bad601-e6c0-40cb-d5c5-95571824b141"
      },
      "id": "l7i6gtDR4GVH",
      "execution_count": 257,
      "outputs": [
        {
          "output_type": "stream",
          "name": "stderr",
          "text": [
            "Some layers from the model checkpoint at nlptown/bert-base-multilingual-uncased-sentiment were not used when initializing TFBertForSequenceClassification: ['dropout_37']\n",
            "- This IS expected if you are initializing TFBertForSequenceClassification from the checkpoint of a model trained on another task or with another architecture (e.g. initializing a BertForSequenceClassification model from a BertForPreTraining model).\n",
            "- This IS NOT expected if you are initializing TFBertForSequenceClassification from the checkpoint of a model that you expect to be exactly identical (initializing a BertForSequenceClassification model from a BertForSequenceClassification model).\n",
            "All the layers of TFBertForSequenceClassification were initialized from the model checkpoint at nlptown/bert-base-multilingual-uncased-sentiment.\n",
            "If your task is similar to the task the model of the checkpoint was trained on, you can already use TFBertForSequenceClassification for predictions without further training.\n",
            "The parameters `output_attentions`, `output_hidden_states` and `use_cache` cannot be updated when calling a model.They have to be set to True/False in the config object (i.e.: `config=XConfig.from_pretrained('name', output_attentions=True)`).\n",
            "The parameter `return_dict` cannot be set in graph mode and will always be set to `True`.\n"
          ]
        },
        {
          "output_type": "stream",
          "name": "stdout",
          "text": [
            "Model: \"distilbert-custom\"\n",
            "__________________________________________________________________________________________________\n",
            " Layer (type)                   Output Shape         Param #     Connected to                     \n",
            "==================================================================================================\n",
            " input_ids (InputLayer)         [(None, 512)]        0           []                               \n",
            "                                                                                                  \n",
            " attention_mask (InputLayer)    [(None, 512)]        0           []                               \n",
            "                                                                                                  \n",
            " tf_bert_for_sequence_classific  TFSequenceClassifie  167360261  ['input_ids[0][0]',              \n",
            " ation_4 (TFBertForSequenceClas  rOutput(loss=None,               'attention_mask[0][0]']         \n",
            " sification)                    logits=(None, 5),                                                 \n",
            "                                 hidden_states=((No                                               \n",
            "                                ne, 512, 768),                                                    \n",
            "                                 (None, 512, 768),                                                \n",
            "                                 (None, 512, 768),                                                \n",
            "                                 (None, 512, 768),                                                \n",
            "                                 (None, 512, 768),                                                \n",
            "                                 (None, 512, 768),                                                \n",
            "                                 (None, 512, 768),                                                \n",
            "                                 (None, 512, 768),                                                \n",
            "                                 (None, 512, 768),                                                \n",
            "                                 (None, 512, 768),                                                \n",
            "                                 (None, 512, 768),                                                \n",
            "                                 (None, 512, 768),                                                \n",
            "                                 (None, 512, 768)),                                               \n",
            "                                 attentions=None)                                                 \n",
            "                                                                                                  \n",
            " lambda (Lambda)                (None, 768)          0           ['tf_bert_for_sequence_classifica\n",
            "                                                                 tion_4[0][12]']                  \n",
            "                                                                                                  \n",
            " tfidf (InputLayer)             [(None, 5319)]       0           []                               \n",
            "                                                                                                  \n",
            " concatenate (Concatenate)      (None, 6087)         0           ['lambda[0][0]',                 \n",
            "                                                                  'tfidf[0][0]']                  \n",
            "                                                                                                  \n",
            " pre_classifier (Dense)         (None, 768)          4675584     ['concatenate[0][0]']            \n",
            "                                                                                                  \n",
            " dropout (Dropout)              (None, 768)          0           ['pre_classifier[0][0]']         \n",
            "                                                                                                  \n",
            " classifier (Dense)             (None, 5)            3845        ['dropout[0][0]']                \n",
            "                                                                                                  \n",
            "==================================================================================================\n",
            "Total params: 172,039,690\n",
            "Trainable params: 172,039,690\n",
            "Non-trainable params: 0\n",
            "__________________________________________________________________________________________________\n",
            "Done!\n"
          ]
        }
      ]
    },
    {
      "cell_type": "markdown",
      "source": [
        "# Train model\n",
        "\n",
        "A continuación se realiza el fine tunning del transformer para el dominio específico de nuestro problema, es decir, la clasificación multi-etiqueta de los tweets."
      ],
      "metadata": {
        "id": "0j8umDGv4PF0"
      },
      "id": "0j8umDGv4PF0"
    },
    {
      "cell_type": "code",
      "source": [
        "from tqdm import tqdm\n",
        "\n",
        "# gpu_options = tf.GPUOptions(allow_growth=True)\n",
        "# session = tf.InteractiveSession(config=tf.ConfigProto(gpu_options=gpu_options))\n",
        "\n",
        "epochs_max = 2\n",
        "epochs_to_save = 1\n",
        "batch_size = 8\n",
        "\n",
        "# ciclo de entrenamiento y guardar checkpoints\n",
        "for epoch in tqdm(range(0, epochs_max, epochs_to_save)):\n",
        "    print('Training model, epochs {0} - {1}'.format(epoch+1, epoch+epochs_to_save))\n",
        "    \n",
        "    # entrenar el modelo. Opcionalmente, se puede suministrar datos de validación => validation_data=(val_inputs,val_blabels_t )\n",
        "    history = model.fit(train_inputs,\n",
        "                        y = Y_train_2,\n",
        "                        epochs = epochs_to_save,\n",
        "                        batch_size = batch_size,\n",
        "                        validation_data = (trial_inputs, Y_trial_2))\n",
        "    \n",
        "    model.save_weights(f\"task_{TASK}\", save_format=\"tf\")\n",
        "    \n",
        "print('Done!')"
      ],
      "metadata": {
        "id": "Ay9s_omP4HJX",
        "colab": {
          "base_uri": "https://localhost:8080/"
        },
        "outputId": "504a1e8d-aeb5-4fac-83e4-fb29b419ba55"
      },
      "id": "Ay9s_omP4HJX",
      "execution_count": 267,
      "outputs": [
        {
          "output_type": "stream",
          "name": "stderr",
          "text": [
            "\r  0%|          | 0/2 [00:00<?, ?it/s]"
          ]
        },
        {
          "output_type": "stream",
          "name": "stdout",
          "text": [
            "Training model, epochs 1 - 1\n",
            "104/104 [==============================] - 96s 922ms/step - loss: 0.3636 - multi_label_accuracy: 0.4844 - binary_accuracy: 0.8570 - average_precision: 0.6188 - val_loss: 0.3804 - val_multi_label_accuracy: 0.3571 - val_binary_accuracy: 0.8360 - val_average_precision: 0.5858\n"
          ]
        },
        {
          "output_type": "stream",
          "name": "stderr",
          "text": [
            "\r 50%|█████     | 1/2 [02:31<02:31, 151.20s/it]"
          ]
        },
        {
          "output_type": "stream",
          "name": "stdout",
          "text": [
            "Training model, epochs 2 - 2\n",
            "104/104 [==============================] - 97s 932ms/step - loss: 0.3246 - multi_label_accuracy: 0.5974 - binary_accuracy: 0.8807 - average_precision: 0.7020 - val_loss: 0.3662 - val_multi_label_accuracy: 0.5536 - val_binary_accuracy: 0.8440 - val_average_precision: 0.6336\n"
          ]
        },
        {
          "output_type": "stream",
          "name": "stderr",
          "text": [
            "100%|██████████| 2/2 [05:02<00:00, 151.14s/it]"
          ]
        },
        {
          "output_type": "stream",
          "name": "stdout",
          "text": [
            "Done!\n"
          ]
        },
        {
          "output_type": "stream",
          "name": "stderr",
          "text": [
            "\n"
          ]
        }
      ]
    },
    {
      "cell_type": "markdown",
      "source": [
        "# Results"
      ],
      "metadata": {
        "id": "awH-7J-NAVP9"
      },
      "id": "awH-7J-NAVP9"
    },
    {
      "cell_type": "markdown",
      "source": [
        "En este punto se mostrarán los resultados del modelo entrenado para cada uno de los conjuntos de datos: entrenamiento, validación y test."
      ],
      "metadata": {
        "id": "GwXyZtRKE97B"
      },
      "id": "GwXyZtRKE97B"
    },
    {
      "cell_type": "markdown",
      "source": [
        "## Train Data"
      ],
      "metadata": {
        "id": "vb21nxR9AYhQ"
      },
      "id": "vb21nxR9AYhQ"
    },
    {
      "cell_type": "markdown",
      "source": [
        "A continuación se mostrarán los resultados de la predicción del modelo sobre los datos de entrenamientp. Unos resultados prometedores sobre este conjunto de datos no implican un buen rendimiento del modelo. Esta primera clasificación nos servirá para tener una primera referencia de cómo ha entrenado el modelo. "
      ],
      "metadata": {
        "id": "pUtBoEkVSnko"
      },
      "id": "pUtBoEkVSnko"
    },
    {
      "cell_type": "code",
      "source": [
        "data = X_train\n",
        "true_labels = Y_train_2\n",
        "\n",
        "inputs = get_model_inputs(cfg, data[text_col].to_list())\n",
        "\n",
        "scores = model.predict(inputs)\n",
        "labels = cfg['label_binarizer'].inverse_transform(scores)\n",
        "\n",
        "print(classification_report(true_labels, labels))"
      ],
      "metadata": {
        "colab": {
          "base_uri": "https://localhost:8080/"
        },
        "id": "3iBPiHiFAaJ7",
        "outputId": "7383ffdc-66a5-4263-f3f5-45bef8a5ba02"
      },
      "id": "3iBPiHiFAaJ7",
      "execution_count": 268,
      "outputs": [
        {
          "output_type": "stream",
          "name": "stdout",
          "text": [
            "              precision    recall  f1-score   support\n",
            "\n",
            "           0       0.76      0.77      0.77       172\n",
            "           1       0.81      0.70      0.75       200\n",
            "           2       0.79      0.63      0.70       156\n",
            "           3       0.87      0.59      0.70       179\n",
            "           4       0.92      0.94      0.93       163\n",
            "\n",
            "   micro avg       0.83      0.72      0.77       870\n",
            "   macro avg       0.83      0.73      0.77       870\n",
            "weighted avg       0.83      0.72      0.77       870\n",
            " samples avg       0.76      0.75      0.76       870\n",
            "\n"
          ]
        },
        {
          "output_type": "stream",
          "name": "stderr",
          "text": [
            "/usr/local/lib/python3.7/dist-packages/sklearn/metrics/_classification.py:1318: UndefinedMetricWarning: Precision and F-score are ill-defined and being set to 0.0 in samples with no predicted labels. Use `zero_division` parameter to control this behavior.\n",
            "  _warn_prf(average, modifier, msg_start, len(result))\n"
          ]
        },
        {
          "output_type": "execute_result",
          "data": {
            "text/plain": [
              "array([[[612,  41],\n",
              "        [ 40, 132]],\n",
              "\n",
              "       [[591,  34],\n",
              "        [ 59, 141]],\n",
              "\n",
              "       [[643,  26],\n",
              "        [ 58,  98]],\n",
              "\n",
              "       [[630,  16],\n",
              "        [ 74, 105]],\n",
              "\n",
              "       [[648,  14],\n",
              "        [  9, 154]]])"
            ]
          },
          "metadata": {},
          "execution_count": 268
        }
      ]
    },
    {
      "cell_type": "markdown",
      "source": [
        "Como podemos observar en el reporte de clasificación, generalmente obtenemos buenos resultados para todas las clases, por lo que se puede deducir que el modelo ha entrenado teniendo en cuenta todas las clases del conjunto de datos."
      ],
      "metadata": {
        "id": "foBS3lEa_uhO"
      },
      "id": "foBS3lEa_uhO"
    },
    {
      "cell_type": "markdown",
      "source": [
        "## Trial Data"
      ],
      "metadata": {
        "id": "rJqfvoFCAfjc"
      },
      "id": "rJqfvoFCAfjc"
    },
    {
      "cell_type": "markdown",
      "source": [
        "En esta sección se evaluará el modelo respecto a los datos de validación que se han utilizado en la etapa de entrenamiento del modelo. Al disponer de las etiquetas verdaderas sobre este conjunto, se puede evaluar cómo generaliza con respecto a nuevos datos."
      ],
      "metadata": {
        "id": "dvkIsF-YVWaK"
      },
      "id": "dvkIsF-YVWaK"
    },
    {
      "cell_type": "code",
      "source": [
        "data = X_trial\n",
        "true_labels = Y_trial_2\n",
        "\n",
        "inputs = get_model_inputs(cfg, data[text_col].to_list())\n",
        "\n",
        "scores = model.predict(inputs)\n",
        "labels = cfg['label_binarizer'].inverse_transform(scores)\n",
        "\n",
        "df = pd.DataFrame(labels, columns = ['0','1','2','3','4'])\n",
        "df.value_counts()\n",
        "\n",
        "print(classification_report(true_labels, labels))"
      ],
      "metadata": {
        "colab": {
          "base_uri": "https://localhost:8080/"
        },
        "id": "cSQp0p_eC7Bc",
        "outputId": "703869b2-fe52-4d1d-db45-99b40f51bcb1"
      },
      "id": "cSQp0p_eC7Bc",
      "execution_count": 271,
      "outputs": [
        {
          "output_type": "stream",
          "name": "stdout",
          "text": [
            "              precision    recall  f1-score   support\n",
            "\n",
            "           0       0.67      0.83      0.74        12\n",
            "           1       0.36      0.80      0.50         5\n",
            "           2       1.00      0.37      0.54        27\n",
            "           3       0.44      0.80      0.57         5\n",
            "           4       1.00      0.50      0.67         2\n",
            "\n",
            "   micro avg       0.63      0.57      0.60        51\n",
            "   macro avg       0.69      0.66      0.60        51\n",
            "weighted avg       0.80      0.57      0.59        51\n",
            " samples avg       0.58      0.57      0.57        51\n",
            "\n"
          ]
        },
        {
          "output_type": "stream",
          "name": "stderr",
          "text": [
            "/usr/local/lib/python3.7/dist-packages/sklearn/metrics/_classification.py:1318: UndefinedMetricWarning: Precision and F-score are ill-defined and being set to 0.0 in samples with no predicted labels. Use `zero_division` parameter to control this behavior.\n",
            "  _warn_prf(average, modifier, msg_start, len(result))\n"
          ]
        }
      ]
    },
    {
      "cell_type": "markdown",
      "source": [
        "Observamos que la predicción de los elementos de validación no se corresponden con las métricas prometedoras del conjunto de entrenamiento como ya habíamos avanzado. No obstante, se podría considerar que no son malos resultados comparados con el resto de concursantes del [reto](https://codalab.lisn.upsaclay.fr/competitions/2638#results) respecto a este mismo conjunto de datos."
      ],
      "metadata": {
        "id": "MVZKLAfpBAjl"
      },
      "id": "MVZKLAfpBAjl"
    },
    {
      "cell_type": "markdown",
      "source": [
        "# Predicciones"
      ],
      "metadata": {
        "id": "5XWdNbG9CrJS"
      },
      "id": "5XWdNbG9CrJS"
    },
    {
      "cell_type": "markdown",
      "source": [
        "En esta sección se facilita un método para testar el comportamiento del modelo. A modo de ejemplo se ofrece un tweet perteneciente al conjunto de datos de test para evaluar a qué categoría/s pertenece."
      ],
      "metadata": {
        "id": "KiWniBuWCuYC"
      },
      "id": "KiWniBuWCuYC"
    },
    {
      "cell_type": "code",
      "source": [
        "example_tweet = X_test.iloc[0]\n",
        "print(f\"Tweet de ejemplo: {example_tweet[text_col]}\\n\")\n",
        "\n",
        "input = get_model_inputs(cfg, example_tweet.to_list())\n",
        "\n",
        "scores = model.predict(input)\n",
        "labels = cfg['label_binarizer'].inverse_transform(scores)\n",
        "\n",
        "human_label = ['Accident', 'Homicide', 'None of the above', 'Theft', 'Kidnapping']\n",
        "\n",
        "positions = np.where(labels == 1)[1]\n",
        "mapped_indexes =  map(human_label.__getitem__, positions)\n",
        "\n",
        "list(mapped_indexes)"
      ],
      "metadata": {
        "colab": {
          "base_uri": "https://localhost:8080/"
        },
        "id": "F8XK4LcsC5La",
        "outputId": "95135716-1e1f-460b-ff54-f5d45dad7030"
      },
      "id": "F8XK4LcsC5La",
      "execution_count": 292,
      "outputs": [
        {
          "output_type": "stream",
          "name": "stdout",
          "text": [
            "Tweet de ejemplo: Un vehículo rodó varios metros por la pendiente de la carretera en el municipio de #Socha en #Boyacá.  Tras el accidente, el conductor quedó con algunas heridas y fracturas, mientras que el vehículo quedó semi destruido, varios semovientes que transportaba murieron en el lugar.  https://t.co/56DiOjd8z3\n",
            "\n"
          ]
        },
        {
          "output_type": "execute_result",
          "data": {
            "text/plain": [
              "['Accident']"
            ]
          },
          "metadata": {},
          "execution_count": 292
        }
      ]
    },
    {
      "cell_type": "markdown",
      "source": [
        "# Conclusiones\n",
        "\n",
        "Como hemos podido comprobar, esta implementación del transformer para clasificación de instancias multietiqueta provee un rendimiento aceptable para las clases en comparación con la puntuación del resto de resultados del resto de participantes ([Resultados Competidores DaVincis](https://codalab.lisn.upsaclay.fr/competitions/2638#participate-submit_results)).\n",
        "\n",
        "Para intentar mejorar esta implementación podría hacerse uso de arquitecturas `NAS` que busquen la mejor arquitectura para clasificación multi-etiqueta, o el uso de la librería `Optuna` para el mismo propósito. Otra opción interesante sería estudiar otra forma de balancear los datos, intentando remuestrear aquellas clases minoritarias o realizar el downsampling respecto al número de instancias de una clase más numerosa. Además, se podría buscar otro valor para el tamaño de batch, que por limitaciones de recursos de Google Colab se ha tenido que reducir hasta 8, aumentar este valor podría mejorar el rendimiento del modelo.\n",
        "\n",
        "Lamentablemente, por limitaciones de tiempo, estas mejoras no se han podido implementar."
      ],
      "metadata": {
        "id": "-SpV1uavi3Ce"
      },
      "id": "-SpV1uavi3Ce"
    },
    {
      "cell_type": "markdown",
      "source": [
        "# Opinión Personal"
      ],
      "metadata": {
        "id": "4JAaeFPPBQsL"
      },
      "id": "4JAaeFPPBQsL"
    },
    {
      "cell_type": "markdown",
      "source": [
        "Me ha gustado bastante esta práctica, el hecho de competir con otros usuarios buscando mejorar los resultados. Sin embargo, debido a limitaciones de tiempo de otras asignaturas y TFM, no le he podido dedicar todo el tiempo que me hubiera gustado para mejorarlo y observar mis resultados respecto al resto de participantes. Lamentablemente el concurso cerró hace un par de días y me he quedado con las ganas, así que estaré pendiente de los retos que se proponen a partir de ahora que tendré más tiempo libre."
      ],
      "metadata": {
        "id": "BGuPivEnBSXs"
      },
      "id": "BGuPivEnBSXs"
    }
  ],
  "metadata": {
    "kernelspec": {
      "display_name": "Python 3",
      "name": "python3"
    },
    "language_info": {
      "name": "python"
    },
    "colab": {
      "name": "Main2.ipynb",
      "provenance": [],
      "collapsed_sections": [],
      "toc_visible": true,
      "include_colab_link": true
    },
    "accelerator": "GPU"
  },
  "nbformat": 4,
  "nbformat_minor": 5
}